{
 "cells": [
  {
   "cell_type": "code",
   "execution_count": 1,
   "metadata": {},
   "outputs": [],
   "source": [
    "import requests\n",
    "import pandas as pd\n",
    "from io import BytesIO\n",
    "\n",
    "def download_csv(csv_url):\n",
    "    response = requests.get(csv_url)\n",
    "    response.raise_for_status()\n",
    "\n",
    "    try:\n",
    "        df = pd.read_csv(BytesIO(response.content), sep=',')\n",
    "    except pd.errors.ParserError:\n",
    "        df = pd.read_csv(BytesIO(response.content), sep=';', error_bad_lines=False)\n",
    "\n",
    "    return df"
   ]
  },
  {
   "cell_type": "code",
   "execution_count": 2,
   "metadata": {},
   "outputs": [],
   "source": [
    "# Scarica il DataFrame\n",
    "recipes_df = download_csv(\"https://github.com/GiovTemp/SustainaMeal_Case_Study/raw/main/data/final_recipes_set.csv\")"
   ]
  },
  {
   "cell_type": "code",
   "execution_count": 3,
   "metadata": {},
   "outputs": [
    {
     "name": "stderr",
     "output_type": "stream",
     "text": [
      "PandasGUI INFO — pandasgui.gui — Opening PandasGUI\n",
      "C:\\Users\\Utente\\AppData\\Local\\Temp\\ipykernel_1876\\1303787788.py:4: FutureWarning: Series.__getitem__ treating keys as positions is deprecated. In a future version, integer keys will always be treated as labels (consistent with DataFrame behavior). To access a value by position, use `ser.iloc[pos]`\n",
      "  gui = show(recipes_df)\n",
      "C:\\Users\\Utente\\AppData\\Local\\Temp\\ipykernel_1876\\1303787788.py:4: FutureWarning: Series.__getitem__ treating keys as positions is deprecated. In a future version, integer keys will always be treated as labels (consistent with DataFrame behavior). To access a value by position, use `ser.iloc[pos]`\n",
      "  gui = show(recipes_df)\n",
      "C:\\Users\\Utente\\AppData\\Local\\Temp\\ipykernel_1876\\1303787788.py:4: FutureWarning:\n",
      "\n",
      "Series.__getitem__ treating keys as positions is deprecated. In a future version, integer keys will always be treated as labels (consistent with DataFrame behavior). To access a value by position, use `ser.iloc[pos]`\n",
      "\n",
      "C:\\Users\\Utente\\AppData\\Local\\Temp\\ipykernel_1876\\1303787788.py:4: FutureWarning:\n",
      "\n",
      "Series.__getitem__ treating keys as positions is deprecated. In a future version, integer keys will always be treated as labels (consistent with DataFrame behavior). To access a value by position, use `ser.iloc[pos]`\n",
      "\n",
      "C:\\Users\\Utente\\AppData\\Local\\Temp\\ipykernel_1876\\1303787788.py:4: FutureWarning:\n",
      "\n",
      "Series.__getitem__ treating keys as positions is deprecated. In a future version, integer keys will always be treated as labels (consistent with DataFrame behavior). To access a value by position, use `ser.iloc[pos]`\n",
      "\n",
      "C:\\Users\\Utente\\AppData\\Local\\Temp\\ipykernel_1876\\1303787788.py:4: FutureWarning:\n",
      "\n",
      "Series.__getitem__ treating keys as positions is deprecated. In a future version, integer keys will always be treated as labels (consistent with DataFrame behavior). To access a value by position, use `ser.iloc[pos]`\n",
      "\n"
     ]
    }
   ],
   "source": [
    "from pandasgui import show\n",
    "\n",
    "# Mostra il DataFrame in una GUI interattiva\n",
    "gui = show(recipes_df)\n"
   ]
  }
 ],
 "metadata": {
  "kernelspec": {
   "display_name": "venv",
   "language": "python",
   "name": "python3"
  },
  "language_info": {
   "codemirror_mode": {
    "name": "ipython",
    "version": 3
   },
   "file_extension": ".py",
   "mimetype": "text/x-python",
   "name": "python",
   "nbconvert_exporter": "python",
   "pygments_lexer": "ipython3",
   "version": "3.12.2"
  }
 },
 "nbformat": 4,
 "nbformat_minor": 2
}

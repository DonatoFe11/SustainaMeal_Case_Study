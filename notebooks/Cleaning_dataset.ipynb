{
 "cells": [
  {
   "cell_type": "markdown",
   "metadata": {},
   "source": [
    "# Download Data"
   ]
  },
  {
   "cell_type": "code",
   "execution_count": 1,
   "metadata": {},
   "outputs": [],
   "source": [
    "import requests\n",
    "import pandas as pd\n",
    "from io import BytesIO\n",
    "\n",
    "def download_csv(csv_url):\n",
    "    response = requests.get(csv_url)\n",
    "    response.raise_for_status()\n",
    "\n",
    "    try:\n",
    "        df = pd.read_csv(BytesIO(response.content), sep=',', low_memory=False)\n",
    "    except pd.errors.ParserError:\n",
    "        df = pd.read_csv(BytesIO(response.content), sep=';', error_bad_lines=False)\n",
    "\n",
    "    return df"
   ]
  },
  {
   "cell_type": "code",
   "execution_count": 2,
   "metadata": {},
   "outputs": [],
   "source": [
    "recipes_df = download_csv(\"https://media.githubusercontent.com/media/DonatoFe11/SustainaMeal_Case_Study/master/data/final_recipes_set.csv\")"
   ]
  },
  {
   "cell_type": "markdown",
   "metadata": {},
   "source": [
    "Individua le righe in corrrispondenza delle quali il valore di `sustainability_score` non è numerico."
   ]
  },
  {
   "cell_type": "code",
   "execution_count": 4,
   "metadata": {},
   "outputs": [
    {
     "name": "stdout",
     "output_type": "stream",
     "text": [
      "Valori non numerici trovati nella colonna 'sustainability_score' nelle seguenti ricette:\n",
      "Index([  437,   839,  1089,  4739,  7116,  7803,  8443, 10111, 10565, 17733,\n",
      "       17745, 18468, 19129, 19863, 20122, 20244, 21947, 23251, 25671, 25698,\n",
      "       28453, 29334, 29630, 30170, 32549, 35543, 35630, 35830, 37433, 37477,\n",
      "       40054, 40798, 42149, 42606, 42951, 43446, 44744, 44808, 46500, 47610,\n",
      "       48905, 49934, 50919, 51482, 52423, 52561, 52598, 54247, 55855, 57519,\n",
      "       59971, 60162, 60592, 60735, 60763, 60967, 61038, 61900, 63973, 66028,\n",
      "       67297, 68138, 68681, 69667, 71550, 71811, 72027, 73486, 73725, 73902,\n",
      "       73937, 73957, 76849, 77204, 77801, 78406, 79321, 83609, 84085, 89539,\n",
      "       90470, 93353],\n",
      "      dtype='int64')\n"
     ]
    }
   ],
   "source": [
    "pd.set_option('display.max_rows', None)\n",
    "\n",
    "# Identifica righe con valori non numerici in 'sustainability_score'\n",
    "non_numeric_rows = pd.to_numeric(recipes_df['sustainability_score'], errors='coerce').isna()\n",
    "\n",
    "# Mostra le righe che contengono valori non numerici\n",
    "df_non_numeric = recipes_df[non_numeric_rows]\n",
    "\n",
    "# Visualizza gli indici delle righe con valori non numerici (se presenti)\n",
    "if not df_non_numeric.empty:\n",
    "    print(\"Valori non numerici trovati nella colonna 'sustainability_score' nelle seguenti ricette:\")\n",
    "    print(df_non_numeric.index)\n",
    "else:\n",
    "    print(\"Tutti i valori in 'sustainability_score' sono numerici.\")\n"
   ]
  }
 ],
 "metadata": {
  "kernelspec": {
   "display_name": "venv",
   "language": "python",
   "name": "python3"
  },
  "language_info": {
   "codemirror_mode": {
    "name": "ipython",
    "version": 3
   },
   "file_extension": ".py",
   "mimetype": "text/x-python",
   "name": "python",
   "nbconvert_exporter": "python",
   "pygments_lexer": "ipython3",
   "version": "3.8.10"
  }
 },
 "nbformat": 4,
 "nbformat_minor": 2
}

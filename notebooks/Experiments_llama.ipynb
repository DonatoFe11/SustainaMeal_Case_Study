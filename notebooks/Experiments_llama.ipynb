{
 "cells": [
  {
   "cell_type": "code",
   "execution_count": 1,
   "metadata": {},
   "outputs": [],
   "source": [
    "import os\n",
    "os.environ[\"TOKENIZERS_PARALLELISM\"] = \"false\"  # Evita potenziali deadlock"
   ]
  },
  {
   "cell_type": "markdown",
   "metadata": {},
   "source": [
    "# Download Data"
   ]
  },
  {
   "cell_type": "code",
   "execution_count": 2,
   "metadata": {},
   "outputs": [],
   "source": [
    "import requests\n",
    "import pandas as pd\n",
    "from io import BytesIO\n",
    "\n",
    "def download_csv(csv_url):\n",
    "    response = requests.get(csv_url)\n",
    "    response.raise_for_status()\n",
    "\n",
    "    try:\n",
    "        df = pd.read_csv(BytesIO(response.content), sep=',')\n",
    "    except pd.errors.ParserError:\n",
    "        df = pd.read_csv(BytesIO(response.content), sep=';', error_bad_lines=False)\n",
    "\n",
    "    return df"
   ]
  },
  {
   "cell_type": "code",
   "execution_count": 3,
   "metadata": {},
   "outputs": [],
   "source": [
    "recipes_df = download_csv(\"https://media.githubusercontent.com/media/DonatoFe11/SustainaMeal_Case_Study/master/data/final_recipes_set.csv\")"
   ]
  },
  {
   "cell_type": "code",
   "execution_count": 4,
   "metadata": {},
   "outputs": [
    {
     "data": {
      "text/html": [
       "<div>\n",
       "<style scoped>\n",
       "    .dataframe tbody tr th:only-of-type {\n",
       "        vertical-align: middle;\n",
       "    }\n",
       "\n",
       "    .dataframe tbody tr th {\n",
       "        vertical-align: top;\n",
       "    }\n",
       "\n",
       "    .dataframe thead th {\n",
       "        text-align: right;\n",
       "    }\n",
       "</style>\n",
       "<table border=\"1\" class=\"dataframe\">\n",
       "  <thead>\n",
       "    <tr style=\"text-align: right;\">\n",
       "      <th></th>\n",
       "      <th>title</th>\n",
       "      <th>sustainability_score</th>\n",
       "      <th>sustainability_label</th>\n",
       "      <th>Unnamed: 0</th>\n",
       "      <th>recipe_id</th>\n",
       "      <th>description</th>\n",
       "      <th>author_id</th>\n",
       "      <th>duration</th>\n",
       "      <th>directions</th>\n",
       "      <th>ingredients</th>\n",
       "      <th>...</th>\n",
       "      <th>protein [g]</th>\n",
       "      <th>direction_size</th>\n",
       "      <th>ingredients_sizes</th>\n",
       "      <th>who_score</th>\n",
       "      <th>fsa_score</th>\n",
       "      <th>nutri_score</th>\n",
       "      <th>normalization_comment</th>\n",
       "      <th>ingredient_food_kg_urls</th>\n",
       "      <th>ingredient_food_kg_names</th>\n",
       "      <th>healthiness_label</th>\n",
       "    </tr>\n",
       "  </thead>\n",
       "  <tbody>\n",
       "    <tr>\n",
       "      <th>0</th>\n",
       "      <td>Boiled Radishes</td>\n",
       "      <td>0.002502</td>\n",
       "      <td>0</td>\n",
       "      <td>294268</td>\n",
       "      <td>179840</td>\n",
       "      <td>These taste a lot like new potatoes.  The boil...</td>\n",
       "      <td>254469</td>\n",
       "      <td>22.0</td>\n",
       "      <td>['Trim ends and bad spots off Radishes.', 'Boi...</td>\n",
       "      <td>['radishes size bag bunch', 'water radishes']</td>\n",
       "      <td>...</td>\n",
       "      <td>0.8</td>\n",
       "      <td>2</td>\n",
       "      <td>2</td>\n",
       "      <td>0.293040</td>\n",
       "      <td>1.000</td>\n",
       "      <td>0.75</td>\n",
       "      <td>NaN</td>\n",
       "      <td>['http://idea.rpi.edu/heals/kb/ingredientname/...</td>\n",
       "      <td>['applesauce', 'garlic clove', 'ginger', 'mola...</td>\n",
       "      <td>0</td>\n",
       "    </tr>\n",
       "    <tr>\n",
       "      <th>1</th>\n",
       "      <td>Apple Cider Reduction</td>\n",
       "      <td>0.002623</td>\n",
       "      <td>0</td>\n",
       "      <td>59722</td>\n",
       "      <td>521756</td>\n",
       "      <td>I saw a post about this on Facebook and gave i...</td>\n",
       "      <td>171084</td>\n",
       "      <td>155.0</td>\n",
       "      <td>['In 6-8 quart stock pan, measure out 2 cups o...</td>\n",
       "      <td>['gallon apple cider fresh', 'gallon apple cid...</td>\n",
       "      <td>...</td>\n",
       "      <td>0.0</td>\n",
       "      <td>10</td>\n",
       "      <td>2</td>\n",
       "      <td>0.214286</td>\n",
       "      <td>0.750</td>\n",
       "      <td>0.75</td>\n",
       "      <td>NaN</td>\n",
       "      <td>['http://idea.rpi.edu/heals/kb/ingredientname/...</td>\n",
       "      <td>['bean sprouts', 'chicken thighs', 'fresh ging...</td>\n",
       "      <td>1</td>\n",
       "    </tr>\n",
       "    <tr>\n",
       "      <th>2</th>\n",
       "      <td>Homemade Apple Pectin Stock</td>\n",
       "      <td>0.002623</td>\n",
       "      <td>0</td>\n",
       "      <td>159910</td>\n",
       "      <td>25188</td>\n",
       "      <td>Easy to make and works well.</td>\n",
       "      <td>10404</td>\n",
       "      <td>25.0</td>\n",
       "      <td>['Slice unpeeled apples including cores and se...</td>\n",
       "      <td>['tart apple', 'water pound apples']</td>\n",
       "      <td>...</td>\n",
       "      <td>1.2</td>\n",
       "      <td>11</td>\n",
       "      <td>2</td>\n",
       "      <td>0.278414</td>\n",
       "      <td>0.750</td>\n",
       "      <td>0.75</td>\n",
       "      <td>NaN</td>\n",
       "      <td>['http://idea.rpi.edu/heals/kb/ingredientname/...</td>\n",
       "      <td>['baking powder', 'baking soda', 'cinnamon', '...</td>\n",
       "      <td>0</td>\n",
       "    </tr>\n",
       "    <tr>\n",
       "      <th>3</th>\n",
       "      <td>Easy Applesauce</td>\n",
       "      <td>0.002623</td>\n",
       "      <td>0</td>\n",
       "      <td>421226</td>\n",
       "      <td>264179</td>\n",
       "      <td>Use fresh cooking apples for this for best res...</td>\n",
       "      <td>37636</td>\n",
       "      <td>50.0</td>\n",
       "      <td>['Place apples and cider into a large saucepan...</td>\n",
       "      <td>['apples', 'apple cider']</td>\n",
       "      <td>...</td>\n",
       "      <td>0.5</td>\n",
       "      <td>3</td>\n",
       "      <td>2</td>\n",
       "      <td>0.276525</td>\n",
       "      <td>0.875</td>\n",
       "      <td>0.75</td>\n",
       "      <td>NaN</td>\n",
       "      <td>['http://idea.rpi.edu/heals/kb/ingredientname/...</td>\n",
       "      <td>['carrots', 'fresh peas', 'fresh tomatoes', 'g...</td>\n",
       "      <td>0</td>\n",
       "    </tr>\n",
       "    <tr>\n",
       "      <th>4</th>\n",
       "      <td>Cider Baked Sausage</td>\n",
       "      <td>0.002752</td>\n",
       "      <td>0</td>\n",
       "      <td>374088</td>\n",
       "      <td>101966</td>\n",
       "      <td>A very easy to make main dish perfect for fall...</td>\n",
       "      <td>30534</td>\n",
       "      <td>50.0</td>\n",
       "      <td>['Preheat oven to 350°.', 'Prick sausages with...</td>\n",
       "      <td>['breakfast sausage links', 'apples Smith', 'o...</td>\n",
       "      <td>...</td>\n",
       "      <td>46.4</td>\n",
       "      <td>4</td>\n",
       "      <td>4</td>\n",
       "      <td>0.146714</td>\n",
       "      <td>0.125</td>\n",
       "      <td>0.00</td>\n",
       "      <td>NaN</td>\n",
       "      <td>['http://idea.rpi.edu/heals/kb/ingredientname/...</td>\n",
       "      <td>['Shedd Spread Country Crock', 'cayenne pepper...</td>\n",
       "      <td>2</td>\n",
       "    </tr>\n",
       "    <tr>\n",
       "      <th>...</th>\n",
       "      <td>...</td>\n",
       "      <td>...</td>\n",
       "      <td>...</td>\n",
       "      <td>...</td>\n",
       "      <td>...</td>\n",
       "      <td>...</td>\n",
       "      <td>...</td>\n",
       "      <td>...</td>\n",
       "      <td>...</td>\n",
       "      <td>...</td>\n",
       "      <td>...</td>\n",
       "      <td>...</td>\n",
       "      <td>...</td>\n",
       "      <td>...</td>\n",
       "      <td>...</td>\n",
       "      <td>...</td>\n",
       "      <td>...</td>\n",
       "      <td>...</td>\n",
       "      <td>...</td>\n",
       "      <td>...</td>\n",
       "      <td>...</td>\n",
       "    </tr>\n",
       "    <tr>\n",
       "      <th>93743</th>\n",
       "      <td>Curried Lamb on Rice</td>\n",
       "      <td>0.951024</td>\n",
       "      <td>2</td>\n",
       "      <td>103145</td>\n",
       "      <td>373244</td>\n",
       "      <td>With modification this recipe is from \"The Dia...</td>\n",
       "      <td>133174</td>\n",
       "      <td>65.0</td>\n",
       "      <td>['Over medium heat, melt the butter in a large...</td>\n",
       "      <td>['lamb', 'medium onion', 'cloves', 'butter', '...</td>\n",
       "      <td>...</td>\n",
       "      <td>28.7</td>\n",
       "      <td>5</td>\n",
       "      <td>13</td>\n",
       "      <td>0.223549</td>\n",
       "      <td>0.625</td>\n",
       "      <td>0.25</td>\n",
       "      <td>NaN</td>\n",
       "      <td>['http://idea.rpi.edu/heals/kb/ingredientname/...</td>\n",
       "      <td>['Dijon mustard', 'Polish sausage', 'apricot p...</td>\n",
       "      <td>1</td>\n",
       "    </tr>\n",
       "    <tr>\n",
       "      <th>93744</th>\n",
       "      <td>Rich Lamb Curry</td>\n",
       "      <td>0.960504</td>\n",
       "      <td>2</td>\n",
       "      <td>442694</td>\n",
       "      <td>268247</td>\n",
       "      <td>The recipe isn't as time consuming as it looks...</td>\n",
       "      <td>491437</td>\n",
       "      <td>110.0</td>\n",
       "      <td>['Heat 1 tbsp olive oil in dutch oven.  ', 'Co...</td>\n",
       "      <td>['oil', 'lamb', 'flour', 'salt pepper', 'onion...</td>\n",
       "      <td>...</td>\n",
       "      <td>36.1</td>\n",
       "      <td>9</td>\n",
       "      <td>21</td>\n",
       "      <td>0.153328</td>\n",
       "      <td>0.000</td>\n",
       "      <td>0.00</td>\n",
       "      <td>NaN</td>\n",
       "      <td>NaN</td>\n",
       "      <td>NaN</td>\n",
       "      <td>1</td>\n",
       "    </tr>\n",
       "    <tr>\n",
       "      <th>93745</th>\n",
       "      <td>Middle Eastern Slow-Cooked Stew With Lamb, Chi...</td>\n",
       "      <td>0.968458</td>\n",
       "      <td>2</td>\n",
       "      <td>359960</td>\n",
       "      <td>144850</td>\n",
       "      <td>From Cooking Light. Per 3/4 c. serving: 310 ca...</td>\n",
       "      <td>37779</td>\n",
       "      <td>112.0</td>\n",
       "      <td>['Let the oil get heating in a large pot over ...</td>\n",
       "      <td>['oil', 'lamb', 'onions rings', 'water', 'clov...</td>\n",
       "      <td>...</td>\n",
       "      <td>20.8</td>\n",
       "      <td>12</td>\n",
       "      <td>19</td>\n",
       "      <td>0.205566</td>\n",
       "      <td>0.250</td>\n",
       "      <td>0.25</td>\n",
       "      <td>NaN</td>\n",
       "      <td>['http://idea.rpi.edu/heals/kb/ingredientname/...</td>\n",
       "      <td>['anchovies', 'celery ribs', 'diced tomatoes',...</td>\n",
       "      <td>1</td>\n",
       "    </tr>\n",
       "    <tr>\n",
       "      <th>93746</th>\n",
       "      <td>Five Meat Chili Con Carne With Beans</td>\n",
       "      <td>0.971454</td>\n",
       "      <td>2</td>\n",
       "      <td>37637</td>\n",
       "      <td>13568</td>\n",
       "      <td>yum</td>\n",
       "      <td>20571</td>\n",
       "      <td>210.0</td>\n",
       "      <td>['In a large pot brown meat in stages, about a...</td>\n",
       "      <td>['beef', 'pork', 'lamb', 'sausage', 'sausage',...</td>\n",
       "      <td>...</td>\n",
       "      <td>14.5</td>\n",
       "      <td>7</td>\n",
       "      <td>15</td>\n",
       "      <td>0.197568</td>\n",
       "      <td>0.250</td>\n",
       "      <td>0.25</td>\n",
       "      <td>NaN</td>\n",
       "      <td>['http://idea.rpi.edu/heals/kb/ingredientname/...</td>\n",
       "      <td>[\"French\\\\'s French fried onions\", 'crabmeat',...</td>\n",
       "      <td>1</td>\n",
       "    </tr>\n",
       "    <tr>\n",
       "      <th>93747</th>\n",
       "      <td>Basic Fried Rice - With Variations</td>\n",
       "      <td>1.000000</td>\n",
       "      <td>2</td>\n",
       "      <td>94306</td>\n",
       "      <td>248707</td>\n",
       "      <td>Another recipe that I acquired from a Chinese ...</td>\n",
       "      <td>305531</td>\n",
       "      <td>55.0</td>\n",
       "      <td>['Dice or shred meat and vegetables.', 'Heat o...</td>\n",
       "      <td>['rice', 'onions', 'oil', 'soy sauce', 'salt',...</td>\n",
       "      <td>...</td>\n",
       "      <td>18.9</td>\n",
       "      <td>14</td>\n",
       "      <td>38</td>\n",
       "      <td>0.233147</td>\n",
       "      <td>0.750</td>\n",
       "      <td>0.25</td>\n",
       "      <td>NaN</td>\n",
       "      <td>['http://idea.rpi.edu/heals/kb/ingredientname/...</td>\n",
       "      <td>['baking powder', 'baking soda', 'brown sugar'...</td>\n",
       "      <td>1</td>\n",
       "    </tr>\n",
       "  </tbody>\n",
       "</table>\n",
       "<p>93748 rows × 40 columns</p>\n",
       "</div>"
      ],
      "text/plain": [
       "                                                   title  \\\n",
       "0                                        Boiled Radishes   \n",
       "1                                  Apple Cider Reduction   \n",
       "2                            Homemade Apple Pectin Stock   \n",
       "3                                        Easy Applesauce   \n",
       "4                                    Cider Baked Sausage   \n",
       "...                                                  ...   \n",
       "93743                               Curried Lamb on Rice   \n",
       "93744                                    Rich Lamb Curry   \n",
       "93745  Middle Eastern Slow-Cooked Stew With Lamb, Chi...   \n",
       "93746               Five Meat Chili Con Carne With Beans   \n",
       "93747                 Basic Fried Rice - With Variations   \n",
       "\n",
       "       sustainability_score  sustainability_label  Unnamed: 0  recipe_id  \\\n",
       "0                  0.002502                     0      294268     179840   \n",
       "1                  0.002623                     0       59722     521756   \n",
       "2                  0.002623                     0      159910      25188   \n",
       "3                  0.002623                     0      421226     264179   \n",
       "4                  0.002752                     0      374088     101966   \n",
       "...                     ...                   ...         ...        ...   \n",
       "93743              0.951024                     2      103145     373244   \n",
       "93744              0.960504                     2      442694     268247   \n",
       "93745              0.968458                     2      359960     144850   \n",
       "93746              0.971454                     2       37637      13568   \n",
       "93747              1.000000                     2       94306     248707   \n",
       "\n",
       "                                             description  author_id  duration  \\\n",
       "0      These taste a lot like new potatoes.  The boil...     254469      22.0   \n",
       "1      I saw a post about this on Facebook and gave i...     171084     155.0   \n",
       "2                           Easy to make and works well.      10404      25.0   \n",
       "3      Use fresh cooking apples for this for best res...      37636      50.0   \n",
       "4      A very easy to make main dish perfect for fall...      30534      50.0   \n",
       "...                                                  ...        ...       ...   \n",
       "93743  With modification this recipe is from \"The Dia...     133174      65.0   \n",
       "93744  The recipe isn't as time consuming as it looks...     491437     110.0   \n",
       "93745  From Cooking Light. Per 3/4 c. serving: 310 ca...      37779     112.0   \n",
       "93746                                                yum      20571     210.0   \n",
       "93747  Another recipe that I acquired from a Chinese ...     305531      55.0   \n",
       "\n",
       "                                              directions  \\\n",
       "0      ['Trim ends and bad spots off Radishes.', 'Boi...   \n",
       "1      ['In 6-8 quart stock pan, measure out 2 cups o...   \n",
       "2      ['Slice unpeeled apples including cores and se...   \n",
       "3      ['Place apples and cider into a large saucepan...   \n",
       "4      ['Preheat oven to 350°.', 'Prick sausages with...   \n",
       "...                                                  ...   \n",
       "93743  ['Over medium heat, melt the butter in a large...   \n",
       "93744  ['Heat 1 tbsp olive oil in dutch oven.  ', 'Co...   \n",
       "93745  ['Let the oil get heating in a large pot over ...   \n",
       "93746  ['In a large pot brown meat in stages, about a...   \n",
       "93747  ['Dice or shred meat and vegetables.', 'Heat o...   \n",
       "\n",
       "                                             ingredients  ... protein [g]  \\\n",
       "0          ['radishes size bag bunch', 'water radishes']  ...         0.8   \n",
       "1      ['gallon apple cider fresh', 'gallon apple cid...  ...         0.0   \n",
       "2                   ['tart apple', 'water pound apples']  ...         1.2   \n",
       "3                              ['apples', 'apple cider']  ...         0.5   \n",
       "4      ['breakfast sausage links', 'apples Smith', 'o...  ...        46.4   \n",
       "...                                                  ...  ...         ...   \n",
       "93743  ['lamb', 'medium onion', 'cloves', 'butter', '...  ...        28.7   \n",
       "93744  ['oil', 'lamb', 'flour', 'salt pepper', 'onion...  ...        36.1   \n",
       "93745  ['oil', 'lamb', 'onions rings', 'water', 'clov...  ...        20.8   \n",
       "93746  ['beef', 'pork', 'lamb', 'sausage', 'sausage',...  ...        14.5   \n",
       "93747  ['rice', 'onions', 'oil', 'soy sauce', 'salt',...  ...        18.9   \n",
       "\n",
       "      direction_size ingredients_sizes who_score fsa_score  nutri_score  \\\n",
       "0                  2                 2  0.293040     1.000         0.75   \n",
       "1                 10                 2  0.214286     0.750         0.75   \n",
       "2                 11                 2  0.278414     0.750         0.75   \n",
       "3                  3                 2  0.276525     0.875         0.75   \n",
       "4                  4                 4  0.146714     0.125         0.00   \n",
       "...              ...               ...       ...       ...          ...   \n",
       "93743              5                13  0.223549     0.625         0.25   \n",
       "93744              9                21  0.153328     0.000         0.00   \n",
       "93745             12                19  0.205566     0.250         0.25   \n",
       "93746              7                15  0.197568     0.250         0.25   \n",
       "93747             14                38  0.233147     0.750         0.25   \n",
       "\n",
       "       normalization_comment  \\\n",
       "0                        NaN   \n",
       "1                        NaN   \n",
       "2                        NaN   \n",
       "3                        NaN   \n",
       "4                        NaN   \n",
       "...                      ...   \n",
       "93743                    NaN   \n",
       "93744                    NaN   \n",
       "93745                    NaN   \n",
       "93746                    NaN   \n",
       "93747                    NaN   \n",
       "\n",
       "                                 ingredient_food_kg_urls  \\\n",
       "0      ['http://idea.rpi.edu/heals/kb/ingredientname/...   \n",
       "1      ['http://idea.rpi.edu/heals/kb/ingredientname/...   \n",
       "2      ['http://idea.rpi.edu/heals/kb/ingredientname/...   \n",
       "3      ['http://idea.rpi.edu/heals/kb/ingredientname/...   \n",
       "4      ['http://idea.rpi.edu/heals/kb/ingredientname/...   \n",
       "...                                                  ...   \n",
       "93743  ['http://idea.rpi.edu/heals/kb/ingredientname/...   \n",
       "93744                                                NaN   \n",
       "93745  ['http://idea.rpi.edu/heals/kb/ingredientname/...   \n",
       "93746  ['http://idea.rpi.edu/heals/kb/ingredientname/...   \n",
       "93747  ['http://idea.rpi.edu/heals/kb/ingredientname/...   \n",
       "\n",
       "                                ingredient_food_kg_names  healthiness_label  \n",
       "0      ['applesauce', 'garlic clove', 'ginger', 'mola...                  0  \n",
       "1      ['bean sprouts', 'chicken thighs', 'fresh ging...                  1  \n",
       "2      ['baking powder', 'baking soda', 'cinnamon', '...                  0  \n",
       "3      ['carrots', 'fresh peas', 'fresh tomatoes', 'g...                  0  \n",
       "4      ['Shedd Spread Country Crock', 'cayenne pepper...                  2  \n",
       "...                                                  ...                ...  \n",
       "93743  ['Dijon mustard', 'Polish sausage', 'apricot p...                  1  \n",
       "93744                                                NaN                  1  \n",
       "93745  ['anchovies', 'celery ribs', 'diced tomatoes',...                  1  \n",
       "93746  [\"French\\\\'s French fried onions\", 'crabmeat',...                  1  \n",
       "93747  ['baking powder', 'baking soda', 'brown sugar'...                  1  \n",
       "\n",
       "[93748 rows x 40 columns]"
      ]
     },
     "execution_count": 4,
     "metadata": {},
     "output_type": "execute_result"
    }
   ],
   "source": [
    "recipes_df"
   ]
  },
  {
   "cell_type": "markdown",
   "metadata": {},
   "source": [
    "# SustainaMeal"
   ]
  },
  {
   "cell_type": "markdown",
   "metadata": {},
   "source": [
    "Initializes the system by loading the data and preparing the embeddings."
   ]
  },
  {
   "cell_type": "code",
   "execution_count": 5,
   "metadata": {},
   "outputs": [
    {
     "name": "stderr",
     "output_type": "stream",
     "text": [
      "/home/festa/SustainaMeal_Case_Study/venv/lib/python3.8/site-packages/tqdm/auto.py:21: TqdmWarning: IProgress not found. Please update jupyter and ipywidgets. See https://ipywidgets.readthedocs.io/en/stable/user_install.html\n",
      "  from .autonotebook import tqdm as notebook_tqdm\n",
      "Processing Titles embeddings: 100%|██████████| 93748/93748 [18:36<00:00, 83.96batch/s]\n"
     ]
    }
   ],
   "source": [
    "from HeASe.sustainameal import SustainaMeal\n",
    "\n",
    "nutrients = ['calories [cal]', 'totalFat [g]', 'saturatedFat [g]', 'cholesterol [mg]', 'sodium [mg]', 'dietaryFiber [g]', 'sugars [g]', 'protein [g]']\n",
    "\n",
    "sm = SustainaMeal(\n",
    "    recipes_df=recipes_df,\n",
    "    nutrients=['calories [cal]', 'totalFat [g]', 'saturatedFat [g]', 'cholesterol [mg]', 'sodium [mg]', 'dietaryFiber [g]', 'sugars [g]', 'protein [g]'],\n",
    "    transformer_name='davanstrien/autotrain-recipes-2451975973'\n",
    ")"
   ]
  },
  {
   "cell_type": "markdown",
   "metadata": {},
   "source": [
    "# Upload Recipes of Experiments"
   ]
  },
  {
   "cell_type": "code",
   "execution_count": 6,
   "metadata": {},
   "outputs": [],
   "source": [
    "import pandas as pd\n",
    "\n",
    "# Paths to the JSON files\n",
    "\n",
    "sustainability_label_2_recipes_file = '../experiments/data/sustainability_label_2_recipes.json'\n",
    "\n",
    "# Read the JSON files into pandas DataFrames\n",
    "\n",
    "sustainability_label_2_recipes = pd.read_json(sustainability_label_2_recipes_file)\n"
   ]
  },
  {
   "cell_type": "markdown",
   "metadata": {},
   "source": [
    "# Compare LLM Rerank"
   ]
  },
  {
   "cell_type": "code",
   "execution_count": 7,
   "metadata": {},
   "outputs": [
    {
     "name": "stderr",
     "output_type": "stream",
     "text": [
      "Loading checkpoint shards: 100%|██████████| 4/4 [00:15<00:00,  3.90s/it]\n"
     ]
    }
   ],
   "source": [
    "sm.setup_llama_model_id()\n",
    "sm.create_agent()"
   ]
  },
  {
   "cell_type": "code",
   "execution_count": 8,
   "metadata": {},
   "outputs": [],
   "source": [
    "acceptable_tags = ['appetizers', 'main-dish', 'side-dishes', 'drinks', 'beverages', 'fruits', 'desserts',\n",
    "                   'breakfast', 'pasta-rice-and-grains', 'rice', 'pasta', 'pizza', 'breads', 'meat', 'fish',\n",
    "                   'seafood', 'beef', 'chicken', 'vegetarian']"
   ]
  },
  {
   "cell_type": "code",
   "execution_count": 9,
   "metadata": {},
   "outputs": [
    {
     "name": "stdout",
     "output_type": "stream",
     "text": [
      "calories [cal], totalFat [g], saturatedFat [g], cholesterol [mg], sodium [mg], dietaryFiber [g], sugars [g], protein [g]\n"
     ]
    }
   ],
   "source": [
    "nutrients_string = \", \".join(nutrients)\n",
    "print(nutrients_string)"
   ]
  },
  {
   "cell_type": "code",
   "execution_count": 10,
   "metadata": {},
   "outputs": [],
   "source": [
    "selected_recipes = pd.concat([sustainability_label_2_recipes])"
   ]
  },
  {
   "cell_type": "code",
   "execution_count": 11,
   "metadata": {},
   "outputs": [
    {
     "data": {
      "text/plain": [
       "100"
      ]
     },
     "execution_count": 11,
     "metadata": {},
     "output_type": "execute_result"
    }
   ],
   "source": [
    "len(selected_recipes)"
   ]
  },
  {
   "cell_type": "code",
   "execution_count": 12,
   "metadata": {},
   "outputs": [],
   "source": [
    "# Definisci le soglie\n",
    "WHO_SCORE_THRESHOLDS = ( 0.15, 0.25)  # (soglia media, soglia alta)\n",
    "SUSTAINABILITY_SCORE_THRESHOLDS = (0.1, 0.5)  # (soglia media, soglia alta)\n",
    "\n",
    "# Funzioni di aiuto per calcolare le label\n",
    "def calculate_healthiness_label(who_score):\n",
    "    if who_score > WHO_SCORE_THRESHOLDS[1]:\n",
    "        return \"0\"\n",
    "    elif who_score < WHO_SCORE_THRESHOLDS[0]:\n",
    "        return \"2\"\n",
    "    else:\n",
    "        return \"1\"\n",
    "\n",
    "def calculate_sustainability_label(sustainability_score):\n",
    "    if sustainability_score <= SUSTAINABILITY_SCORE_THRESHOLDS[1]:\n",
    "        return \"0\"\n",
    "    elif sustainability_score >= SUSTAINABILITY_SCORE_THRESHOLDS[1]:\n",
    "        return \"2\"\n",
    "    else:\n",
    "        return \"1\"\n",
    "\n",
    "# Calcola le label in base ai valori di who_score e sustainability_score"
   ]
  },
  {
   "cell_type": "code",
   "execution_count": 29,
   "metadata": {},
   "outputs": [
    {
     "name": "stderr",
     "output_type": "stream",
     "text": [
      "Processing Titles embeddings: 100%|██████████| 1/1 [00:00<00:00, 76.41batch/s]"
     ]
    },
    {
     "name": "stderr",
     "output_type": "stream",
     "text": [
      "\n"
     ]
    },
    {
     "name": "stdout",
     "output_type": "stream",
     "text": [
      "Tags to match: ['main-dish']\n",
      "Number of filtered recipes: 24622\n"
     ]
    }
   ],
   "source": [
    "similar_recipes = sm.find_similar_recipes(\"Lobster Thermidor\", 10, acceptable_tags=acceptable_tags, match_all_tags=True)"
   ]
  },
  {
   "cell_type": "code",
   "execution_count": 30,
   "metadata": {},
   "outputs": [
    {
     "name": "stdout",
     "output_type": "stream",
     "text": [
      "                                           title  similarity_score  who_score  \\\n",
      "7552                     Black-Eyed Peas and Ham          0.975272   0.269874   \n",
      "33459                          Mexican Bean Soup          0.975884   0.255174   \n",
      "50592  Roasted Pepper Soup with Lentils and Peas          0.976513   0.219619   \n",
      "64476                Whole Wheat Penne & Sausage          0.980077   0.249046   \n",
      "82929           Tuscan Casserole - 4 W.w. Points          0.979279   0.269160   \n",
      "82973                                Chili Bread          0.976400   0.233430   \n",
      "89658                    Alotizzip Eggplant Soup          0.978835   0.232663   \n",
      "90410          Not Your Usual Chile (Mole Based)          0.976525   0.236922   \n",
      "90767                             Meal in a dish          0.975827   0.231312   \n",
      "91664                        Zesty Macaroni Soup          0.990890   0.244603   \n",
      "\n",
      "       healthiness_increment  sustainability_score  sustainability_increment  \\\n",
      "7552               15.225396              0.931445                 38.188148   \n",
      "33459               8.948972              0.865326                 28.378793   \n",
      "50592              -6.231480              0.788364                 16.960848   \n",
      "64476               6.332481              0.703614                  4.387427   \n",
      "82929              14.920529              0.633304                 -6.043686   \n",
      "82973              -0.334818              0.633051                 -6.081301   \n",
      "89658              -0.662062              0.440456                -34.654421   \n",
      "90410               1.155985              0.428435                -36.437880   \n",
      "90767              -1.239102              0.411969                -38.880770   \n",
      "91664               4.435740              0.368479                -45.332832   \n",
      "\n",
      "       sustainameal_score  sustainameal_score_increment  \n",
      "7552             0.732974                     35.211795  \n",
      "33459            0.682280                     25.860367  \n",
      "50592            0.617741                     13.954738  \n",
      "64476            0.567244                      4.639538  \n",
      "82929            0.524061                     -3.326377  \n",
      "82973            0.513164                     -5.336461  \n",
      "89658            0.378118                    -30.248449  \n",
      "90410            0.370981                    -31.565093  \n",
      "90767            0.357772                    -34.001787  \n",
      "91664            0.331316                    -38.882002  \n"
     ]
    }
   ],
   "source": [
    "order_recipes = sm.order_recipe_by_sustainameal()\n",
    "print(order_recipes)"
   ]
  },
  {
   "cell_type": "code",
   "execution_count": 31,
   "metadata": {},
   "outputs": [
    {
     "name": "stderr",
     "output_type": "stream",
     "text": [
      "The attention mask and the pad token id were not set. As a consequence, you may observe unexpected behavior. Please pass your input's `attention_mask` to obtain reliable results.\n",
      "Setting `pad_token_id` to `eos_token_id`:128001 for open-end generation.\n"
     ]
    }
   ],
   "source": [
    "best_choice_by_llama = sm.choose_best_recipe_with_llama()"
   ]
  },
  {
   "cell_type": "code",
   "execution_count": 32,
   "metadata": {},
   "outputs": [
    {
     "name": "stdout",
     "output_type": "stream",
     "text": [
      "Let's go with the Roasted Pepper Soup with Lentils and Peas. This recipe is a nutritional powerhouse that combines the natural sweetness of roasted peppers with the protein and fiber of lentils and peas. The result is a hearty and flavorful soup that's not only delicious but also packed with essential vitamins and minerals. The use of lentils and peas as protein sources makes this recipe an excellent choice for vegetarians and those looking to reduce their meat intake. Additionally, the roasted peppers add a boost of antioxidants and fiber, while the soup's overall fiber content supports healthy digestion. Overall, this recipe is a great example of how sustainable and healthy eating can be both tasty and satisfying.\n"
     ]
    }
   ],
   "source": [
    "print(best_choice_by_llama)"
   ]
  }
 ],
 "metadata": {
  "kernelspec": {
   "display_name": "venv",
   "language": "python",
   "name": "python3"
  },
  "language_info": {
   "codemirror_mode": {
    "name": "ipython",
    "version": 3
   },
   "file_extension": ".py",
   "mimetype": "text/x-python",
   "name": "python",
   "nbconvert_exporter": "python",
   "pygments_lexer": "ipython3",
   "version": "3.8.10"
  }
 },
 "nbformat": 4,
 "nbformat_minor": 2
}

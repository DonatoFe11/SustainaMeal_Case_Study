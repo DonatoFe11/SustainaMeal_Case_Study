{
 "cells": [
  {
   "cell_type": "code",
   "execution_count": 1,
   "metadata": {},
   "outputs": [],
   "source": [
    "import os\n",
    "os.environ[\"TOKENIZERS_PARALLELISM\"] = \"false\"  # Evita potenziali deadlock"
   ]
  },
  {
   "cell_type": "markdown",
   "metadata": {},
   "source": [
    "# Download data"
   ]
  },
  {
   "cell_type": "code",
   "execution_count": 2,
   "metadata": {},
   "outputs": [],
   "source": [
    "import requests\n",
    "import pandas as pd\n",
    "from io import BytesIO\n",
    "\n",
    "def download_csv(csv_url):\n",
    "    response = requests.get(csv_url)\n",
    "    response.raise_for_status()\n",
    "\n",
    "    # Qui puoi modificare 'sep' o aggiungere altri parametri se necessario\n",
    "    try:\n",
    "        df = pd.read_csv(BytesIO(response.content), sep=',')\n",
    "    except pd.errors.ParserError:\n",
    "        df = pd.read_csv(BytesIO(response.content), sep=';', error_bad_lines=False)\n",
    "\n",
    "    return df"
   ]
  },
  {
   "cell_type": "code",
   "execution_count": 3,
   "metadata": {},
   "outputs": [],
   "source": [
    "recipes_df = download_csv(\"https://media.githubusercontent.com/media/DonatoFe11/SustainaMeal_Case_Study/master/data/final_recipes_set.csv\")"
   ]
  },
  {
   "cell_type": "code",
   "execution_count": 4,
   "metadata": {},
   "outputs": [
    {
     "data": {
      "text/html": [
       "<div>\n",
       "<style scoped>\n",
       "    .dataframe tbody tr th:only-of-type {\n",
       "        vertical-align: middle;\n",
       "    }\n",
       "\n",
       "    .dataframe tbody tr th {\n",
       "        vertical-align: top;\n",
       "    }\n",
       "\n",
       "    .dataframe thead th {\n",
       "        text-align: right;\n",
       "    }\n",
       "</style>\n",
       "<table border=\"1\" class=\"dataframe\">\n",
       "  <thead>\n",
       "    <tr style=\"text-align: right;\">\n",
       "      <th></th>\n",
       "      <th>title</th>\n",
       "      <th>sustainability_score</th>\n",
       "      <th>sustainability_label</th>\n",
       "      <th>Unnamed: 0</th>\n",
       "      <th>recipe_id</th>\n",
       "      <th>description</th>\n",
       "      <th>author_id</th>\n",
       "      <th>duration</th>\n",
       "      <th>directions</th>\n",
       "      <th>ingredients</th>\n",
       "      <th>...</th>\n",
       "      <th>protein [g]</th>\n",
       "      <th>direction_size</th>\n",
       "      <th>ingredients_sizes</th>\n",
       "      <th>who_score</th>\n",
       "      <th>fsa_score</th>\n",
       "      <th>nutri_score</th>\n",
       "      <th>normalization_comment</th>\n",
       "      <th>ingredient_food_kg_urls</th>\n",
       "      <th>ingredient_food_kg_names</th>\n",
       "      <th>healthiness_label</th>\n",
       "    </tr>\n",
       "  </thead>\n",
       "  <tbody>\n",
       "    <tr>\n",
       "      <th>0</th>\n",
       "      <td>Boiled Radishes</td>\n",
       "      <td>0.002502</td>\n",
       "      <td>0</td>\n",
       "      <td>294268</td>\n",
       "      <td>179840</td>\n",
       "      <td>These taste a lot like new potatoes.  The boil...</td>\n",
       "      <td>254469</td>\n",
       "      <td>22.0</td>\n",
       "      <td>['Trim ends and bad spots off Radishes.', 'Boi...</td>\n",
       "      <td>['radishes size bag bunch', 'water radishes']</td>\n",
       "      <td>...</td>\n",
       "      <td>0.8</td>\n",
       "      <td>2</td>\n",
       "      <td>2</td>\n",
       "      <td>0.293040</td>\n",
       "      <td>1.000</td>\n",
       "      <td>0.75</td>\n",
       "      <td>NaN</td>\n",
       "      <td>['http://idea.rpi.edu/heals/kb/ingredientname/...</td>\n",
       "      <td>['applesauce', 'garlic clove', 'ginger', 'mola...</td>\n",
       "      <td>0</td>\n",
       "    </tr>\n",
       "    <tr>\n",
       "      <th>1</th>\n",
       "      <td>Apple Cider Reduction</td>\n",
       "      <td>0.002623</td>\n",
       "      <td>0</td>\n",
       "      <td>59722</td>\n",
       "      <td>521756</td>\n",
       "      <td>I saw a post about this on Facebook and gave i...</td>\n",
       "      <td>171084</td>\n",
       "      <td>155.0</td>\n",
       "      <td>['In 6-8 quart stock pan, measure out 2 cups o...</td>\n",
       "      <td>['gallon apple cider fresh', 'gallon apple cid...</td>\n",
       "      <td>...</td>\n",
       "      <td>0.0</td>\n",
       "      <td>10</td>\n",
       "      <td>2</td>\n",
       "      <td>0.214286</td>\n",
       "      <td>0.750</td>\n",
       "      <td>0.75</td>\n",
       "      <td>NaN</td>\n",
       "      <td>['http://idea.rpi.edu/heals/kb/ingredientname/...</td>\n",
       "      <td>['bean sprouts', 'chicken thighs', 'fresh ging...</td>\n",
       "      <td>1</td>\n",
       "    </tr>\n",
       "    <tr>\n",
       "      <th>2</th>\n",
       "      <td>Homemade Apple Pectin Stock</td>\n",
       "      <td>0.002623</td>\n",
       "      <td>0</td>\n",
       "      <td>159910</td>\n",
       "      <td>25188</td>\n",
       "      <td>Easy to make and works well.</td>\n",
       "      <td>10404</td>\n",
       "      <td>25.0</td>\n",
       "      <td>['Slice unpeeled apples including cores and se...</td>\n",
       "      <td>['tart apple', 'water pound apples']</td>\n",
       "      <td>...</td>\n",
       "      <td>1.2</td>\n",
       "      <td>11</td>\n",
       "      <td>2</td>\n",
       "      <td>0.278414</td>\n",
       "      <td>0.750</td>\n",
       "      <td>0.75</td>\n",
       "      <td>NaN</td>\n",
       "      <td>['http://idea.rpi.edu/heals/kb/ingredientname/...</td>\n",
       "      <td>['baking powder', 'baking soda', 'cinnamon', '...</td>\n",
       "      <td>0</td>\n",
       "    </tr>\n",
       "    <tr>\n",
       "      <th>3</th>\n",
       "      <td>Easy Applesauce</td>\n",
       "      <td>0.002623</td>\n",
       "      <td>0</td>\n",
       "      <td>421226</td>\n",
       "      <td>264179</td>\n",
       "      <td>Use fresh cooking apples for this for best res...</td>\n",
       "      <td>37636</td>\n",
       "      <td>50.0</td>\n",
       "      <td>['Place apples and cider into a large saucepan...</td>\n",
       "      <td>['apples', 'apple cider']</td>\n",
       "      <td>...</td>\n",
       "      <td>0.5</td>\n",
       "      <td>3</td>\n",
       "      <td>2</td>\n",
       "      <td>0.276525</td>\n",
       "      <td>0.875</td>\n",
       "      <td>0.75</td>\n",
       "      <td>NaN</td>\n",
       "      <td>['http://idea.rpi.edu/heals/kb/ingredientname/...</td>\n",
       "      <td>['carrots', 'fresh peas', 'fresh tomatoes', 'g...</td>\n",
       "      <td>0</td>\n",
       "    </tr>\n",
       "    <tr>\n",
       "      <th>4</th>\n",
       "      <td>Cider Baked Sausage</td>\n",
       "      <td>0.002752</td>\n",
       "      <td>0</td>\n",
       "      <td>374088</td>\n",
       "      <td>101966</td>\n",
       "      <td>A very easy to make main dish perfect for fall...</td>\n",
       "      <td>30534</td>\n",
       "      <td>50.0</td>\n",
       "      <td>['Preheat oven to 350°.', 'Prick sausages with...</td>\n",
       "      <td>['breakfast sausage links', 'apples Smith', 'o...</td>\n",
       "      <td>...</td>\n",
       "      <td>46.4</td>\n",
       "      <td>4</td>\n",
       "      <td>4</td>\n",
       "      <td>0.146714</td>\n",
       "      <td>0.125</td>\n",
       "      <td>0.00</td>\n",
       "      <td>NaN</td>\n",
       "      <td>['http://idea.rpi.edu/heals/kb/ingredientname/...</td>\n",
       "      <td>['Shedd Spread Country Crock', 'cayenne pepper...</td>\n",
       "      <td>2</td>\n",
       "    </tr>\n",
       "    <tr>\n",
       "      <th>...</th>\n",
       "      <td>...</td>\n",
       "      <td>...</td>\n",
       "      <td>...</td>\n",
       "      <td>...</td>\n",
       "      <td>...</td>\n",
       "      <td>...</td>\n",
       "      <td>...</td>\n",
       "      <td>...</td>\n",
       "      <td>...</td>\n",
       "      <td>...</td>\n",
       "      <td>...</td>\n",
       "      <td>...</td>\n",
       "      <td>...</td>\n",
       "      <td>...</td>\n",
       "      <td>...</td>\n",
       "      <td>...</td>\n",
       "      <td>...</td>\n",
       "      <td>...</td>\n",
       "      <td>...</td>\n",
       "      <td>...</td>\n",
       "      <td>...</td>\n",
       "    </tr>\n",
       "    <tr>\n",
       "      <th>93743</th>\n",
       "      <td>Curried Lamb on Rice</td>\n",
       "      <td>0.951024</td>\n",
       "      <td>2</td>\n",
       "      <td>103145</td>\n",
       "      <td>373244</td>\n",
       "      <td>With modification this recipe is from \"The Dia...</td>\n",
       "      <td>133174</td>\n",
       "      <td>65.0</td>\n",
       "      <td>['Over medium heat, melt the butter in a large...</td>\n",
       "      <td>['lamb', 'medium onion', 'cloves', 'butter', '...</td>\n",
       "      <td>...</td>\n",
       "      <td>28.7</td>\n",
       "      <td>5</td>\n",
       "      <td>13</td>\n",
       "      <td>0.223549</td>\n",
       "      <td>0.625</td>\n",
       "      <td>0.25</td>\n",
       "      <td>NaN</td>\n",
       "      <td>['http://idea.rpi.edu/heals/kb/ingredientname/...</td>\n",
       "      <td>['Dijon mustard', 'Polish sausage', 'apricot p...</td>\n",
       "      <td>1</td>\n",
       "    </tr>\n",
       "    <tr>\n",
       "      <th>93744</th>\n",
       "      <td>Rich Lamb Curry</td>\n",
       "      <td>0.960504</td>\n",
       "      <td>2</td>\n",
       "      <td>442694</td>\n",
       "      <td>268247</td>\n",
       "      <td>The recipe isn't as time consuming as it looks...</td>\n",
       "      <td>491437</td>\n",
       "      <td>110.0</td>\n",
       "      <td>['Heat 1 tbsp olive oil in dutch oven.  ', 'Co...</td>\n",
       "      <td>['oil', 'lamb', 'flour', 'salt pepper', 'onion...</td>\n",
       "      <td>...</td>\n",
       "      <td>36.1</td>\n",
       "      <td>9</td>\n",
       "      <td>21</td>\n",
       "      <td>0.153328</td>\n",
       "      <td>0.000</td>\n",
       "      <td>0.00</td>\n",
       "      <td>NaN</td>\n",
       "      <td>NaN</td>\n",
       "      <td>NaN</td>\n",
       "      <td>1</td>\n",
       "    </tr>\n",
       "    <tr>\n",
       "      <th>93745</th>\n",
       "      <td>Middle Eastern Slow-Cooked Stew With Lamb, Chi...</td>\n",
       "      <td>0.968458</td>\n",
       "      <td>2</td>\n",
       "      <td>359960</td>\n",
       "      <td>144850</td>\n",
       "      <td>From Cooking Light. Per 3/4 c. serving: 310 ca...</td>\n",
       "      <td>37779</td>\n",
       "      <td>112.0</td>\n",
       "      <td>['Let the oil get heating in a large pot over ...</td>\n",
       "      <td>['oil', 'lamb', 'onions rings', 'water', 'clov...</td>\n",
       "      <td>...</td>\n",
       "      <td>20.8</td>\n",
       "      <td>12</td>\n",
       "      <td>19</td>\n",
       "      <td>0.205566</td>\n",
       "      <td>0.250</td>\n",
       "      <td>0.25</td>\n",
       "      <td>NaN</td>\n",
       "      <td>['http://idea.rpi.edu/heals/kb/ingredientname/...</td>\n",
       "      <td>['anchovies', 'celery ribs', 'diced tomatoes',...</td>\n",
       "      <td>1</td>\n",
       "    </tr>\n",
       "    <tr>\n",
       "      <th>93746</th>\n",
       "      <td>Five Meat Chili Con Carne With Beans</td>\n",
       "      <td>0.971454</td>\n",
       "      <td>2</td>\n",
       "      <td>37637</td>\n",
       "      <td>13568</td>\n",
       "      <td>yum</td>\n",
       "      <td>20571</td>\n",
       "      <td>210.0</td>\n",
       "      <td>['In a large pot brown meat in stages, about a...</td>\n",
       "      <td>['beef', 'pork', 'lamb', 'sausage', 'sausage',...</td>\n",
       "      <td>...</td>\n",
       "      <td>14.5</td>\n",
       "      <td>7</td>\n",
       "      <td>15</td>\n",
       "      <td>0.197568</td>\n",
       "      <td>0.250</td>\n",
       "      <td>0.25</td>\n",
       "      <td>NaN</td>\n",
       "      <td>['http://idea.rpi.edu/heals/kb/ingredientname/...</td>\n",
       "      <td>[\"French\\\\'s French fried onions\", 'crabmeat',...</td>\n",
       "      <td>1</td>\n",
       "    </tr>\n",
       "    <tr>\n",
       "      <th>93747</th>\n",
       "      <td>Basic Fried Rice - With Variations</td>\n",
       "      <td>1.000000</td>\n",
       "      <td>2</td>\n",
       "      <td>94306</td>\n",
       "      <td>248707</td>\n",
       "      <td>Another recipe that I acquired from a Chinese ...</td>\n",
       "      <td>305531</td>\n",
       "      <td>55.0</td>\n",
       "      <td>['Dice or shred meat and vegetables.', 'Heat o...</td>\n",
       "      <td>['rice', 'onions', 'oil', 'soy sauce', 'salt',...</td>\n",
       "      <td>...</td>\n",
       "      <td>18.9</td>\n",
       "      <td>14</td>\n",
       "      <td>38</td>\n",
       "      <td>0.233147</td>\n",
       "      <td>0.750</td>\n",
       "      <td>0.25</td>\n",
       "      <td>NaN</td>\n",
       "      <td>['http://idea.rpi.edu/heals/kb/ingredientname/...</td>\n",
       "      <td>['baking powder', 'baking soda', 'brown sugar'...</td>\n",
       "      <td>1</td>\n",
       "    </tr>\n",
       "  </tbody>\n",
       "</table>\n",
       "<p>93748 rows × 40 columns</p>\n",
       "</div>"
      ],
      "text/plain": [
       "                                                   title  \\\n",
       "0                                        Boiled Radishes   \n",
       "1                                  Apple Cider Reduction   \n",
       "2                            Homemade Apple Pectin Stock   \n",
       "3                                        Easy Applesauce   \n",
       "4                                    Cider Baked Sausage   \n",
       "...                                                  ...   \n",
       "93743                               Curried Lamb on Rice   \n",
       "93744                                    Rich Lamb Curry   \n",
       "93745  Middle Eastern Slow-Cooked Stew With Lamb, Chi...   \n",
       "93746               Five Meat Chili Con Carne With Beans   \n",
       "93747                 Basic Fried Rice - With Variations   \n",
       "\n",
       "       sustainability_score  sustainability_label  Unnamed: 0  recipe_id  \\\n",
       "0                  0.002502                     0      294268     179840   \n",
       "1                  0.002623                     0       59722     521756   \n",
       "2                  0.002623                     0      159910      25188   \n",
       "3                  0.002623                     0      421226     264179   \n",
       "4                  0.002752                     0      374088     101966   \n",
       "...                     ...                   ...         ...        ...   \n",
       "93743              0.951024                     2      103145     373244   \n",
       "93744              0.960504                     2      442694     268247   \n",
       "93745              0.968458                     2      359960     144850   \n",
       "93746              0.971454                     2       37637      13568   \n",
       "93747              1.000000                     2       94306     248707   \n",
       "\n",
       "                                             description  author_id  duration  \\\n",
       "0      These taste a lot like new potatoes.  The boil...     254469      22.0   \n",
       "1      I saw a post about this on Facebook and gave i...     171084     155.0   \n",
       "2                           Easy to make and works well.      10404      25.0   \n",
       "3      Use fresh cooking apples for this for best res...      37636      50.0   \n",
       "4      A very easy to make main dish perfect for fall...      30534      50.0   \n",
       "...                                                  ...        ...       ...   \n",
       "93743  With modification this recipe is from \"The Dia...     133174      65.0   \n",
       "93744  The recipe isn't as time consuming as it looks...     491437     110.0   \n",
       "93745  From Cooking Light. Per 3/4 c. serving: 310 ca...      37779     112.0   \n",
       "93746                                                yum      20571     210.0   \n",
       "93747  Another recipe that I acquired from a Chinese ...     305531      55.0   \n",
       "\n",
       "                                              directions  \\\n",
       "0      ['Trim ends and bad spots off Radishes.', 'Boi...   \n",
       "1      ['In 6-8 quart stock pan, measure out 2 cups o...   \n",
       "2      ['Slice unpeeled apples including cores and se...   \n",
       "3      ['Place apples and cider into a large saucepan...   \n",
       "4      ['Preheat oven to 350°.', 'Prick sausages with...   \n",
       "...                                                  ...   \n",
       "93743  ['Over medium heat, melt the butter in a large...   \n",
       "93744  ['Heat 1 tbsp olive oil in dutch oven.  ', 'Co...   \n",
       "93745  ['Let the oil get heating in a large pot over ...   \n",
       "93746  ['In a large pot brown meat in stages, about a...   \n",
       "93747  ['Dice or shred meat and vegetables.', 'Heat o...   \n",
       "\n",
       "                                             ingredients  ... protein [g]  \\\n",
       "0          ['radishes size bag bunch', 'water radishes']  ...         0.8   \n",
       "1      ['gallon apple cider fresh', 'gallon apple cid...  ...         0.0   \n",
       "2                   ['tart apple', 'water pound apples']  ...         1.2   \n",
       "3                              ['apples', 'apple cider']  ...         0.5   \n",
       "4      ['breakfast sausage links', 'apples Smith', 'o...  ...        46.4   \n",
       "...                                                  ...  ...         ...   \n",
       "93743  ['lamb', 'medium onion', 'cloves', 'butter', '...  ...        28.7   \n",
       "93744  ['oil', 'lamb', 'flour', 'salt pepper', 'onion...  ...        36.1   \n",
       "93745  ['oil', 'lamb', 'onions rings', 'water', 'clov...  ...        20.8   \n",
       "93746  ['beef', 'pork', 'lamb', 'sausage', 'sausage',...  ...        14.5   \n",
       "93747  ['rice', 'onions', 'oil', 'soy sauce', 'salt',...  ...        18.9   \n",
       "\n",
       "      direction_size ingredients_sizes who_score fsa_score  nutri_score  \\\n",
       "0                  2                 2  0.293040     1.000         0.75   \n",
       "1                 10                 2  0.214286     0.750         0.75   \n",
       "2                 11                 2  0.278414     0.750         0.75   \n",
       "3                  3                 2  0.276525     0.875         0.75   \n",
       "4                  4                 4  0.146714     0.125         0.00   \n",
       "...              ...               ...       ...       ...          ...   \n",
       "93743              5                13  0.223549     0.625         0.25   \n",
       "93744              9                21  0.153328     0.000         0.00   \n",
       "93745             12                19  0.205566     0.250         0.25   \n",
       "93746              7                15  0.197568     0.250         0.25   \n",
       "93747             14                38  0.233147     0.750         0.25   \n",
       "\n",
       "       normalization_comment  \\\n",
       "0                        NaN   \n",
       "1                        NaN   \n",
       "2                        NaN   \n",
       "3                        NaN   \n",
       "4                        NaN   \n",
       "...                      ...   \n",
       "93743                    NaN   \n",
       "93744                    NaN   \n",
       "93745                    NaN   \n",
       "93746                    NaN   \n",
       "93747                    NaN   \n",
       "\n",
       "                                 ingredient_food_kg_urls  \\\n",
       "0      ['http://idea.rpi.edu/heals/kb/ingredientname/...   \n",
       "1      ['http://idea.rpi.edu/heals/kb/ingredientname/...   \n",
       "2      ['http://idea.rpi.edu/heals/kb/ingredientname/...   \n",
       "3      ['http://idea.rpi.edu/heals/kb/ingredientname/...   \n",
       "4      ['http://idea.rpi.edu/heals/kb/ingredientname/...   \n",
       "...                                                  ...   \n",
       "93743  ['http://idea.rpi.edu/heals/kb/ingredientname/...   \n",
       "93744                                                NaN   \n",
       "93745  ['http://idea.rpi.edu/heals/kb/ingredientname/...   \n",
       "93746  ['http://idea.rpi.edu/heals/kb/ingredientname/...   \n",
       "93747  ['http://idea.rpi.edu/heals/kb/ingredientname/...   \n",
       "\n",
       "                                ingredient_food_kg_names  healthiness_label  \n",
       "0      ['applesauce', 'garlic clove', 'ginger', 'mola...                  0  \n",
       "1      ['bean sprouts', 'chicken thighs', 'fresh ging...                  1  \n",
       "2      ['baking powder', 'baking soda', 'cinnamon', '...                  0  \n",
       "3      ['carrots', 'fresh peas', 'fresh tomatoes', 'g...                  0  \n",
       "4      ['Shedd Spread Country Crock', 'cayenne pepper...                  2  \n",
       "...                                                  ...                ...  \n",
       "93743  ['Dijon mustard', 'Polish sausage', 'apricot p...                  1  \n",
       "93744                                                NaN                  1  \n",
       "93745  ['anchovies', 'celery ribs', 'diced tomatoes',...                  1  \n",
       "93746  [\"French\\\\'s French fried onions\", 'crabmeat',...                  1  \n",
       "93747  ['baking powder', 'baking soda', 'brown sugar'...                  1  \n",
       "\n",
       "[93748 rows x 40 columns]"
      ]
     },
     "execution_count": 4,
     "metadata": {},
     "output_type": "execute_result"
    }
   ],
   "source": [
    "recipes_df"
   ]
  },
  {
   "cell_type": "markdown",
   "metadata": {},
   "source": [
    "# SustainaMeal (ETA: 15/20 mins)"
   ]
  },
  {
   "cell_type": "markdown",
   "metadata": {},
   "source": [
    "Initializes the system by loading the data and preparing the embeddings."
   ]
  },
  {
   "cell_type": "code",
   "execution_count": 5,
   "metadata": {},
   "outputs": [
    {
     "name": "stderr",
     "output_type": "stream",
     "text": [
      "/home/festa/SustainaMeal_Case_Study/venv/lib/python3.8/site-packages/tqdm/auto.py:21: TqdmWarning: IProgress not found. Please update jupyter and ipywidgets. See https://ipywidgets.readthedocs.io/en/stable/user_install.html\n",
      "  from .autonotebook import tqdm as notebook_tqdm\n",
      "Processing Titles embeddings: 100%|██████████| 93748/93748 [21:09<00:00, 73.85batch/s]\n"
     ]
    }
   ],
   "source": [
    "from HeASe.sustainameal import SustainaMeal\n",
    "\n",
    "nutrients = ['calories [cal]', 'totalFat [g]', 'saturatedFat [g]', 'cholesterol [mg]', 'sodium [mg]', 'dietaryFiber [g]', 'sugars [g]', 'protein [g]']\n",
    "\n",
    "sm = SustainaMeal(\n",
    "    recipes_df=recipes_df,\n",
    "    nutrients=['calories [cal]', 'totalFat [g]', 'saturatedFat [g]', 'cholesterol [mg]', 'sodium [mg]', 'dietaryFiber [g]', 'sugars [g]', 'protein [g]'],\n",
    "    transformer_name='davanstrien/autotrain-recipes-2451975973'\n",
    ")"
   ]
  },
  {
   "cell_type": "markdown",
   "metadata": {},
   "source": [
    "# Upload Recipes of experiments"
   ]
  },
  {
   "cell_type": "code",
   "execution_count": 6,
   "metadata": {},
   "outputs": [],
   "source": [
    "import pandas as pd\n",
    "\n",
    "# Paths to the JSON files\n",
    "\n",
    "sustainability_label_2_recipes_file = '../experiments/data/sustainability_label_2_recipes.json'\n",
    "\n",
    "# Read the JSON files into pandas DataFrames\n",
    "\n",
    "sustainability_label_2_recipes = pd.read_json(sustainability_label_2_recipes_file)"
   ]
  },
  {
   "cell_type": "markdown",
   "metadata": {},
   "source": [
    "# Compare LLM Rerank"
   ]
  },
  {
   "cell_type": "code",
   "execution_count": 7,
   "metadata": {},
   "outputs": [
    {
     "name": "stderr",
     "output_type": "stream",
     "text": [
      "Loading checkpoint shards: 100%|██████████| 4/4 [00:15<00:00,  3.96s/it]\n"
     ]
    }
   ],
   "source": [
    "sm.setup_llama_model_id()\n",
    "sm.create_agent()"
   ]
  },
  {
   "cell_type": "code",
   "execution_count": 8,
   "metadata": {},
   "outputs": [],
   "source": [
    "acceptable_tags = ['appetizers', 'main-dish', 'side-dishes', 'drinks', 'beverages', 'fruits', 'desserts',\n",
    "                   'breakfast', 'pasta-rice-and-grains', 'rice', 'pasta', 'pizza', 'breads', 'meat', 'fish',\n",
    "                   'seafood', 'beef', 'chicken', 'vegetarian']"
   ]
  },
  {
   "cell_type": "code",
   "execution_count": 9,
   "metadata": {},
   "outputs": [
    {
     "name": "stdout",
     "output_type": "stream",
     "text": [
      "calories [cal], totalFat [g], saturatedFat [g], cholesterol [mg], sodium [mg], dietaryFiber [g], sugars [g], protein [g]\n"
     ]
    }
   ],
   "source": [
    "nutrients_string = \", \".join(nutrients)\n",
    "print(nutrients_string)"
   ]
  },
  {
   "cell_type": "code",
   "execution_count": 10,
   "metadata": {},
   "outputs": [],
   "source": [
    "selected_recipes = pd.concat([sustainability_label_2_recipes])"
   ]
  },
  {
   "cell_type": "code",
   "execution_count": 11,
   "metadata": {},
   "outputs": [
    {
     "data": {
      "text/plain": [
       "100"
      ]
     },
     "execution_count": 11,
     "metadata": {},
     "output_type": "execute_result"
    }
   ],
   "source": [
    "len(selected_recipes)"
   ]
  },
  {
   "cell_type": "code",
   "execution_count": 12,
   "metadata": {},
   "outputs": [],
   "source": [
    "# Definisci le soglie\n",
    "WHO_SCORE_THRESHOLDS = ( 0.15, 0.25)  # (soglia media, soglia alta)\n",
    "SUSTAINABILITY_SCORE_THRESHOLDS = (0.1, 0.5)  # (soglia media, soglia alta)\n",
    "\n",
    "# Funzioni di aiuto per calcolare le label\n",
    "def calculate_healthiness_label(who_score):\n",
    "    if who_score > WHO_SCORE_THRESHOLDS[1]:\n",
    "        return \"0\"\n",
    "    elif who_score < WHO_SCORE_THRESHOLDS[0]:\n",
    "        return \"2\"\n",
    "    else:\n",
    "        return \"1\"\n",
    "\n",
    "def calculate_sustainability_label(sustainability_score):\n",
    "    if sustainability_score <= SUSTAINABILITY_SCORE_THRESHOLDS[1]:\n",
    "        return \"0\"\n",
    "    elif sustainability_score >= SUSTAINABILITY_SCORE_THRESHOLDS[1]:\n",
    "        return \"2\"\n",
    "    else:\n",
    "        return \"1\"\n",
    "\n",
    "# Calcola le label in base ai valori di who_score e sustainability_score"
   ]
  },
  {
   "cell_type": "code",
   "execution_count": 14,
   "metadata": {},
   "outputs": [
    {
     "name": "stderr",
     "output_type": "stream",
     "text": [
      "Processing Titles embeddings: 100%|██████████| 1/1 [00:00<00:00, 78.10batch/s]"
     ]
    },
    {
     "name": "stderr",
     "output_type": "stream",
     "text": [
      "\n"
     ]
    },
    {
     "name": "stdout",
     "output_type": "stream",
     "text": [
      "Tags to match: ['main-dish', 'pasta', 'vegetarian', 'pasta-rice-and-grains']\n",
      "Number of filtered recipes: 40632\n"
     ]
    }
   ],
   "source": [
    "similar_recipes = sm.find_similar_recipes(\"Pasta\", 10, acceptable_tags=acceptable_tags, match_all_tags=False)"
   ]
  },
  {
   "cell_type": "code",
   "execution_count": 15,
   "metadata": {},
   "outputs": [
    {
     "name": "stdout",
     "output_type": "stream",
     "text": [
      "                                                   title  similarity_score  \\\n",
      "14718                             Brown Rice and Edamame          0.983478   \n",
      "15242  Tofu With Red Curry Paste, Peas, and Yellow To...          0.987000   \n",
      "10896                Pasta with Tomatoes, Peas and Cream          0.989872   \n",
      "27313                                          Tofu Bowl          0.982967   \n",
      "47161                       Asparagus-Mushroom Primavera          0.989029   \n",
      "59687         Angel Hair With Tomatoes, Basil and Garlic          0.983265   \n",
      "65588                  Spaghettini With Smothered Onions          0.983291   \n",
      "60293                    Orlando Bloom's Pasta Au Pistou          0.985503   \n",
      "68061               Mini Farfalle With Tomatoes and Corn          0.991634   \n",
      "79355                Pasta and Potatoes (Pasta e Patate)          0.984892   \n",
      "\n",
      "       who_score  healthiness_increment  sustainability_score  \\\n",
      "14718   0.345328              47.711098              0.909384   \n",
      "15242   0.300499              28.535918              0.907193   \n",
      "10896   0.251764               7.689879              0.922031   \n",
      "27313   0.324013              38.593896              0.880417   \n",
      "47161   0.311485              33.235023              0.806214   \n",
      "59687   0.305481              30.666899              0.713799   \n",
      "65588   0.324224              38.684031              0.701969   \n",
      "60293   0.238654               2.082387              0.712787   \n",
      "68061   0.235070               0.549407              0.699117   \n",
      "79355   0.223958              -4.203629              0.653446   \n",
      "\n",
      "       sustainability_increment  sustainameal_score  \\\n",
      "14718                 27.266804            0.740167   \n",
      "15242                 26.960134            0.725185   \n",
      "10896                 29.036761            0.720951   \n",
      "27313                 23.212972            0.713496   \n",
      "47161                 12.828308            0.657795   \n",
      "59687                 -0.105013            0.591303   \n",
      "65588                 -1.760558            0.588646   \n",
      "60293                 -0.246691            0.570547   \n",
      "68061                 -2.159693            0.559903   \n",
      "79355                 -8.551285            0.524600   \n",
      "\n",
      "       sustainameal_score_increment  \n",
      "14718                     29.780963  \n",
      "15242                     27.153918  \n",
      "10896                     26.411605  \n",
      "27313                     25.104458  \n",
      "47161                     15.337846  \n",
      "59687                      3.679195  \n",
      "65588                      3.213159  \n",
      "60293                      0.039730  \n",
      "68061                     -1.826538  \n",
      "79355                     -8.016628  \n"
     ]
    }
   ],
   "source": [
    "ordered_recipes = sm.order_recipe_by_sustainameal()\n",
    "print(ordered_recipes)"
   ]
  },
  {
   "cell_type": "code",
   "execution_count": 16,
   "metadata": {},
   "outputs": [
    {
     "name": "stdout",
     "output_type": "stream",
     "text": [
      "                                                   title  similarity_score  \\\n",
      "14718                             Brown Rice and Edamame          0.983478   \n",
      "15242  Tofu With Red Curry Paste, Peas, and Yellow To...          0.987000   \n",
      "10896                Pasta with Tomatoes, Peas and Cream          0.989872   \n",
      "27313                                          Tofu Bowl          0.982967   \n",
      "47161                       Asparagus-Mushroom Primavera          0.989029   \n",
      "59687         Angel Hair With Tomatoes, Basil and Garlic          0.983265   \n",
      "65588                  Spaghettini With Smothered Onions          0.983291   \n",
      "60293                    Orlando Bloom's Pasta Au Pistou          0.985503   \n",
      "68061               Mini Farfalle With Tomatoes and Corn          0.991634   \n",
      "79355                Pasta and Potatoes (Pasta e Patate)          0.984892   \n",
      "\n",
      "       who_score  healthiness_increment  sustainability_score  \\\n",
      "14718   0.345328              47.711098              0.909384   \n",
      "15242   0.300499              28.535918              0.907193   \n",
      "10896   0.251764               7.689879              0.922031   \n",
      "27313   0.324013              38.593896              0.880417   \n",
      "47161   0.311485              33.235023              0.806214   \n",
      "59687   0.305481              30.666899              0.713799   \n",
      "65588   0.324224              38.684031              0.701969   \n",
      "60293   0.238654               2.082387              0.712787   \n",
      "68061   0.235070               0.549407              0.699117   \n",
      "79355   0.223958              -4.203629              0.653446   \n",
      "\n",
      "       sustainability_increment  sustainameal_score  \\\n",
      "14718                 27.266804            0.740167   \n",
      "15242                 26.960134            0.725185   \n",
      "10896                 29.036761            0.720951   \n",
      "27313                 23.212972            0.713496   \n",
      "47161                 12.828308            0.657795   \n",
      "59687                 -0.105013            0.591303   \n",
      "65588                 -1.760558            0.588646   \n",
      "60293                 -0.246691            0.570547   \n",
      "68061                 -2.159693            0.559903   \n",
      "79355                 -8.551285            0.524600   \n",
      "\n",
      "       sustainameal_score_increment  \n",
      "14718                     29.780963  \n",
      "15242                     27.153918  \n",
      "10896                     26.411605  \n",
      "27313                     25.104458  \n",
      "47161                     15.337846  \n",
      "59687                      3.679195  \n",
      "65588                      3.213159  \n",
      "60293                      0.039730  \n",
      "68061                     -1.826538  \n",
      "79355                     -8.016628  \n"
     ]
    }
   ],
   "source": [
    "ordered_recipes_llama = sm.order_recipe_by_sustainameal()\n",
    "print(ordered_recipes_llama)"
   ]
  },
  {
   "cell_type": "code",
   "execution_count": 17,
   "metadata": {},
   "outputs": [
    {
     "name": "stderr",
     "output_type": "stream",
     "text": [
      "The attention mask and the pad token id were not set. As a consequence, you may observe unexpected behavior. Please pass your input's `attention_mask` to obtain reliable results.\n",
      "Setting `pad_token_id` to `eos_token_id`:128001 for open-end generation.\n",
      "The attention mask is not set and cannot be inferred from input because pad token is same as eos token.As a consequence, you may observe unexpected behavior. Please pass your input's `attention_mask` to obtain reliable results.\n"
     ]
    }
   ],
   "source": [
    "best_choice_by_llama = sm.choose_best_recipe_with_llama()"
   ]
  },
  {
   "cell_type": "code",
   "execution_count": 18,
   "metadata": {},
   "outputs": [
    {
     "name": "stderr",
     "output_type": "stream",
     "text": [
      "Processing Titles embeddings: 100%|██████████| 1/1 [00:00<00:00, 65.33batch/s]\n"
     ]
    },
    {
     "name": "stdout",
     "output_type": "stream",
     "text": [
      "Tags to match: ['main-dish', 'beef', 'pasta', 'meat', 'pasta-rice-and-grains']\n",
      "Number of filtered recipes: 34345\n"
     ]
    },
    {
     "name": "stderr",
     "output_type": "stream",
     "text": [
      "The attention mask and the pad token id were not set. As a consequence, you may observe unexpected behavior. Please pass your input's `attention_mask` to obtain reliable results.\n",
      "Setting `pad_token_id` to `eos_token_id`:128001 for open-end generation.\n",
      "Processing Titles embeddings: 100%|██████████| 1/1 [00:00<00:00, 79.04batch/s]\n"
     ]
    },
    {
     "name": "stdout",
     "output_type": "stream",
     "text": [
      "Tags to match: ['main-dish', 'meat', 'pasta-rice-and-grains']\n",
      "Number of filtered recipes: 34344\n"
     ]
    },
    {
     "name": "stderr",
     "output_type": "stream",
     "text": [
      "The attention mask and the pad token id were not set. As a consequence, you may observe unexpected behavior. Please pass your input's `attention_mask` to obtain reliable results.\n",
      "Setting `pad_token_id` to `eos_token_id`:128001 for open-end generation.\n",
      "Processing Titles embeddings: 100%|██████████| 1/1 [00:00<00:00, 80.43batch/s]\n",
      "The attention mask and the pad token id were not set. As a consequence, you may observe unexpected behavior. Please pass your input's `attention_mask` to obtain reliable results.\n",
      "Setting `pad_token_id` to `eos_token_id`:128001 for open-end generation.\n"
     ]
    },
    {
     "name": "stdout",
     "output_type": "stream",
     "text": [
      "Tags to match: ['beef', 'meat']\n",
      "Number of filtered recipes: 17375\n"
     ]
    },
    {
     "name": "stderr",
     "output_type": "stream",
     "text": [
      "Processing Titles embeddings: 100%|██████████| 1/1 [00:00<00:00, 81.30batch/s]\n"
     ]
    },
    {
     "name": "stdout",
     "output_type": "stream",
     "text": [
      "Tags to match: ['main-dish', 'beef', 'meat']\n",
      "Number of filtered recipes: 28937\n"
     ]
    },
    {
     "name": "stderr",
     "output_type": "stream",
     "text": [
      "The attention mask and the pad token id were not set. As a consequence, you may observe unexpected behavior. Please pass your input's `attention_mask` to obtain reliable results.\n",
      "Setting `pad_token_id` to `eos_token_id`:128001 for open-end generation.\n",
      "Processing Titles embeddings: 100%|██████████| 1/1 [00:00<00:00, 79.67batch/s]\n"
     ]
    },
    {
     "name": "stdout",
     "output_type": "stream",
     "text": [
      "Tags to match: ['main-dish', 'beef', 'meat']\n",
      "Number of filtered recipes: 28937\n"
     ]
    },
    {
     "name": "stderr",
     "output_type": "stream",
     "text": [
      "The attention mask and the pad token id were not set. As a consequence, you may observe unexpected behavior. Please pass your input's `attention_mask` to obtain reliable results.\n",
      "Setting `pad_token_id` to `eos_token_id`:128001 for open-end generation.\n",
      "Processing Titles embeddings: 100%|██████████| 1/1 [00:00<00:00, 64.53batch/s]\n"
     ]
    },
    {
     "name": "stdout",
     "output_type": "stream",
     "text": [
      "Tags to match: ['main-dish', 'beef', 'meat']\n",
      "Number of filtered recipes: 28937\n"
     ]
    },
    {
     "name": "stderr",
     "output_type": "stream",
     "text": [
      "The attention mask and the pad token id were not set. As a consequence, you may observe unexpected behavior. Please pass your input's `attention_mask` to obtain reliable results.\n",
      "Setting `pad_token_id` to `eos_token_id`:128001 for open-end generation.\n",
      "Processing Titles embeddings: 100%|██████████| 1/1 [00:00<00:00, 65.20batch/s]\n"
     ]
    },
    {
     "name": "stdout",
     "output_type": "stream",
     "text": [
      "Tags to match: ['main-dish', 'beef', 'meat']\n",
      "Number of filtered recipes: 28937\n"
     ]
    },
    {
     "name": "stderr",
     "output_type": "stream",
     "text": [
      "The attention mask and the pad token id were not set. As a consequence, you may observe unexpected behavior. Please pass your input's `attention_mask` to obtain reliable results.\n",
      "Setting `pad_token_id` to `eos_token_id`:128001 for open-end generation.\n",
      "Processing Titles embeddings: 100%|██████████| 1/1 [00:00<00:00, 60.42batch/s]\n"
     ]
    },
    {
     "name": "stdout",
     "output_type": "stream",
     "text": [
      "Tags to match: ['main-dish', 'beef', 'meat']\n",
      "Number of filtered recipes: 28937\n"
     ]
    },
    {
     "name": "stderr",
     "output_type": "stream",
     "text": [
      "The attention mask and the pad token id were not set. As a consequence, you may observe unexpected behavior. Please pass your input's `attention_mask` to obtain reliable results.\n",
      "Setting `pad_token_id` to `eos_token_id`:128001 for open-end generation.\n",
      "Processing Titles embeddings: 100%|██████████| 1/1 [00:00<00:00, 64.39batch/s]\n"
     ]
    },
    {
     "name": "stdout",
     "output_type": "stream",
     "text": [
      "Tags to match: ['main-dish', 'beef', 'meat']\n",
      "Number of filtered recipes: 28937\n"
     ]
    },
    {
     "name": "stderr",
     "output_type": "stream",
     "text": [
      "The attention mask and the pad token id were not set. As a consequence, you may observe unexpected behavior. Please pass your input's `attention_mask` to obtain reliable results.\n",
      "Setting `pad_token_id` to `eos_token_id`:128001 for open-end generation.\n",
      "Processing Titles embeddings: 100%|██████████| 1/1 [00:00<00:00, 64.05batch/s]\n"
     ]
    },
    {
     "name": "stdout",
     "output_type": "stream",
     "text": [
      "Tags to match: ['main-dish', 'seafood']\n",
      "Number of filtered recipes: 26549\n"
     ]
    },
    {
     "name": "stderr",
     "output_type": "stream",
     "text": [
      "The attention mask and the pad token id were not set. As a consequence, you may observe unexpected behavior. Please pass your input's `attention_mask` to obtain reliable results.\n",
      "Setting `pad_token_id` to `eos_token_id`:128001 for open-end generation.\n",
      "Processing Titles embeddings: 100%|██████████| 1/1 [00:00<00:00, 77.19batch/s]\n"
     ]
    },
    {
     "name": "stdout",
     "output_type": "stream",
     "text": [
      "Tags to match: ['main-dish', 'beef', 'meat']\n",
      "Number of filtered recipes: 28937\n"
     ]
    },
    {
     "name": "stderr",
     "output_type": "stream",
     "text": [
      "The attention mask and the pad token id were not set. As a consequence, you may observe unexpected behavior. Please pass your input's `attention_mask` to obtain reliable results.\n",
      "Setting `pad_token_id` to `eos_token_id`:128001 for open-end generation.\n",
      "Processing Titles embeddings: 100%|██████████| 1/1 [00:00<00:00, 67.72batch/s]\n"
     ]
    },
    {
     "name": "stdout",
     "output_type": "stream",
     "text": [
      "Tags to match: ['main-dish', 'pasta-rice-and-grains']\n",
      "Number of filtered recipes: 30435\n"
     ]
    },
    {
     "name": "stderr",
     "output_type": "stream",
     "text": [
      "The attention mask and the pad token id were not set. As a consequence, you may observe unexpected behavior. Please pass your input's `attention_mask` to obtain reliable results.\n",
      "Setting `pad_token_id` to `eos_token_id`:128001 for open-end generation.\n",
      "Processing Titles embeddings: 100%|██████████| 1/1 [00:00<00:00, 67.02batch/s]\n"
     ]
    },
    {
     "name": "stdout",
     "output_type": "stream",
     "text": [
      "Tags to match: ['main-dish', 'beef', 'meat']\n",
      "Number of filtered recipes: 28937\n"
     ]
    },
    {
     "name": "stderr",
     "output_type": "stream",
     "text": [
      "The attention mask and the pad token id were not set. As a consequence, you may observe unexpected behavior. Please pass your input's `attention_mask` to obtain reliable results.\n",
      "Setting `pad_token_id` to `eos_token_id`:128001 for open-end generation.\n",
      "Processing Titles embeddings: 100%|██████████| 1/1 [00:00<00:00, 65.22batch/s]\n",
      "The attention mask and the pad token id were not set. As a consequence, you may observe unexpected behavior. Please pass your input's `attention_mask` to obtain reliable results.\n",
      "Setting `pad_token_id` to `eos_token_id`:128001 for open-end generation.\n"
     ]
    },
    {
     "name": "stdout",
     "output_type": "stream",
     "text": [
      "Tags to match: ['seafood', 'fish']\n",
      "Number of filtered recipes: 5288\n"
     ]
    },
    {
     "name": "stderr",
     "output_type": "stream",
     "text": [
      "Processing Titles embeddings: 100%|██████████| 1/1 [00:00<00:00, 67.59batch/s]\n",
      "The attention mask and the pad token id were not set. As a consequence, you may observe unexpected behavior. Please pass your input's `attention_mask` to obtain reliable results.\n",
      "Setting `pad_token_id` to `eos_token_id`:128001 for open-end generation.\n"
     ]
    },
    {
     "name": "stdout",
     "output_type": "stream",
     "text": [
      "Tags to match: ['main-dish']\n",
      "Number of filtered recipes: 24622\n"
     ]
    },
    {
     "name": "stderr",
     "output_type": "stream",
     "text": [
      "Processing Titles embeddings: 100%|██████████| 1/1 [00:00<00:00, 64.84batch/s]\n"
     ]
    },
    {
     "name": "stdout",
     "output_type": "stream",
     "text": [
      "Tags to match: ['main-dish', 'beef', 'meat']\n",
      "Number of filtered recipes: 28937\n"
     ]
    },
    {
     "name": "stderr",
     "output_type": "stream",
     "text": [
      "The attention mask and the pad token id were not set. As a consequence, you may observe unexpected behavior. Please pass your input's `attention_mask` to obtain reliable results.\n",
      "Setting `pad_token_id` to `eos_token_id`:128001 for open-end generation.\n",
      "Processing Titles embeddings: 100%|██████████| 1/1 [00:00<00:00, 67.25batch/s]\n"
     ]
    },
    {
     "name": "stdout",
     "output_type": "stream",
     "text": [
      "Tags to match: ['main-dish', 'pasta', 'pasta-rice-and-grains']\n",
      "Number of filtered recipes: 30436\n"
     ]
    },
    {
     "name": "stderr",
     "output_type": "stream",
     "text": [
      "The attention mask and the pad token id were not set. As a consequence, you may observe unexpected behavior. Please pass your input's `attention_mask` to obtain reliable results.\n",
      "Setting `pad_token_id` to `eos_token_id`:128001 for open-end generation.\n",
      "Processing Titles embeddings: 100%|██████████| 1/1 [00:00<00:00, 66.51batch/s]\n"
     ]
    },
    {
     "name": "stdout",
     "output_type": "stream",
     "text": [
      "Tags to match: ['main-dish', 'side-dishes', 'beef', 'meat']\n",
      "Number of filtered recipes: 39622\n"
     ]
    },
    {
     "name": "stderr",
     "output_type": "stream",
     "text": [
      "The attention mask and the pad token id were not set. As a consequence, you may observe unexpected behavior. Please pass your input's `attention_mask` to obtain reliable results.\n",
      "Setting `pad_token_id` to `eos_token_id`:128001 for open-end generation.\n",
      "Processing Titles embeddings: 100%|██████████| 1/1 [00:00<00:00, 66.39batch/s]\n"
     ]
    },
    {
     "name": "stdout",
     "output_type": "stream",
     "text": [
      "Tags to match: ['beef', 'meat']\n",
      "Number of filtered recipes: 17375\n"
     ]
    },
    {
     "name": "stderr",
     "output_type": "stream",
     "text": [
      "The attention mask and the pad token id were not set. As a consequence, you may observe unexpected behavior. Please pass your input's `attention_mask` to obtain reliable results.\n",
      "Setting `pad_token_id` to `eos_token_id`:128001 for open-end generation.\n",
      "Processing Titles embeddings: 100%|██████████| 1/1 [00:00<00:00, 64.97batch/s]\n"
     ]
    },
    {
     "name": "stdout",
     "output_type": "stream",
     "text": [
      "Tags to match: []\n",
      "An error occurred while finding similar recipes: No tag found to match.\n"
     ]
    },
    {
     "name": "stderr",
     "output_type": "stream",
     "text": [
      "Processing Titles embeddings: 100%|██████████| 1/1 [00:00<00:00, 56.37batch/s]\n"
     ]
    },
    {
     "name": "stdout",
     "output_type": "stream",
     "text": [
      "Tags to match: ['main-dish', 'pasta', 'pasta-rice-and-grains']\n",
      "Number of filtered recipes: 30436\n"
     ]
    },
    {
     "name": "stderr",
     "output_type": "stream",
     "text": [
      "The attention mask and the pad token id were not set. As a consequence, you may observe unexpected behavior. Please pass your input's `attention_mask` to obtain reliable results.\n",
      "Setting `pad_token_id` to `eos_token_id`:128001 for open-end generation.\n",
      "Processing Titles embeddings: 100%|██████████| 1/1 [00:00<00:00, 67.71batch/s]\n"
     ]
    },
    {
     "name": "stdout",
     "output_type": "stream",
     "text": [
      "Tags to match: ['main-dish', 'beef', 'meat']\n",
      "Number of filtered recipes: 28937\n"
     ]
    },
    {
     "name": "stderr",
     "output_type": "stream",
     "text": [
      "The attention mask and the pad token id were not set. As a consequence, you may observe unexpected behavior. Please pass your input's `attention_mask` to obtain reliable results.\n",
      "Setting `pad_token_id` to `eos_token_id`:128001 for open-end generation.\n",
      "Processing Titles embeddings: 100%|██████████| 1/1 [00:00<00:00, 67.08batch/s]\n"
     ]
    },
    {
     "name": "stdout",
     "output_type": "stream",
     "text": [
      "Tags to match: ['main-dish', 'beef', 'meat']\n",
      "Number of filtered recipes: 28937\n"
     ]
    },
    {
     "name": "stderr",
     "output_type": "stream",
     "text": [
      "The attention mask and the pad token id were not set. As a consequence, you may observe unexpected behavior. Please pass your input's `attention_mask` to obtain reliable results.\n",
      "Setting `pad_token_id` to `eos_token_id`:128001 for open-end generation.\n",
      "Processing Titles embeddings: 100%|██████████| 1/1 [00:00<00:00, 63.66batch/s]\n"
     ]
    },
    {
     "name": "stdout",
     "output_type": "stream",
     "text": [
      "Tags to match: ['main-dish', 'pasta', 'pasta-rice-and-grains']\n",
      "Number of filtered recipes: 30436\n"
     ]
    },
    {
     "name": "stderr",
     "output_type": "stream",
     "text": [
      "The attention mask and the pad token id were not set. As a consequence, you may observe unexpected behavior. Please pass your input's `attention_mask` to obtain reliable results.\n",
      "Setting `pad_token_id` to `eos_token_id`:128001 for open-end generation.\n",
      "Processing Titles embeddings: 100%|██████████| 1/1 [00:00<00:00, 64.70batch/s]\n"
     ]
    },
    {
     "name": "stdout",
     "output_type": "stream",
     "text": [
      "Tags to match: ['appetizers', 'beef', 'meat']\n",
      "Number of filtered recipes: 23411\n"
     ]
    },
    {
     "name": "stderr",
     "output_type": "stream",
     "text": [
      "The attention mask and the pad token id were not set. As a consequence, you may observe unexpected behavior. Please pass your input's `attention_mask` to obtain reliable results.\n",
      "Setting `pad_token_id` to `eos_token_id`:128001 for open-end generation.\n",
      "Processing Titles embeddings: 100%|██████████| 1/1 [00:00<00:00, 77.70batch/s]\n"
     ]
    },
    {
     "name": "stdout",
     "output_type": "stream",
     "text": [
      "Tags to match: ['main-dish', 'beef', 'meat']\n",
      "Number of filtered recipes: 28937\n"
     ]
    },
    {
     "name": "stderr",
     "output_type": "stream",
     "text": [
      "The attention mask and the pad token id were not set. As a consequence, you may observe unexpected behavior. Please pass your input's `attention_mask` to obtain reliable results.\n",
      "Setting `pad_token_id` to `eos_token_id`:128001 for open-end generation.\n",
      "Processing Titles embeddings: 100%|██████████| 1/1 [00:00<00:00, 67.02batch/s]\n"
     ]
    },
    {
     "name": "stdout",
     "output_type": "stream",
     "text": [
      "Tags to match: ['appetizers', 'main-dish', 'beef', 'meat']\n",
      "Number of filtered recipes: 34526\n"
     ]
    },
    {
     "name": "stderr",
     "output_type": "stream",
     "text": [
      "The attention mask and the pad token id were not set. As a consequence, you may observe unexpected behavior. Please pass your input's `attention_mask` to obtain reliable results.\n",
      "Setting `pad_token_id` to `eos_token_id`:128001 for open-end generation.\n",
      "Processing Titles embeddings: 100%|██████████| 1/1 [00:00<00:00, 63.99batch/s]\n"
     ]
    },
    {
     "name": "stdout",
     "output_type": "stream",
     "text": [
      "Tags to match: ['main-dish', 'beef', 'pasta', 'meat', 'pasta-rice-and-grains']\n",
      "Number of filtered recipes: 34345\n"
     ]
    },
    {
     "name": "stderr",
     "output_type": "stream",
     "text": [
      "The attention mask and the pad token id were not set. As a consequence, you may observe unexpected behavior. Please pass your input's `attention_mask` to obtain reliable results.\n",
      "Setting `pad_token_id` to `eos_token_id`:128001 for open-end generation.\n",
      "Processing Titles embeddings: 100%|██████████| 1/1 [00:00<00:00, 79.56batch/s]\n",
      "The attention mask and the pad token id were not set. As a consequence, you may observe unexpected behavior. Please pass your input's `attention_mask` to obtain reliable results.\n"
     ]
    },
    {
     "name": "stdout",
     "output_type": "stream",
     "text": [
      "Tags to match: ['beef', 'meat']\n",
      "Number of filtered recipes: 17375\n"
     ]
    },
    {
     "name": "stderr",
     "output_type": "stream",
     "text": [
      "Setting `pad_token_id` to `eos_token_id`:128001 for open-end generation.\n",
      "Processing Titles embeddings: 100%|██████████| 1/1 [00:00<00:00, 79.84batch/s]\n",
      "The attention mask and the pad token id were not set. As a consequence, you may observe unexpected behavior. Please pass your input's `attention_mask` to obtain reliable results.\n",
      "Setting `pad_token_id` to `eos_token_id`:128001 for open-end generation.\n"
     ]
    },
    {
     "name": "stdout",
     "output_type": "stream",
     "text": [
      "Tags to match: ['main-dish']\n",
      "Number of filtered recipes: 24622\n"
     ]
    },
    {
     "name": "stderr",
     "output_type": "stream",
     "text": [
      "Processing Titles embeddings: 100%|██████████| 1/1 [00:00<00:00, 77.32batch/s]\n"
     ]
    },
    {
     "name": "stdout",
     "output_type": "stream",
     "text": [
      "Tags to match: ['main-dish', 'beef', 'rice', 'meat', 'pasta-rice-and-grains']\n",
      "Number of filtered recipes: 34344\n"
     ]
    },
    {
     "name": "stderr",
     "output_type": "stream",
     "text": [
      "The attention mask and the pad token id were not set. As a consequence, you may observe unexpected behavior. Please pass your input's `attention_mask` to obtain reliable results.\n",
      "Setting `pad_token_id` to `eos_token_id`:128001 for open-end generation.\n",
      "Processing Titles embeddings: 100%|██████████| 1/1 [00:00<00:00, 54.31batch/s]\n"
     ]
    },
    {
     "name": "stdout",
     "output_type": "stream",
     "text": [
      "Tags to match: ['main-dish', 'beef', 'meat']\n",
      "Number of filtered recipes: 28937\n"
     ]
    },
    {
     "name": "stderr",
     "output_type": "stream",
     "text": [
      "The attention mask and the pad token id were not set. As a consequence, you may observe unexpected behavior. Please pass your input's `attention_mask` to obtain reliable results.\n",
      "Setting `pad_token_id` to `eos_token_id`:128001 for open-end generation.\n",
      "Processing Titles embeddings: 100%|██████████| 1/1 [00:00<00:00, 64.37batch/s]\n"
     ]
    },
    {
     "name": "stdout",
     "output_type": "stream",
     "text": [
      "Tags to match: ['main-dish', 'beef', 'meat']\n",
      "Number of filtered recipes: 28937\n"
     ]
    },
    {
     "name": "stderr",
     "output_type": "stream",
     "text": [
      "The attention mask and the pad token id were not set. As a consequence, you may observe unexpected behavior. Please pass your input's `attention_mask` to obtain reliable results.\n",
      "Setting `pad_token_id` to `eos_token_id`:128001 for open-end generation.\n",
      "Processing Titles embeddings: 100%|██████████| 1/1 [00:00<00:00, 55.97batch/s]\n",
      "The attention mask and the pad token id were not set. As a consequence, you may observe unexpected behavior. Please pass your input's `attention_mask` to obtain reliable results.\n"
     ]
    },
    {
     "name": "stdout",
     "output_type": "stream",
     "text": [
      "Tags to match: ['main-dish']\n",
      "Number of filtered recipes: 24622\n"
     ]
    },
    {
     "name": "stderr",
     "output_type": "stream",
     "text": [
      "Setting `pad_token_id` to `eos_token_id`:128001 for open-end generation.\n",
      "Processing Titles embeddings: 100%|██████████| 1/1 [00:00<00:00, 63.31batch/s]\n"
     ]
    },
    {
     "name": "stdout",
     "output_type": "stream",
     "text": [
      "Tags to match: ['main-dish', 'beef', 'meat']\n",
      "Number of filtered recipes: 28937\n"
     ]
    },
    {
     "name": "stderr",
     "output_type": "stream",
     "text": [
      "The attention mask and the pad token id were not set. As a consequence, you may observe unexpected behavior. Please pass your input's `attention_mask` to obtain reliable results.\n",
      "Setting `pad_token_id` to `eos_token_id`:128001 for open-end generation.\n",
      "Processing Titles embeddings: 100%|██████████| 1/1 [00:00<00:00, 67.80batch/s]\n"
     ]
    },
    {
     "name": "stdout",
     "output_type": "stream",
     "text": [
      "Tags to match: ['main-dish', 'beef', 'meat']\n",
      "Number of filtered recipes: 28937\n"
     ]
    },
    {
     "name": "stderr",
     "output_type": "stream",
     "text": [
      "The attention mask and the pad token id were not set. As a consequence, you may observe unexpected behavior. Please pass your input's `attention_mask` to obtain reliable results.\n",
      "Setting `pad_token_id` to `eos_token_id`:128001 for open-end generation.\n",
      "Processing Titles embeddings: 100%|██████████| 1/1 [00:00<00:00, 78.76batch/s]\n"
     ]
    },
    {
     "name": "stdout",
     "output_type": "stream",
     "text": [
      "Tags to match: ['main-dish', 'beef', 'pasta', 'meat', 'pasta-rice-and-grains']\n",
      "Number of filtered recipes: 34345\n"
     ]
    },
    {
     "name": "stderr",
     "output_type": "stream",
     "text": [
      "The attention mask and the pad token id were not set. As a consequence, you may observe unexpected behavior. Please pass your input's `attention_mask` to obtain reliable results.\n",
      "Setting `pad_token_id` to `eos_token_id`:128001 for open-end generation.\n",
      "Processing Titles embeddings: 100%|██████████| 1/1 [00:00<00:00, 61.97batch/s]\n"
     ]
    },
    {
     "name": "stdout",
     "output_type": "stream",
     "text": [
      "Tags to match: ['main-dish', 'beef', 'meat']\n",
      "Number of filtered recipes: 28937\n"
     ]
    },
    {
     "name": "stderr",
     "output_type": "stream",
     "text": [
      "The attention mask and the pad token id were not set. As a consequence, you may observe unexpected behavior. Please pass your input's `attention_mask` to obtain reliable results.\n",
      "Setting `pad_token_id` to `eos_token_id`:128001 for open-end generation.\n",
      "Processing Titles embeddings: 100%|██████████| 1/1 [00:00<00:00, 58.83batch/s]\n"
     ]
    },
    {
     "name": "stdout",
     "output_type": "stream",
     "text": [
      "Tags to match: ['main-dish', 'beef', 'meat']\n",
      "Number of filtered recipes: 28937\n"
     ]
    },
    {
     "name": "stderr",
     "output_type": "stream",
     "text": [
      "The attention mask and the pad token id were not set. As a consequence, you may observe unexpected behavior. Please pass your input's `attention_mask` to obtain reliable results.\n",
      "Setting `pad_token_id` to `eos_token_id`:128001 for open-end generation.\n",
      "Processing Titles embeddings: 100%|██████████| 1/1 [00:00<00:00, 69.26batch/s]\n"
     ]
    },
    {
     "name": "stdout",
     "output_type": "stream",
     "text": [
      "Tags to match: ['main-dish']\n",
      "Number of filtered recipes: 24622\n"
     ]
    },
    {
     "name": "stderr",
     "output_type": "stream",
     "text": [
      "The attention mask and the pad token id were not set. As a consequence, you may observe unexpected behavior. Please pass your input's `attention_mask` to obtain reliable results.\n",
      "Setting `pad_token_id` to `eos_token_id`:128001 for open-end generation.\n",
      "Processing Titles embeddings: 100%|██████████| 1/1 [00:00<00:00, 62.62batch/s]\n"
     ]
    },
    {
     "name": "stdout",
     "output_type": "stream",
     "text": [
      "Tags to match: ['appetizers', 'main-dish', 'pizza']\n",
      "Number of filtered recipes: 30976\n"
     ]
    },
    {
     "name": "stderr",
     "output_type": "stream",
     "text": [
      "The attention mask and the pad token id were not set. As a consequence, you may observe unexpected behavior. Please pass your input's `attention_mask` to obtain reliable results.\n",
      "Setting `pad_token_id` to `eos_token_id`:128001 for open-end generation.\n",
      "Processing Titles embeddings: 100%|██████████| 1/1 [00:00<00:00, 66.71batch/s]\n"
     ]
    },
    {
     "name": "stdout",
     "output_type": "stream",
     "text": [
      "Tags to match: ['appetizers', 'main-dish', 'beef', 'meat']\n",
      "Number of filtered recipes: 34526\n"
     ]
    },
    {
     "name": "stderr",
     "output_type": "stream",
     "text": [
      "The attention mask and the pad token id were not set. As a consequence, you may observe unexpected behavior. Please pass your input's `attention_mask` to obtain reliable results.\n",
      "Setting `pad_token_id` to `eos_token_id`:128001 for open-end generation.\n",
      "Processing Titles embeddings: 100%|██████████| 1/1 [00:00<00:00, 81.32batch/s]\n"
     ]
    },
    {
     "name": "stdout",
     "output_type": "stream",
     "text": [
      "Tags to match: ['main-dish', 'beef', 'meat']\n",
      "Number of filtered recipes: 28937\n"
     ]
    },
    {
     "name": "stderr",
     "output_type": "stream",
     "text": [
      "The attention mask and the pad token id were not set. As a consequence, you may observe unexpected behavior. Please pass your input's `attention_mask` to obtain reliable results.\n",
      "Setting `pad_token_id` to `eos_token_id`:128001 for open-end generation.\n",
      "Processing Titles embeddings: 100%|██████████| 1/1 [00:00<00:00, 79.53batch/s]\n"
     ]
    },
    {
     "name": "stdout",
     "output_type": "stream",
     "text": [
      "Tags to match: ['main-dish', 'beef', 'meat']\n",
      "Number of filtered recipes: 28937\n"
     ]
    },
    {
     "name": "stderr",
     "output_type": "stream",
     "text": [
      "The attention mask and the pad token id were not set. As a consequence, you may observe unexpected behavior. Please pass your input's `attention_mask` to obtain reliable results.\n",
      "Setting `pad_token_id` to `eos_token_id`:128001 for open-end generation.\n",
      "Processing Titles embeddings: 100%|██████████| 1/1 [00:00<00:00, 67.16batch/s]\n"
     ]
    },
    {
     "name": "stdout",
     "output_type": "stream",
     "text": [
      "Tags to match: ['appetizers', 'main-dish', 'beef', 'meat']\n",
      "Number of filtered recipes: 34526\n"
     ]
    },
    {
     "name": "stderr",
     "output_type": "stream",
     "text": [
      "The attention mask and the pad token id were not set. As a consequence, you may observe unexpected behavior. Please pass your input's `attention_mask` to obtain reliable results.\n",
      "Setting `pad_token_id` to `eos_token_id`:128001 for open-end generation.\n",
      "Processing Titles embeddings: 100%|██████████| 1/1 [00:00<00:00, 76.90batch/s]\n",
      "The attention mask and the pad token id were not set. As a consequence, you may observe unexpected behavior. Please pass your input's `attention_mask` to obtain reliable results.\n",
      "Setting `pad_token_id` to `eos_token_id`:128001 for open-end generation.\n"
     ]
    },
    {
     "name": "stdout",
     "output_type": "stream",
     "text": [
      "Tags to match: ['main-dish']\n",
      "Number of filtered recipes: 24622\n"
     ]
    },
    {
     "name": "stderr",
     "output_type": "stream",
     "text": [
      "Processing Titles embeddings: 100%|██████████| 1/1 [00:00<00:00, 64.90batch/s]\n"
     ]
    },
    {
     "name": "stdout",
     "output_type": "stream",
     "text": [
      "Tags to match: ['main-dish', 'beef', 'meat']\n",
      "Number of filtered recipes: 28937\n"
     ]
    },
    {
     "name": "stderr",
     "output_type": "stream",
     "text": [
      "The attention mask and the pad token id were not set. As a consequence, you may observe unexpected behavior. Please pass your input's `attention_mask` to obtain reliable results.\n",
      "Setting `pad_token_id` to `eos_token_id`:128001 for open-end generation.\n",
      "Processing Titles embeddings: 100%|██████████| 1/1 [00:00<00:00, 63.94batch/s]\n",
      "The attention mask and the pad token id were not set. As a consequence, you may observe unexpected behavior. Please pass your input's `attention_mask` to obtain reliable results.\n",
      "Setting `pad_token_id` to `eos_token_id`:128001 for open-end generation.\n"
     ]
    },
    {
     "name": "stdout",
     "output_type": "stream",
     "text": [
      "Tags to match: ['breakfast']\n",
      "Number of filtered recipes: 6795\n"
     ]
    },
    {
     "name": "stderr",
     "output_type": "stream",
     "text": [
      "Processing Titles embeddings: 100%|██████████| 1/1 [00:00<00:00, 67.42batch/s]\n"
     ]
    },
    {
     "name": "stdout",
     "output_type": "stream",
     "text": [
      "Tags to match: ['main-dish', 'beef', 'meat']\n",
      "Number of filtered recipes: 28937\n"
     ]
    },
    {
     "name": "stderr",
     "output_type": "stream",
     "text": [
      "The attention mask and the pad token id were not set. As a consequence, you may observe unexpected behavior. Please pass your input's `attention_mask` to obtain reliable results.\n",
      "Setting `pad_token_id` to `eos_token_id`:128001 for open-end generation.\n",
      "Processing Titles embeddings: 100%|██████████| 1/1 [00:00<00:00, 64.78batch/s]\n"
     ]
    },
    {
     "name": "stdout",
     "output_type": "stream",
     "text": [
      "Tags to match: ['main-dish', 'beef', 'meat']\n",
      "Number of filtered recipes: 28937\n"
     ]
    },
    {
     "name": "stderr",
     "output_type": "stream",
     "text": [
      "The attention mask and the pad token id were not set. As a consequence, you may observe unexpected behavior. Please pass your input's `attention_mask` to obtain reliable results.\n",
      "Setting `pad_token_id` to `eos_token_id`:128001 for open-end generation.\n",
      "Processing Titles embeddings: 100%|██████████| 1/1 [00:00<00:00, 64.55batch/s]\n"
     ]
    },
    {
     "name": "stdout",
     "output_type": "stream",
     "text": [
      "Tags to match: ['breakfast', 'beef', 'pasta', 'meat', 'pasta-rice-and-grains']\n",
      "Number of filtered recipes: 32300\n"
     ]
    },
    {
     "name": "stderr",
     "output_type": "stream",
     "text": [
      "The attention mask and the pad token id were not set. As a consequence, you may observe unexpected behavior. Please pass your input's `attention_mask` to obtain reliable results.\n",
      "Setting `pad_token_id` to `eos_token_id`:128001 for open-end generation.\n",
      "Processing Titles embeddings: 100%|██████████| 1/1 [00:00<00:00, 64.62batch/s]\n"
     ]
    },
    {
     "name": "stdout",
     "output_type": "stream",
     "text": [
      "Tags to match: ['main-dish', 'beef', 'meat']\n",
      "Number of filtered recipes: 28937\n"
     ]
    },
    {
     "name": "stderr",
     "output_type": "stream",
     "text": [
      "The attention mask and the pad token id were not set. As a consequence, you may observe unexpected behavior. Please pass your input's `attention_mask` to obtain reliable results.\n",
      "Setting `pad_token_id` to `eos_token_id`:128001 for open-end generation.\n",
      "Processing Titles embeddings: 100%|██████████| 1/1 [00:00<00:00, 67.32batch/s]\n"
     ]
    },
    {
     "name": "stdout",
     "output_type": "stream",
     "text": [
      "Tags to match: ['main-dish', 'beef', 'meat']\n",
      "Number of filtered recipes: 28937\n"
     ]
    },
    {
     "name": "stderr",
     "output_type": "stream",
     "text": [
      "The attention mask and the pad token id were not set. As a consequence, you may observe unexpected behavior. Please pass your input's `attention_mask` to obtain reliable results.\n",
      "Setting `pad_token_id` to `eos_token_id`:128001 for open-end generation.\n",
      "Processing Titles embeddings: 100%|██████████| 1/1 [00:00<00:00, 67.76batch/s]\n"
     ]
    },
    {
     "name": "stdout",
     "output_type": "stream",
     "text": [
      "Tags to match: ['main-dish', 'beef', 'meat']\n",
      "Number of filtered recipes: 28937\n"
     ]
    },
    {
     "name": "stderr",
     "output_type": "stream",
     "text": [
      "The attention mask and the pad token id were not set. As a consequence, you may observe unexpected behavior. Please pass your input's `attention_mask` to obtain reliable results.\n",
      "Setting `pad_token_id` to `eos_token_id`:128001 for open-end generation.\n",
      "Processing Titles embeddings: 100%|██████████| 1/1 [00:00<00:00, 66.83batch/s]\n"
     ]
    },
    {
     "name": "stdout",
     "output_type": "stream",
     "text": [
      "Tags to match: ['main-dish', 'meat']\n",
      "Number of filtered recipes: 28937\n"
     ]
    },
    {
     "name": "stderr",
     "output_type": "stream",
     "text": [
      "The attention mask and the pad token id were not set. As a consequence, you may observe unexpected behavior. Please pass your input's `attention_mask` to obtain reliable results.\n",
      "Setting `pad_token_id` to `eos_token_id`:128001 for open-end generation.\n",
      "Processing Titles embeddings: 100%|██████████| 1/1 [00:00<00:00, 62.54batch/s]\n"
     ]
    },
    {
     "name": "stdout",
     "output_type": "stream",
     "text": [
      "Tags to match: ['main-dish', 'beef', 'meat']\n",
      "Number of filtered recipes: 28937\n"
     ]
    },
    {
     "name": "stderr",
     "output_type": "stream",
     "text": [
      "The attention mask and the pad token id were not set. As a consequence, you may observe unexpected behavior. Please pass your input's `attention_mask` to obtain reliable results.\n",
      "Setting `pad_token_id` to `eos_token_id`:128001 for open-end generation.\n",
      "Processing Titles embeddings: 100%|██████████| 1/1 [00:00<00:00, 79.42batch/s]\n"
     ]
    },
    {
     "name": "stdout",
     "output_type": "stream",
     "text": [
      "Tags to match: ['main-dish', 'beef', 'meat']\n",
      "Number of filtered recipes: 28937\n"
     ]
    },
    {
     "name": "stderr",
     "output_type": "stream",
     "text": [
      "The attention mask and the pad token id were not set. As a consequence, you may observe unexpected behavior. Please pass your input's `attention_mask` to obtain reliable results.\n",
      "Setting `pad_token_id` to `eos_token_id`:128001 for open-end generation.\n",
      "Processing Titles embeddings: 100%|██████████| 1/1 [00:00<00:00, 67.61batch/s]\n"
     ]
    },
    {
     "name": "stdout",
     "output_type": "stream",
     "text": [
      "Tags to match: ['main-dish', 'beef', 'meat', 'pasta-rice-and-grains']\n",
      "Number of filtered recipes: 34344\n"
     ]
    },
    {
     "name": "stderr",
     "output_type": "stream",
     "text": [
      "The attention mask and the pad token id were not set. As a consequence, you may observe unexpected behavior. Please pass your input's `attention_mask` to obtain reliable results.\n",
      "Setting `pad_token_id` to `eos_token_id`:128001 for open-end generation.\n",
      "Processing Titles embeddings: 100%|██████████| 1/1 [00:00<00:00, 72.46batch/s]\n"
     ]
    },
    {
     "name": "stdout",
     "output_type": "stream",
     "text": [
      "Tags to match: ['main-dish', 'beef', 'meat']\n",
      "Number of filtered recipes: 28937\n"
     ]
    },
    {
     "name": "stderr",
     "output_type": "stream",
     "text": [
      "The attention mask and the pad token id were not set. As a consequence, you may observe unexpected behavior. Please pass your input's `attention_mask` to obtain reliable results.\n",
      "Setting `pad_token_id` to `eos_token_id`:128001 for open-end generation.\n",
      "Processing Titles embeddings: 100%|██████████| 1/1 [00:00<00:00, 64.59batch/s]\n"
     ]
    },
    {
     "name": "stdout",
     "output_type": "stream",
     "text": [
      "Tags to match: ['main-dish', 'chicken', 'meat']\n",
      "Number of filtered recipes: 28937\n"
     ]
    },
    {
     "name": "stderr",
     "output_type": "stream",
     "text": [
      "The attention mask and the pad token id were not set. As a consequence, you may observe unexpected behavior. Please pass your input's `attention_mask` to obtain reliable results.\n",
      "Setting `pad_token_id` to `eos_token_id`:128001 for open-end generation.\n",
      "Processing Titles embeddings: 100%|██████████| 1/1 [00:00<00:00, 67.26batch/s]\n"
     ]
    },
    {
     "name": "stdout",
     "output_type": "stream",
     "text": [
      "Tags to match: ['beef', 'meat']\n",
      "Number of filtered recipes: 17375\n"
     ]
    },
    {
     "name": "stderr",
     "output_type": "stream",
     "text": [
      "The attention mask and the pad token id were not set. As a consequence, you may observe unexpected behavior. Please pass your input's `attention_mask` to obtain reliable results.\n",
      "Setting `pad_token_id` to `eos_token_id`:128001 for open-end generation.\n",
      "Processing Titles embeddings: 100%|██████████| 1/1 [00:00<00:00, 67.33batch/s]\n",
      "The attention mask and the pad token id were not set. As a consequence, you may observe unexpected behavior. Please pass your input's `attention_mask` to obtain reliable results.\n"
     ]
    },
    {
     "name": "stdout",
     "output_type": "stream",
     "text": [
      "Tags to match: ['beef', 'meat']\n",
      "Number of filtered recipes: 17375\n"
     ]
    },
    {
     "name": "stderr",
     "output_type": "stream",
     "text": [
      "Setting `pad_token_id` to `eos_token_id`:128001 for open-end generation.\n",
      "Processing Titles embeddings: 100%|██████████| 1/1 [00:00<00:00, 67.70batch/s]\n"
     ]
    },
    {
     "name": "stdout",
     "output_type": "stream",
     "text": [
      "Tags to match: ['main-dish', 'beef', 'meat']\n",
      "Number of filtered recipes: 28937\n"
     ]
    },
    {
     "name": "stderr",
     "output_type": "stream",
     "text": [
      "The attention mask and the pad token id were not set. As a consequence, you may observe unexpected behavior. Please pass your input's `attention_mask` to obtain reliable results.\n",
      "Setting `pad_token_id` to `eos_token_id`:128001 for open-end generation.\n",
      "Processing Titles embeddings: 100%|██████████| 1/1 [00:00<00:00, 68.57batch/s]\n"
     ]
    },
    {
     "name": "stdout",
     "output_type": "stream",
     "text": [
      "Tags to match: ['main-dish', 'beef', 'pasta', 'meat', 'pasta-rice-and-grains']\n",
      "Number of filtered recipes: 34345\n"
     ]
    },
    {
     "name": "stderr",
     "output_type": "stream",
     "text": [
      "The attention mask and the pad token id were not set. As a consequence, you may observe unexpected behavior. Please pass your input's `attention_mask` to obtain reliable results.\n",
      "Setting `pad_token_id` to `eos_token_id`:128001 for open-end generation.\n",
      "Processing Titles embeddings: 100%|██████████| 1/1 [00:00<00:00, 56.24batch/s]\n"
     ]
    },
    {
     "name": "stdout",
     "output_type": "stream",
     "text": [
      "Tags to match: ['main-dish', 'beef', 'meat']\n",
      "Number of filtered recipes: 28937\n"
     ]
    },
    {
     "name": "stderr",
     "output_type": "stream",
     "text": [
      "The attention mask and the pad token id were not set. As a consequence, you may observe unexpected behavior. Please pass your input's `attention_mask` to obtain reliable results.\n",
      "Setting `pad_token_id` to `eos_token_id`:128001 for open-end generation.\n",
      "Processing Titles embeddings: 100%|██████████| 1/1 [00:00<00:00, 63.60batch/s]\n",
      "The attention mask and the pad token id were not set. As a consequence, you may observe unexpected behavior. Please pass your input's `attention_mask` to obtain reliable results.\n",
      "Setting `pad_token_id` to `eos_token_id`:128001 for open-end generation.\n"
     ]
    },
    {
     "name": "stdout",
     "output_type": "stream",
     "text": [
      "Tags to match: ['main-dish']\n",
      "Number of filtered recipes: 24622\n"
     ]
    },
    {
     "name": "stderr",
     "output_type": "stream",
     "text": [
      "Processing Titles embeddings: 100%|██████████| 1/1 [00:00<00:00, 67.01batch/s]\n"
     ]
    },
    {
     "name": "stdout",
     "output_type": "stream",
     "text": [
      "Tags to match: ['main-dish', 'beef', 'meat']\n",
      "Number of filtered recipes: 28937\n"
     ]
    },
    {
     "name": "stderr",
     "output_type": "stream",
     "text": [
      "The attention mask and the pad token id were not set. As a consequence, you may observe unexpected behavior. Please pass your input's `attention_mask` to obtain reliable results.\n",
      "Setting `pad_token_id` to `eos_token_id`:128001 for open-end generation.\n",
      "Processing Titles embeddings: 100%|██████████| 1/1 [00:00<00:00, 62.46batch/s]\n",
      "The attention mask and the pad token id were not set. As a consequence, you may observe unexpected behavior. Please pass your input's `attention_mask` to obtain reliable results.\n",
      "Setting `pad_token_id` to `eos_token_id`:128001 for open-end generation.\n"
     ]
    },
    {
     "name": "stdout",
     "output_type": "stream",
     "text": [
      "Tags to match: ['beef', 'meat']\n",
      "Number of filtered recipes: 17375\n"
     ]
    },
    {
     "name": "stderr",
     "output_type": "stream",
     "text": [
      "Processing Titles embeddings: 100%|██████████| 1/1 [00:00<00:00, 55.39batch/s]\n"
     ]
    },
    {
     "name": "stdout",
     "output_type": "stream",
     "text": [
      "Tags to match: ['main-dish', 'beef', 'meat']\n",
      "Number of filtered recipes: 28937\n"
     ]
    },
    {
     "name": "stderr",
     "output_type": "stream",
     "text": [
      "The attention mask and the pad token id were not set. As a consequence, you may observe unexpected behavior. Please pass your input's `attention_mask` to obtain reliable results.\n",
      "Setting `pad_token_id` to `eos_token_id`:128001 for open-end generation.\n",
      "Processing Titles embeddings: 100%|██████████| 1/1 [00:00<00:00, 56.26batch/s]\n"
     ]
    },
    {
     "name": "stdout",
     "output_type": "stream",
     "text": [
      "Tags to match: ['appetizers', 'beef', 'meat']\n",
      "Number of filtered recipes: 23411\n"
     ]
    },
    {
     "name": "stderr",
     "output_type": "stream",
     "text": [
      "The attention mask and the pad token id were not set. As a consequence, you may observe unexpected behavior. Please pass your input's `attention_mask` to obtain reliable results.\n",
      "Setting `pad_token_id` to `eos_token_id`:128001 for open-end generation.\n",
      "Processing Titles embeddings: 100%|██████████| 1/1 [00:00<00:00, 66.70batch/s]\n"
     ]
    },
    {
     "name": "stdout",
     "output_type": "stream",
     "text": [
      "Tags to match: ['appetizers', 'breakfast', 'main-dish', 'beef', 'meat', 'pasta-rice-and-grains']\n",
      "Number of filtered recipes: 44796\n"
     ]
    },
    {
     "name": "stderr",
     "output_type": "stream",
     "text": [
      "The attention mask and the pad token id were not set. As a consequence, you may observe unexpected behavior. Please pass your input's `attention_mask` to obtain reliable results.\n",
      "Setting `pad_token_id` to `eos_token_id`:128001 for open-end generation.\n",
      "Processing Titles embeddings: 100%|██████████| 1/1 [00:00<00:00, 68.43batch/s]\n"
     ]
    },
    {
     "name": "stdout",
     "output_type": "stream",
     "text": [
      "Tags to match: ['main-dish', 'pasta', 'pasta-rice-and-grains']\n",
      "Number of filtered recipes: 30436\n"
     ]
    },
    {
     "name": "stderr",
     "output_type": "stream",
     "text": [
      "The attention mask and the pad token id were not set. As a consequence, you may observe unexpected behavior. Please pass your input's `attention_mask` to obtain reliable results.\n",
      "Setting `pad_token_id` to `eos_token_id`:128001 for open-end generation.\n",
      "Processing Titles embeddings: 100%|██████████| 1/1 [00:00<00:00, 65.30batch/s]\n"
     ]
    },
    {
     "name": "stdout",
     "output_type": "stream",
     "text": [
      "Tags to match: ['main-dish', 'beef', 'meat']\n",
      "Number of filtered recipes: 28937\n"
     ]
    },
    {
     "name": "stderr",
     "output_type": "stream",
     "text": [
      "The attention mask and the pad token id were not set. As a consequence, you may observe unexpected behavior. Please pass your input's `attention_mask` to obtain reliable results.\n",
      "Setting `pad_token_id` to `eos_token_id`:128001 for open-end generation.\n",
      "Processing Titles embeddings: 100%|██████████| 1/1 [00:00<00:00, 66.17batch/s]\n"
     ]
    },
    {
     "name": "stdout",
     "output_type": "stream",
     "text": [
      "Tags to match: ['main-dish', 'beef', 'meat']\n",
      "Number of filtered recipes: 28937\n"
     ]
    },
    {
     "name": "stderr",
     "output_type": "stream",
     "text": [
      "The attention mask and the pad token id were not set. As a consequence, you may observe unexpected behavior. Please pass your input's `attention_mask` to obtain reliable results.\n",
      "Setting `pad_token_id` to `eos_token_id`:128001 for open-end generation.\n",
      "Processing Titles embeddings: 100%|██████████| 1/1 [00:00<00:00, 66.36batch/s]\n"
     ]
    },
    {
     "name": "stdout",
     "output_type": "stream",
     "text": [
      "Tags to match: ['main-dish', 'beef', 'meat']\n",
      "Number of filtered recipes: 28937\n"
     ]
    },
    {
     "name": "stderr",
     "output_type": "stream",
     "text": [
      "The attention mask and the pad token id were not set. As a consequence, you may observe unexpected behavior. Please pass your input's `attention_mask` to obtain reliable results.\n",
      "Setting `pad_token_id` to `eos_token_id`:128001 for open-end generation.\n",
      "Processing Titles embeddings: 100%|██████████| 1/1 [00:00<00:00, 63.13batch/s]\n"
     ]
    },
    {
     "name": "stdout",
     "output_type": "stream",
     "text": [
      "Tags to match: ['main-dish', 'beef', 'meat']\n",
      "Number of filtered recipes: 28937\n"
     ]
    },
    {
     "name": "stderr",
     "output_type": "stream",
     "text": [
      "The attention mask and the pad token id were not set. As a consequence, you may observe unexpected behavior. Please pass your input's `attention_mask` to obtain reliable results.\n",
      "Setting `pad_token_id` to `eos_token_id`:128001 for open-end generation.\n",
      "Processing Titles embeddings: 100%|██████████| 1/1 [00:00<00:00, 65.04batch/s]\n"
     ]
    },
    {
     "name": "stdout",
     "output_type": "stream",
     "text": [
      "Tags to match: ['main-dish', 'beef', 'pasta', 'meat', 'pasta-rice-and-grains']\n",
      "Number of filtered recipes: 34345\n"
     ]
    },
    {
     "name": "stderr",
     "output_type": "stream",
     "text": [
      "The attention mask and the pad token id were not set. As a consequence, you may observe unexpected behavior. Please pass your input's `attention_mask` to obtain reliable results.\n",
      "Setting `pad_token_id` to `eos_token_id`:128001 for open-end generation.\n",
      "Processing Titles embeddings: 100%|██████████| 1/1 [00:00<00:00, 67.12batch/s]\n"
     ]
    },
    {
     "name": "stdout",
     "output_type": "stream",
     "text": [
      "Tags to match: ['main-dish', 'side-dishes', 'beef', 'meat']\n",
      "Number of filtered recipes: 39622\n"
     ]
    },
    {
     "name": "stderr",
     "output_type": "stream",
     "text": [
      "The attention mask and the pad token id were not set. As a consequence, you may observe unexpected behavior. Please pass your input's `attention_mask` to obtain reliable results.\n",
      "Setting `pad_token_id` to `eos_token_id`:128001 for open-end generation.\n",
      "Processing Titles embeddings: 100%|██████████| 1/1 [00:00<00:00, 63.36batch/s]\n"
     ]
    },
    {
     "name": "stdout",
     "output_type": "stream",
     "text": [
      "Tags to match: ['main-dish', 'beef', 'pasta', 'meat', 'pasta-rice-and-grains']\n",
      "Number of filtered recipes: 34345\n"
     ]
    },
    {
     "name": "stderr",
     "output_type": "stream",
     "text": [
      "The attention mask and the pad token id were not set. As a consequence, you may observe unexpected behavior. Please pass your input's `attention_mask` to obtain reliable results.\n",
      "Setting `pad_token_id` to `eos_token_id`:128001 for open-end generation.\n",
      "Processing Titles embeddings: 100%|██████████| 1/1 [00:00<00:00, 63.48batch/s]\n"
     ]
    },
    {
     "name": "stdout",
     "output_type": "stream",
     "text": [
      "Tags to match: ['main-dish', 'seafood']\n",
      "Number of filtered recipes: 26549\n"
     ]
    },
    {
     "name": "stderr",
     "output_type": "stream",
     "text": [
      "The attention mask and the pad token id were not set. As a consequence, you may observe unexpected behavior. Please pass your input's `attention_mask` to obtain reliable results.\n",
      "Setting `pad_token_id` to `eos_token_id`:128001 for open-end generation.\n",
      "Processing Titles embeddings: 100%|██████████| 1/1 [00:00<00:00, 71.53batch/s]\n"
     ]
    },
    {
     "name": "stdout",
     "output_type": "stream",
     "text": [
      "Tags to match: ['main-dish', 'beef', 'meat']\n",
      "Number of filtered recipes: 28937\n"
     ]
    },
    {
     "name": "stderr",
     "output_type": "stream",
     "text": [
      "The attention mask and the pad token id were not set. As a consequence, you may observe unexpected behavior. Please pass your input's `attention_mask` to obtain reliable results.\n",
      "Setting `pad_token_id` to `eos_token_id`:128001 for open-end generation.\n",
      "Processing Titles embeddings: 100%|██████████| 1/1 [00:00<00:00, 67.14batch/s]\n"
     ]
    },
    {
     "name": "stdout",
     "output_type": "stream",
     "text": [
      "Tags to match: ['appetizers', 'main-dish', 'beef', 'meat']\n",
      "Number of filtered recipes: 34526\n"
     ]
    },
    {
     "name": "stderr",
     "output_type": "stream",
     "text": [
      "The attention mask and the pad token id were not set. As a consequence, you may observe unexpected behavior. Please pass your input's `attention_mask` to obtain reliable results.\n",
      "Setting `pad_token_id` to `eos_token_id`:128001 for open-end generation.\n",
      "Processing Titles embeddings: 100%|██████████| 1/1 [00:00<00:00, 69.08batch/s]\n"
     ]
    },
    {
     "name": "stdout",
     "output_type": "stream",
     "text": [
      "Tags to match: ['main-dish', 'beef', 'pasta', 'meat', 'pasta-rice-and-grains']\n",
      "Number of filtered recipes: 34345\n"
     ]
    },
    {
     "name": "stderr",
     "output_type": "stream",
     "text": [
      "The attention mask and the pad token id were not set. As a consequence, you may observe unexpected behavior. Please pass your input's `attention_mask` to obtain reliable results.\n",
      "Setting `pad_token_id` to `eos_token_id`:128001 for open-end generation.\n",
      "Processing Titles embeddings: 100%|██████████| 1/1 [00:00<00:00, 67.42batch/s]\n"
     ]
    },
    {
     "name": "stdout",
     "output_type": "stream",
     "text": [
      "Tags to match: ['side-dishes', 'beef', 'meat']\n",
      "Number of filtered recipes: 29377\n"
     ]
    },
    {
     "name": "stderr",
     "output_type": "stream",
     "text": [
      "The attention mask and the pad token id were not set. As a consequence, you may observe unexpected behavior. Please pass your input's `attention_mask` to obtain reliable results.\n",
      "Setting `pad_token_id` to `eos_token_id`:128001 for open-end generation.\n",
      "Processing Titles embeddings: 100%|██████████| 1/1 [00:00<00:00, 66.01batch/s]\n"
     ]
    },
    {
     "name": "stdout",
     "output_type": "stream",
     "text": [
      "Tags to match: ['main-dish', 'beef', 'meat']\n",
      "Number of filtered recipes: 28937\n"
     ]
    },
    {
     "name": "stderr",
     "output_type": "stream",
     "text": [
      "The attention mask and the pad token id were not set. As a consequence, you may observe unexpected behavior. Please pass your input's `attention_mask` to obtain reliable results.\n",
      "Setting `pad_token_id` to `eos_token_id`:128001 for open-end generation.\n",
      "Processing Titles embeddings: 100%|██████████| 1/1 [00:00<00:00, 50.56batch/s]\n"
     ]
    },
    {
     "name": "stdout",
     "output_type": "stream",
     "text": [
      "Tags to match: ['main-dish', 'beef', 'meat']\n",
      "Number of filtered recipes: 28937\n"
     ]
    },
    {
     "name": "stderr",
     "output_type": "stream",
     "text": [
      "The attention mask and the pad token id were not set. As a consequence, you may observe unexpected behavior. Please pass your input's `attention_mask` to obtain reliable results.\n",
      "Setting `pad_token_id` to `eos_token_id`:128001 for open-end generation.\n",
      "Processing Titles embeddings: 100%|██████████| 1/1 [00:00<00:00, 67.71batch/s]\n"
     ]
    },
    {
     "name": "stdout",
     "output_type": "stream",
     "text": [
      "Tags to match: ['main-dish', 'beef', 'rice', 'meat', 'pasta-rice-and-grains']\n",
      "Number of filtered recipes: 34344\n"
     ]
    },
    {
     "name": "stderr",
     "output_type": "stream",
     "text": [
      "The attention mask and the pad token id were not set. As a consequence, you may observe unexpected behavior. Please pass your input's `attention_mask` to obtain reliable results.\n",
      "Setting `pad_token_id` to `eos_token_id`:128001 for open-end generation.\n",
      "Processing Titles embeddings: 100%|██████████| 1/1 [00:00<00:00, 63.26batch/s]\n"
     ]
    },
    {
     "name": "stdout",
     "output_type": "stream",
     "text": [
      "Tags to match: ['beef', 'pasta', 'meat', 'pasta-rice-and-grains']\n",
      "Number of filtered recipes: 26858\n"
     ]
    },
    {
     "name": "stderr",
     "output_type": "stream",
     "text": [
      "The attention mask and the pad token id were not set. As a consequence, you may observe unexpected behavior. Please pass your input's `attention_mask` to obtain reliable results.\n",
      "Setting `pad_token_id` to `eos_token_id`:128001 for open-end generation.\n",
      "Processing Titles embeddings: 100%|██████████| 1/1 [00:00<00:00, 67.62batch/s]\n"
     ]
    },
    {
     "name": "stdout",
     "output_type": "stream",
     "text": [
      "Tags to match: ['main-dish', 'beef', 'pasta', 'meat', 'pasta-rice-and-grains']\n",
      "Number of filtered recipes: 34345\n"
     ]
    },
    {
     "name": "stderr",
     "output_type": "stream",
     "text": [
      "The attention mask and the pad token id were not set. As a consequence, you may observe unexpected behavior. Please pass your input's `attention_mask` to obtain reliable results.\n",
      "Setting `pad_token_id` to `eos_token_id`:128001 for open-end generation.\n",
      "Processing Titles embeddings: 100%|██████████| 1/1 [00:00<00:00, 67.11batch/s]\n"
     ]
    },
    {
     "name": "stdout",
     "output_type": "stream",
     "text": [
      "Tags to match: ['main-dish', 'beef', 'meat']\n",
      "Number of filtered recipes: 28937\n"
     ]
    },
    {
     "name": "stderr",
     "output_type": "stream",
     "text": [
      "The attention mask and the pad token id were not set. As a consequence, you may observe unexpected behavior. Please pass your input's `attention_mask` to obtain reliable results.\n",
      "Setting `pad_token_id` to `eos_token_id`:128001 for open-end generation.\n",
      "Processing Titles embeddings: 100%|██████████| 1/1 [00:00<00:00, 64.99batch/s]\n"
     ]
    },
    {
     "name": "stdout",
     "output_type": "stream",
     "text": [
      "Tags to match: ['main-dish', 'beef', 'meat']\n",
      "Number of filtered recipes: 28937\n"
     ]
    },
    {
     "name": "stderr",
     "output_type": "stream",
     "text": [
      "The attention mask and the pad token id were not set. As a consequence, you may observe unexpected behavior. Please pass your input's `attention_mask` to obtain reliable results.\n",
      "Setting `pad_token_id` to `eos_token_id`:128001 for open-end generation.\n",
      "Processing Titles embeddings: 100%|██████████| 1/1 [00:00<00:00, 65.24batch/s]\n"
     ]
    },
    {
     "name": "stdout",
     "output_type": "stream",
     "text": [
      "Tags to match: ['main-dish', 'beef', 'meat']\n",
      "Number of filtered recipes: 28937\n"
     ]
    },
    {
     "name": "stderr",
     "output_type": "stream",
     "text": [
      "The attention mask and the pad token id were not set. As a consequence, you may observe unexpected behavior. Please pass your input's `attention_mask` to obtain reliable results.\n",
      "Setting `pad_token_id` to `eos_token_id`:128001 for open-end generation.\n",
      "Processing Titles embeddings: 100%|██████████| 1/1 [00:00<00:00, 63.81batch/s]\n"
     ]
    },
    {
     "name": "stdout",
     "output_type": "stream",
     "text": [
      "Tags to match: ['main-dish', 'beef', 'meat']\n",
      "Number of filtered recipes: 28937\n"
     ]
    },
    {
     "name": "stderr",
     "output_type": "stream",
     "text": [
      "The attention mask and the pad token id were not set. As a consequence, you may observe unexpected behavior. Please pass your input's `attention_mask` to obtain reliable results.\n",
      "Setting `pad_token_id` to `eos_token_id`:128001 for open-end generation.\n",
      "Processing Titles embeddings: 100%|██████████| 1/1 [00:00<00:00, 67.67batch/s]\n"
     ]
    },
    {
     "name": "stdout",
     "output_type": "stream",
     "text": [
      "Tags to match: ['main-dish', 'beef', 'meat']\n",
      "Number of filtered recipes: 28937\n"
     ]
    },
    {
     "name": "stderr",
     "output_type": "stream",
     "text": [
      "The attention mask and the pad token id were not set. As a consequence, you may observe unexpected behavior. Please pass your input's `attention_mask` to obtain reliable results.\n",
      "Setting `pad_token_id` to `eos_token_id`:128001 for open-end generation.\n",
      "Processing Titles embeddings: 100%|██████████| 1/1 [00:00<00:00, 65.55batch/s]\n"
     ]
    },
    {
     "name": "stdout",
     "output_type": "stream",
     "text": [
      "Tags to match: ['main-dish', 'beef', 'meat']\n",
      "Number of filtered recipes: 28937\n"
     ]
    },
    {
     "name": "stderr",
     "output_type": "stream",
     "text": [
      "The attention mask and the pad token id were not set. As a consequence, you may observe unexpected behavior. Please pass your input's `attention_mask` to obtain reliable results.\n",
      "Setting `pad_token_id` to `eos_token_id`:128001 for open-end generation.\n",
      "Processing Titles embeddings: 100%|██████████| 1/1 [00:00<00:00, 52.11batch/s]\n"
     ]
    },
    {
     "name": "stdout",
     "output_type": "stream",
     "text": [
      "Tags to match: ['main-dish', 'beef', 'pasta', 'meat', 'pasta-rice-and-grains']\n",
      "Number of filtered recipes: 34345\n"
     ]
    },
    {
     "name": "stderr",
     "output_type": "stream",
     "text": [
      "The attention mask and the pad token id were not set. As a consequence, you may observe unexpected behavior. Please pass your input's `attention_mask` to obtain reliable results.\n",
      "Setting `pad_token_id` to `eos_token_id`:128001 for open-end generation.\n",
      "Processing Titles embeddings: 100%|██████████| 1/1 [00:00<00:00, 64.40batch/s]\n"
     ]
    },
    {
     "name": "stdout",
     "output_type": "stream",
     "text": [
      "Tags to match: ['main-dish', 'beef', 'meat']\n",
      "Number of filtered recipes: 28937\n"
     ]
    },
    {
     "name": "stderr",
     "output_type": "stream",
     "text": [
      "The attention mask and the pad token id were not set. As a consequence, you may observe unexpected behavior. Please pass your input's `attention_mask` to obtain reliable results.\n",
      "Setting `pad_token_id` to `eos_token_id`:128001 for open-end generation.\n",
      "Processing Titles embeddings: 100%|██████████| 1/1 [00:00<00:00, 66.98batch/s]\n"
     ]
    },
    {
     "name": "stdout",
     "output_type": "stream",
     "text": [
      "Tags to match: ['main-dish', 'meat']\n",
      "Number of filtered recipes: 28937\n"
     ]
    },
    {
     "name": "stderr",
     "output_type": "stream",
     "text": [
      "The attention mask and the pad token id were not set. As a consequence, you may observe unexpected behavior. Please pass your input's `attention_mask` to obtain reliable results.\n",
      "Setting `pad_token_id` to `eos_token_id`:128001 for open-end generation.\n",
      "Processing Titles embeddings: 100%|██████████| 1/1 [00:00<00:00, 66.85batch/s]\n"
     ]
    },
    {
     "name": "stdout",
     "output_type": "stream",
     "text": [
      "Tags to match: ['main-dish', 'beef', 'meat']\n",
      "Number of filtered recipes: 28937\n"
     ]
    },
    {
     "name": "stderr",
     "output_type": "stream",
     "text": [
      "The attention mask and the pad token id were not set. As a consequence, you may observe unexpected behavior. Please pass your input's `attention_mask` to obtain reliable results.\n",
      "Setting `pad_token_id` to `eos_token_id`:128001 for open-end generation.\n",
      "Processing Titles embeddings: 100%|██████████| 1/1 [00:00<00:00, 58.89batch/s]\n"
     ]
    },
    {
     "name": "stdout",
     "output_type": "stream",
     "text": [
      "Tags to match: ['main-dish', 'beef', 'meat']\n",
      "Number of filtered recipes: 28937\n"
     ]
    },
    {
     "name": "stderr",
     "output_type": "stream",
     "text": [
      "The attention mask and the pad token id were not set. As a consequence, you may observe unexpected behavior. Please pass your input's `attention_mask` to obtain reliable results.\n",
      "Setting `pad_token_id` to `eos_token_id`:128001 for open-end generation.\n"
     ]
    }
   ],
   "source": [
    "import json\n",
    "import pandas as pd\n",
    "\n",
    "# Assumi che 'SustainaMeal', 'acceptable_tags', 'nutrients_string', e 'recipe_titles' siano definiti\n",
    "\n",
    "# Parametri per gli esperimenti\n",
    "k_values = [10]\n",
    "match_all_tags_values = [False]\n",
    "\n",
    "# Funzione ausiliaria per convertire oggetti in formati serializzabili in JSON\n",
    "def convert_to_serializable(obj):\n",
    "    if hasattr(obj, 'to_dict'):\n",
    "        return obj.to_dict('records')\n",
    "    elif hasattr(obj, 'tolist'):\n",
    "        return obj.tolist()\n",
    "    elif isinstance(obj, (list, dict, str, int, float, bool, type(None))):\n",
    "        return obj\n",
    "    else:\n",
    "        return str(obj)\n",
    "\n",
    "results = []  # Lista per raccogliere i risultati degli esperimenti\n",
    "\n",
    "for index, row in selected_recipes.iterrows():\n",
    "    input_recipe = row['title']\n",
    "    match_results = {}  # Dizionario per memorizzare i risultati di match per ogni k\n",
    "    for k in k_values:\n",
    "        match_results[k] = {'exact_match': False, 'match_count': 0}  # Inizializza il conteggio e il match esatto per ogni k\n",
    "        for match_all_tags in match_all_tags_values:\n",
    "            try:\n",
    "                similar_recipes = sm.find_similar_recipes(input_recipe, k, acceptable_tags=acceptable_tags, match_all_tags=match_all_tags)\n",
    "                ordered_recipes = sm.order_recipe_by_sustainameal()\n",
    "                ordered_recipes_llama = sm.order_recipe_by_sustainameal()\n",
    "\n",
    "                best_choice_by_llama = sm.choose_best_recipe_with_llama()\n",
    "                llama_choice_match = ordered_recipes.iloc[0]['title'] == best_choice_by_llama\n",
    "                if llama_choice_match:\n",
    "                    match_results[k]['match_count'] += 1\n",
    "                    if match_all_tags:  # Se consideri importante il match quando match_all_tags è True\n",
    "                        match_results[k]['exact_match'] = True\n",
    "                result = {\n",
    "                    'recipe_name': input_recipe,\n",
    "                    'recipe_id': row['recipe_id'],\n",
    "                    'sustnability_score': row['sustainability_score'],\n",
    "                    'sustnability_label': row['sustainability_label'],\n",
    "                    'who_score': row['who_score'],\n",
    "                    'healthiness_label': row['healthiness_label'],\n",
    "                    'k': k,\n",
    "                    'nutrients': nutrients_string,\n",
    "                    'match_all_tags': match_all_tags,\n",
    "                    'llama_choice': best_choice_by_llama,\n",
    "                    'similar_recipes': convert_to_serializable(similar_recipes) if similar_recipes is not None else None,\n",
    "                    'ordered_by_sustainameal': convert_to_serializable(ordered_recipes) if ordered_recipes is not None else None\n",
    "                }\n",
    "                results.append(result)\n",
    "            except Exception as e:\n",
    "                print(f\"An error occurred while finding similar recipes: {e}\")\n",
    "                best_choice_by_llama = None\n",
    "\n",
    "\n",
    "\n",
    "    # Calcola la percentuale di similarità per ogni k e aggiungi ai risultati\n",
    "    # for k, match_info in match_results.items():\n",
    "    #     match_info['similarity_percentage'] = (match_info['match_count'] / len(match_all_tags_values)) * 100\n",
    "    #     results.append({\n",
    "    #         'recipe_name': input_recipe,\n",
    "    #         'k': k,\n",
    "    #         'exact_match': match_info['exact_match'],\n",
    "    #         'similarity_percentage': match_info['similarity_percentage']\n",
    "    #     })\n",
    "\n",
    "# Salva i risultati in un file JSON\n",
    "with open('experiment_results_with_llama_and_similarity_k_10.json', 'w') as f:\n",
    "    json.dump(results, f, ensure_ascii=False, indent=4)"
   ]
  },
  {
   "cell_type": "code",
   "execution_count": 19,
   "metadata": {},
   "outputs": [
    {
     "data": {
      "text/plain": [
       "99"
      ]
     },
     "execution_count": 19,
     "metadata": {},
     "output_type": "execute_result"
    }
   ],
   "source": [
    "len(results)"
   ]
  },
  {
   "cell_type": "code",
   "execution_count": 20,
   "metadata": {},
   "outputs": [],
   "source": [
    "import json\n",
    "import pandas as pd\n",
    "\n",
    "# Carica i dati dal file JSON\n",
    "with open('experiment_results_with_llama_and_similarity_k_10.json', 'r') as file:\n",
    "    experiment_data = json.load(file)\n",
    "\n",
    "# Converti i dati in un DataFrame\n",
    "experiment_df = pd.DataFrame(experiment_data)\n",
    "\n",
    "# Assumiamo di avere gli ID delle ricette per ogni sottogruppo\n",
    "sustainability_label_2_ids = sustainability_label_2_recipes['recipe_id'].unique()"
   ]
  },
  {
   "cell_type": "code",
   "execution_count": 22,
   "metadata": {},
   "outputs": [
    {
     "name": "stdout",
     "output_type": "stream",
     "text": [
      "   top_healthiness_increment_mean  top_sustainability_increment_mean  \\\n",
      "0                        4.159802                          76.082525   \n",
      "\n",
      "   top_sustainameal_score_increment_mean  llama_rerank   k  \n",
      "0                              61.033856          True  10  \n"
     ]
    }
   ],
   "source": [
    "import json\n",
    "import pandas as pd\n",
    "\n",
    "# Carica i dati dal file JSON\n",
    "with open('experiment_results_with_llama_and_similarity_k_10.json', 'r') as file:\n",
    "    experiment_data = json.load(file)\n",
    "\n",
    "# Converti i dati in un DataFrame\n",
    "experiment_df = pd.DataFrame(experiment_data)\n",
    "\n",
    "# Estrai solo le entrate dove llama ha fatto una scelta\n",
    "llama_choices_df = experiment_df.dropna(subset=['llama_choice'])\n",
    "\n",
    "# Inizializza i contatori per gli incrementi\n",
    "healthiness_increments = []\n",
    "sustainability_increments = []\n",
    "sustainameal_score_increments = []\n",
    "\n",
    "# Calcola gli incrementi solo per le scelte di llama\n",
    "for index, row in llama_choices_df.iterrows():\n",
    "    for ordered_recipe in row['ordered_by_sustainameal']:\n",
    "        if ordered_recipe['title'] == row['llama_choice']:\n",
    "            healthiness_increments.append(ordered_recipe['healthiness_increment'])\n",
    "            sustainability_increments.append(ordered_recipe['sustainability_increment'])\n",
    "            sustainameal_score_increments.append(ordered_recipe['sustainameal_score_increment'])\n",
    "            break  # Interrompi il ciclo dopo aver trovato la corrispondenza\n",
    "\n",
    "# Calcola le medie degli incrementi per le scelte di llama\n",
    "average_healthiness_increment = sum(healthiness_increments) / len(healthiness_increments) if healthiness_increments else None\n",
    "average_sustainability_increment = sum(sustainability_increments) / len(sustainability_increments) if sustainability_increments else None\n",
    "average_sustainameal_score_increment = sum(sustainameal_score_increments) / len(sustainameal_score_increments) if sustainameal_score_increments else None\n",
    "\n",
    "# Crea un DataFrame con una riga contenente le medie e la colonna llama_rerank impostata a True\n",
    "llama_results_df = pd.DataFrame({\n",
    "    'top_healthiness_increment_mean': [average_healthiness_increment],\n",
    "    'top_sustainability_increment_mean': [average_sustainability_increment],\n",
    "    'top_sustainameal_score_increment_mean': [average_sustainameal_score_increment],\n",
    "    'llama_rerank': [True],\n",
    "    'k':10,\n",
    "})\n",
    "\n",
    "# Stampa il DataFrame dei risultati\n",
    "print(llama_results_df)\n"
   ]
  },
  {
   "cell_type": "code",
   "execution_count": 23,
   "metadata": {},
   "outputs": [
    {
     "name": "stdout",
     "output_type": "stream",
     "text": [
      "   top_healthiness_increment_mean  top_sustainability_increment_mean  \\\n",
      "0                        6.040444                         127.944777   \n",
      "\n",
      "   top_sustainameal_score_increment_mean  llama_rerank   k  \n",
      "0                             102.857548         False  10  \n"
     ]
    }
   ],
   "source": [
    "import json\n",
    "import pandas as pd\n",
    "\n",
    "# Carica i dati dal file JSON\n",
    "with open('experiment_results_with_llama_and_similarity_k_10.json', 'r') as file:\n",
    "    experiment_data = json.load(file)\n",
    "\n",
    "# Converti i dati in un DataFrame\n",
    "experiment_df = pd.DataFrame(experiment_data)\n",
    "\n",
    "# Inizializza i contatori per gli incrementi\n",
    "top_healthiness_increments = []\n",
    "top_sustainability_increments = []\n",
    "top_sustainameal_score_increments = []\n",
    "\n",
    "# Calcola gli incrementi per le prime ricette in ordered_by_sustainameal\n",
    "for index, row in experiment_df.iterrows():\n",
    "    if row['ordered_by_sustainameal']:  # Controlla se la lista non è vuota\n",
    "        top_recipe = row['ordered_by_sustainameal'][0]  # Prende sempre la prima ricetta\n",
    "        top_healthiness_increments.append(top_recipe['healthiness_increment'])\n",
    "        top_sustainability_increments.append(top_recipe['sustainability_increment'])\n",
    "        top_sustainameal_score_increments.append(top_recipe['sustainameal_score_increment'])\n",
    "\n",
    "# Calcola le medie degli incrementi per le prime ricette\n",
    "average_top_healthiness_increment = sum(top_healthiness_increments) / len(top_healthiness_increments) if top_healthiness_increments else None\n",
    "average_top_sustainability_increment = sum(top_sustainability_increments) / len(top_sustainability_increments) if top_sustainability_increments else None\n",
    "average_top_sustainameal_score_increment = sum(top_sustainameal_score_increments) / len(top_sustainameal_score_increments) if top_sustainameal_score_increments else None\n",
    "\n",
    "# Crea un DataFrame con una riga contenente le medie\n",
    "top_results_df_10 = pd.DataFrame({\n",
    "    'top_healthiness_increment_mean': [average_top_healthiness_increment],\n",
    "    'top_sustainability_increment_mean': [average_top_sustainability_increment],\n",
    "    'top_sustainameal_score_increment_mean': [average_top_sustainameal_score_increment],\n",
    "    'llama_rerank': [False],\n",
    "    'k':10,\n",
    "})\n",
    "\n",
    "# Stampa il DataFrame dei risultati\n",
    "print(top_results_df_10)"
   ]
  },
  {
   "cell_type": "code",
   "execution_count": 24,
   "metadata": {},
   "outputs": [
    {
     "name": "stdout",
     "output_type": "stream",
     "text": [
      "Corrispondenze esatte: 4\n",
      "Percentuale di corrispondenza esatta con llama: 4.040404040404041%\n"
     ]
    }
   ],
   "source": [
    "import json\n",
    "import pandas as pd\n",
    "\n",
    "# Carica i dati dal file JSON\n",
    "with open('experiment_results_with_llama_and_similarity_k_10.json', 'r') as file:\n",
    "    experiment_data = json.load(file)\n",
    "\n",
    "# Converti i dati in un DataFrame\n",
    "experiment_df = pd.DataFrame(experiment_data)\n",
    "\n",
    "# Filtra per gli esperimenti in cui llama ha fatto una scelta\n",
    "llama_choices_df = experiment_df.dropna(subset=['llama_choice'])\n",
    "\n",
    "# Calcola le corrispondenze esatte\n",
    "exact_matches = llama_choices_df.apply(lambda row: row['ordered_by_sustainameal'][0]['title'] == row['llama_choice'], axis=1)\n",
    "\n",
    "# Calcola la percentuale di corrispondenze esatte\n",
    "exact_match_count = exact_matches.sum()\n",
    "total_choices = len(llama_choices_df)\n",
    "exact_match_percentage = (exact_match_count / total_choices * 100) if total_choices > 0 else 0\n",
    "\n",
    "# Stampa il conteggio delle corrispondenze esatte e la percentuale\n",
    "print(f\"Corrispondenze esatte: {exact_match_count}\")\n",
    "print(f\"Percentuale di corrispondenza esatta con llama: {exact_match_percentage}%\")"
   ]
  },
  {
   "cell_type": "code",
   "execution_count": 25,
   "metadata": {},
   "outputs": [
    {
     "name": "stderr",
     "output_type": "stream",
     "text": [
      "Processing Titles embeddings: 100%|██████████| 1/1 [00:00<00:00, 47.67batch/s]"
     ]
    },
    {
     "name": "stderr",
     "output_type": "stream",
     "text": [
      "\n"
     ]
    },
    {
     "name": "stdout",
     "output_type": "stream",
     "text": [
      "Tags to match: ['main-dish', 'beef', 'pasta', 'meat', 'pasta-rice-and-grains']\n",
      "Number of filtered recipes: 34345\n"
     ]
    },
    {
     "name": "stderr",
     "output_type": "stream",
     "text": [
      "Processing Titles embeddings: 100%|██████████| 1/1 [00:00<00:00, 67.81batch/s]\n"
     ]
    },
    {
     "name": "stdout",
     "output_type": "stream",
     "text": [
      "Tags to match: ['main-dish', 'meat', 'pasta-rice-and-grains']\n",
      "Number of filtered recipes: 34344\n"
     ]
    },
    {
     "name": "stderr",
     "output_type": "stream",
     "text": [
      "Processing Titles embeddings: 100%|██████████| 1/1 [00:00<00:00, 66.49batch/s]\n"
     ]
    },
    {
     "name": "stdout",
     "output_type": "stream",
     "text": [
      "Tags to match: ['beef', 'meat']\n",
      "Number of filtered recipes: 17375\n"
     ]
    },
    {
     "name": "stderr",
     "output_type": "stream",
     "text": [
      "Processing Titles embeddings: 100%|██████████| 1/1 [00:00<00:00, 67.67batch/s]\n"
     ]
    },
    {
     "name": "stdout",
     "output_type": "stream",
     "text": [
      "Tags to match: ['main-dish', 'beef', 'meat']\n",
      "Number of filtered recipes: 28937\n"
     ]
    },
    {
     "name": "stderr",
     "output_type": "stream",
     "text": [
      "Processing Titles embeddings: 100%|██████████| 1/1 [00:00<00:00, 68.89batch/s]\n"
     ]
    },
    {
     "name": "stdout",
     "output_type": "stream",
     "text": [
      "Tags to match: ['main-dish', 'beef', 'meat']\n",
      "Number of filtered recipes: 28937\n"
     ]
    },
    {
     "name": "stderr",
     "output_type": "stream",
     "text": [
      "Processing Titles embeddings: 100%|██████████| 1/1 [00:00<00:00, 66.02batch/s]\n"
     ]
    },
    {
     "name": "stdout",
     "output_type": "stream",
     "text": [
      "Tags to match: ['main-dish', 'beef', 'meat']\n",
      "Number of filtered recipes: 28937\n"
     ]
    },
    {
     "name": "stderr",
     "output_type": "stream",
     "text": [
      "Processing Titles embeddings: 100%|██████████| 1/1 [00:00<00:00, 63.62batch/s]\n"
     ]
    },
    {
     "name": "stdout",
     "output_type": "stream",
     "text": [
      "Tags to match: ['main-dish', 'beef', 'meat']\n",
      "Number of filtered recipes: 28937\n"
     ]
    },
    {
     "name": "stderr",
     "output_type": "stream",
     "text": [
      "Processing Titles embeddings: 100%|██████████| 1/1 [00:00<00:00, 66.52batch/s]\n"
     ]
    },
    {
     "name": "stdout",
     "output_type": "stream",
     "text": [
      "Tags to match: ['main-dish', 'beef', 'meat']\n",
      "Number of filtered recipes: 28937\n"
     ]
    },
    {
     "name": "stderr",
     "output_type": "stream",
     "text": [
      "Processing Titles embeddings: 100%|██████████| 1/1 [00:00<00:00, 69.48batch/s]\n"
     ]
    },
    {
     "name": "stdout",
     "output_type": "stream",
     "text": [
      "Tags to match: ['main-dish', 'beef', 'meat']\n",
      "Number of filtered recipes: 28937\n"
     ]
    },
    {
     "name": "stderr",
     "output_type": "stream",
     "text": [
      "Processing Titles embeddings: 100%|██████████| 1/1 [00:00<00:00, 63.35batch/s]\n"
     ]
    },
    {
     "name": "stdout",
     "output_type": "stream",
     "text": [
      "Tags to match: ['main-dish', 'seafood']\n",
      "Number of filtered recipes: 26549\n"
     ]
    },
    {
     "name": "stderr",
     "output_type": "stream",
     "text": [
      "Processing Titles embeddings: 100%|██████████| 1/1 [00:00<00:00, 67.58batch/s]\n"
     ]
    },
    {
     "name": "stdout",
     "output_type": "stream",
     "text": [
      "Tags to match: ['main-dish', 'beef', 'meat']\n",
      "Number of filtered recipes: 28937\n"
     ]
    },
    {
     "name": "stderr",
     "output_type": "stream",
     "text": [
      "Processing Titles embeddings: 100%|██████████| 1/1 [00:00<00:00, 67.48batch/s]\n"
     ]
    },
    {
     "name": "stdout",
     "output_type": "stream",
     "text": [
      "Tags to match: ['main-dish', 'pasta-rice-and-grains']\n",
      "Number of filtered recipes: 30435\n"
     ]
    },
    {
     "name": "stderr",
     "output_type": "stream",
     "text": [
      "Processing Titles embeddings: 100%|██████████| 1/1 [00:00<00:00, 65.11batch/s]\n"
     ]
    },
    {
     "name": "stdout",
     "output_type": "stream",
     "text": [
      "Tags to match: ['main-dish', 'beef', 'meat']\n",
      "Number of filtered recipes: 28937\n"
     ]
    },
    {
     "name": "stderr",
     "output_type": "stream",
     "text": [
      "Processing Titles embeddings: 100%|██████████| 1/1 [00:00<00:00, 67.17batch/s]\n"
     ]
    },
    {
     "name": "stdout",
     "output_type": "stream",
     "text": [
      "Tags to match: ['main-dish']\n",
      "Number of filtered recipes: 24622\n"
     ]
    },
    {
     "name": "stderr",
     "output_type": "stream",
     "text": [
      "Processing Titles embeddings: 100%|██████████| 1/1 [00:00<00:00, 68.84batch/s]\n"
     ]
    },
    {
     "name": "stdout",
     "output_type": "stream",
     "text": [
      "Tags to match: ['main-dish']\n",
      "Number of filtered recipes: 24622\n"
     ]
    },
    {
     "name": "stderr",
     "output_type": "stream",
     "text": [
      "Processing Titles embeddings: 100%|██████████| 1/1 [00:00<00:00, 66.30batch/s]\n"
     ]
    },
    {
     "name": "stdout",
     "output_type": "stream",
     "text": [
      "Tags to match: ['main-dish', 'beef', 'meat']\n",
      "Number of filtered recipes: 28937\n"
     ]
    },
    {
     "name": "stderr",
     "output_type": "stream",
     "text": [
      "Processing Titles embeddings: 100%|██████████| 1/1 [00:00<00:00, 64.60batch/s]\n"
     ]
    },
    {
     "name": "stdout",
     "output_type": "stream",
     "text": [
      "Tags to match: ['main-dish', 'pasta', 'pasta-rice-and-grains']\n",
      "Number of filtered recipes: 30436\n"
     ]
    },
    {
     "name": "stderr",
     "output_type": "stream",
     "text": [
      "Processing Titles embeddings: 100%|██████████| 1/1 [00:00<00:00, 72.06batch/s]\n"
     ]
    },
    {
     "name": "stdout",
     "output_type": "stream",
     "text": [
      "Tags to match: ['main-dish', 'side-dishes', 'beef', 'meat']\n",
      "Number of filtered recipes: 39622\n"
     ]
    },
    {
     "name": "stderr",
     "output_type": "stream",
     "text": [
      "Processing Titles embeddings: 100%|██████████| 1/1 [00:00<00:00, 67.29batch/s]\n"
     ]
    },
    {
     "name": "stdout",
     "output_type": "stream",
     "text": [
      "Tags to match: ['beef', 'meat']\n",
      "Number of filtered recipes: 17375\n"
     ]
    },
    {
     "name": "stderr",
     "output_type": "stream",
     "text": [
      "Processing Titles embeddings: 100%|██████████| 1/1 [00:00<00:00, 67.49batch/s]\n"
     ]
    },
    {
     "name": "stdout",
     "output_type": "stream",
     "text": [
      "Tags to match: []\n",
      "An error occurred while finding similar recipes: No tag found to match.\n"
     ]
    },
    {
     "name": "stderr",
     "output_type": "stream",
     "text": [
      "Processing Titles embeddings: 100%|██████████| 1/1 [00:00<00:00, 66.07batch/s]\n"
     ]
    },
    {
     "name": "stdout",
     "output_type": "stream",
     "text": [
      "Tags to match: ['main-dish', 'pasta', 'pasta-rice-and-grains']\n",
      "Number of filtered recipes: 30436\n"
     ]
    },
    {
     "name": "stderr",
     "output_type": "stream",
     "text": [
      "Processing Titles embeddings: 100%|██████████| 1/1 [00:00<00:00, 67.86batch/s]\n"
     ]
    },
    {
     "name": "stdout",
     "output_type": "stream",
     "text": [
      "Tags to match: ['main-dish', 'beef', 'meat']\n",
      "Number of filtered recipes: 28937\n"
     ]
    },
    {
     "name": "stderr",
     "output_type": "stream",
     "text": [
      "Processing Titles embeddings: 100%|██████████| 1/1 [00:00<00:00, 68.88batch/s]\n"
     ]
    },
    {
     "name": "stdout",
     "output_type": "stream",
     "text": [
      "Tags to match: ['main-dish', 'beef', 'meat']\n",
      "Number of filtered recipes: 28937\n"
     ]
    },
    {
     "name": "stderr",
     "output_type": "stream",
     "text": [
      "Processing Titles embeddings: 100%|██████████| 1/1 [00:00<00:00, 66.96batch/s]\n"
     ]
    },
    {
     "name": "stdout",
     "output_type": "stream",
     "text": [
      "Tags to match: ['main-dish', 'pasta', 'pasta-rice-and-grains']\n",
      "Number of filtered recipes: 30436\n"
     ]
    },
    {
     "name": "stderr",
     "output_type": "stream",
     "text": [
      "Processing Titles embeddings: 100%|██████████| 1/1 [00:00<00:00, 67.07batch/s]\n"
     ]
    },
    {
     "name": "stdout",
     "output_type": "stream",
     "text": [
      "Tags to match: ['appetizers', 'beef', 'meat']\n",
      "Number of filtered recipes: 23411\n"
     ]
    },
    {
     "name": "stderr",
     "output_type": "stream",
     "text": [
      "Processing Titles embeddings: 100%|██████████| 1/1 [00:00<00:00, 64.60batch/s]\n"
     ]
    },
    {
     "name": "stdout",
     "output_type": "stream",
     "text": [
      "Tags to match: ['main-dish', 'beef', 'meat']\n",
      "Number of filtered recipes: 28937\n"
     ]
    },
    {
     "name": "stderr",
     "output_type": "stream",
     "text": [
      "Processing Titles embeddings: 100%|██████████| 1/1 [00:00<00:00, 64.15batch/s]\n"
     ]
    },
    {
     "name": "stdout",
     "output_type": "stream",
     "text": [
      "Tags to match: ['appetizers', 'main-dish', 'beef', 'meat']\n",
      "Number of filtered recipes: 34526\n"
     ]
    },
    {
     "name": "stderr",
     "output_type": "stream",
     "text": [
      "Processing Titles embeddings: 100%|██████████| 1/1 [00:00<00:00, 78.21batch/s]\n"
     ]
    },
    {
     "name": "stdout",
     "output_type": "stream",
     "text": [
      "Tags to match: ['main-dish', 'beef', 'pasta', 'meat', 'pasta-rice-and-grains']\n",
      "Number of filtered recipes: 34345\n"
     ]
    },
    {
     "name": "stderr",
     "output_type": "stream",
     "text": [
      "Processing Titles embeddings: 100%|██████████| 1/1 [00:00<00:00, 63.15batch/s]\n"
     ]
    },
    {
     "name": "stdout",
     "output_type": "stream",
     "text": [
      "Tags to match: ['beef', 'meat']\n",
      "Number of filtered recipes: 17375\n"
     ]
    },
    {
     "name": "stderr",
     "output_type": "stream",
     "text": [
      "Processing Titles embeddings: 100%|██████████| 1/1 [00:00<00:00, 71.36batch/s]\n"
     ]
    },
    {
     "name": "stdout",
     "output_type": "stream",
     "text": [
      "Tags to match: ['main-dish']\n",
      "Number of filtered recipes: 24622\n"
     ]
    },
    {
     "name": "stderr",
     "output_type": "stream",
     "text": [
      "Processing Titles embeddings: 100%|██████████| 1/1 [00:00<00:00, 78.53batch/s]\n"
     ]
    },
    {
     "name": "stdout",
     "output_type": "stream",
     "text": [
      "Tags to match: ['main-dish', 'beef', 'rice', 'meat', 'pasta-rice-and-grains']\n",
      "Number of filtered recipes: 34344\n"
     ]
    },
    {
     "name": "stderr",
     "output_type": "stream",
     "text": [
      "Processing Titles embeddings: 100%|██████████| 1/1 [00:00<00:00, 76.96batch/s]\n"
     ]
    },
    {
     "name": "stdout",
     "output_type": "stream",
     "text": [
      "Tags to match: ['main-dish', 'beef', 'meat']\n",
      "Number of filtered recipes: 28937\n"
     ]
    },
    {
     "name": "stderr",
     "output_type": "stream",
     "text": [
      "Processing Titles embeddings: 100%|██████████| 1/1 [00:00<00:00, 64.58batch/s]\n"
     ]
    },
    {
     "name": "stdout",
     "output_type": "stream",
     "text": [
      "Tags to match: ['main-dish', 'beef', 'meat']\n",
      "Number of filtered recipes: 28937\n"
     ]
    },
    {
     "name": "stderr",
     "output_type": "stream",
     "text": [
      "Processing Titles embeddings: 100%|██████████| 1/1 [00:00<00:00, 69.21batch/s]\n"
     ]
    },
    {
     "name": "stdout",
     "output_type": "stream",
     "text": [
      "Tags to match: ['main-dish']\n",
      "Number of filtered recipes: 24622\n"
     ]
    },
    {
     "name": "stderr",
     "output_type": "stream",
     "text": [
      "Processing Titles embeddings: 100%|██████████| 1/1 [00:00<00:00, 53.46batch/s]\n"
     ]
    },
    {
     "name": "stdout",
     "output_type": "stream",
     "text": [
      "Tags to match: ['main-dish', 'beef', 'meat']\n",
      "Number of filtered recipes: 28937\n"
     ]
    },
    {
     "name": "stderr",
     "output_type": "stream",
     "text": [
      "Processing Titles embeddings: 100%|██████████| 1/1 [00:00<00:00, 66.83batch/s]\n"
     ]
    },
    {
     "name": "stdout",
     "output_type": "stream",
     "text": [
      "Tags to match: ['main-dish', 'beef', 'meat']\n",
      "Number of filtered recipes: 28937\n"
     ]
    },
    {
     "name": "stderr",
     "output_type": "stream",
     "text": [
      "Processing Titles embeddings: 100%|██████████| 1/1 [00:00<00:00, 54.02batch/s]\n"
     ]
    },
    {
     "name": "stdout",
     "output_type": "stream",
     "text": [
      "Tags to match: ['main-dish', 'beef', 'pasta', 'meat', 'pasta-rice-and-grains']\n",
      "Number of filtered recipes: 34345\n"
     ]
    },
    {
     "name": "stderr",
     "output_type": "stream",
     "text": [
      "Processing Titles embeddings: 100%|██████████| 1/1 [00:00<00:00, 49.91batch/s]\n"
     ]
    },
    {
     "name": "stdout",
     "output_type": "stream",
     "text": [
      "Tags to match: ['main-dish', 'beef', 'meat']\n",
      "Number of filtered recipes: 28937\n"
     ]
    },
    {
     "name": "stderr",
     "output_type": "stream",
     "text": [
      "Processing Titles embeddings: 100%|██████████| 1/1 [00:00<00:00, 52.47batch/s]\n"
     ]
    },
    {
     "name": "stdout",
     "output_type": "stream",
     "text": [
      "Tags to match: ['main-dish', 'beef', 'meat']\n",
      "Number of filtered recipes: 28937\n"
     ]
    },
    {
     "name": "stderr",
     "output_type": "stream",
     "text": [
      "Processing Titles embeddings: 100%|██████████| 1/1 [00:00<00:00, 77.52batch/s]\n"
     ]
    },
    {
     "name": "stdout",
     "output_type": "stream",
     "text": [
      "Tags to match: ['main-dish']\n",
      "Number of filtered recipes: 24622\n"
     ]
    },
    {
     "name": "stderr",
     "output_type": "stream",
     "text": [
      "Processing Titles embeddings: 100%|██████████| 1/1 [00:00<00:00, 63.81batch/s]\n"
     ]
    },
    {
     "name": "stdout",
     "output_type": "stream",
     "text": [
      "Tags to match: ['appetizers', 'main-dish', 'pizza']\n",
      "Number of filtered recipes: 30976\n"
     ]
    },
    {
     "name": "stderr",
     "output_type": "stream",
     "text": [
      "Processing Titles embeddings: 100%|██████████| 1/1 [00:00<00:00, 64.53batch/s]\n"
     ]
    },
    {
     "name": "stdout",
     "output_type": "stream",
     "text": [
      "Tags to match: ['appetizers', 'main-dish', 'beef', 'meat']\n",
      "Number of filtered recipes: 34526\n"
     ]
    },
    {
     "name": "stderr",
     "output_type": "stream",
     "text": [
      "Processing Titles embeddings: 100%|██████████| 1/1 [00:00<00:00, 69.11batch/s]\n"
     ]
    },
    {
     "name": "stdout",
     "output_type": "stream",
     "text": [
      "Tags to match: ['main-dish', 'beef', 'meat']\n",
      "Number of filtered recipes: 28937\n"
     ]
    },
    {
     "name": "stderr",
     "output_type": "stream",
     "text": [
      "Processing Titles embeddings: 100%|██████████| 1/1 [00:00<00:00, 67.72batch/s]\n"
     ]
    },
    {
     "name": "stdout",
     "output_type": "stream",
     "text": [
      "Tags to match: ['main-dish', 'beef', 'meat']\n",
      "Number of filtered recipes: 28937\n"
     ]
    },
    {
     "name": "stderr",
     "output_type": "stream",
     "text": [
      "Processing Titles embeddings: 100%|██████████| 1/1 [00:00<00:00, 66.43batch/s]\n"
     ]
    },
    {
     "name": "stdout",
     "output_type": "stream",
     "text": [
      "Tags to match: ['appetizers', 'main-dish', 'beef', 'meat']\n",
      "Number of filtered recipes: 34526\n"
     ]
    },
    {
     "name": "stderr",
     "output_type": "stream",
     "text": [
      "Processing Titles embeddings: 100%|██████████| 1/1 [00:00<00:00, 79.62batch/s]\n"
     ]
    },
    {
     "name": "stdout",
     "output_type": "stream",
     "text": [
      "Tags to match: ['main-dish']\n",
      "Number of filtered recipes: 24622\n"
     ]
    },
    {
     "name": "stderr",
     "output_type": "stream",
     "text": [
      "Processing Titles embeddings: 100%|██████████| 1/1 [00:00<00:00, 53.28batch/s]\n"
     ]
    },
    {
     "name": "stdout",
     "output_type": "stream",
     "text": [
      "Tags to match: ['main-dish', 'beef', 'meat']\n",
      "Number of filtered recipes: 28937\n"
     ]
    },
    {
     "name": "stderr",
     "output_type": "stream",
     "text": [
      "Processing Titles embeddings: 100%|██████████| 1/1 [00:00<00:00, 68.50batch/s]\n"
     ]
    },
    {
     "name": "stdout",
     "output_type": "stream",
     "text": [
      "Tags to match: ['breakfast']\n",
      "Number of filtered recipes: 6795\n"
     ]
    },
    {
     "name": "stderr",
     "output_type": "stream",
     "text": [
      "Processing Titles embeddings: 100%|██████████| 1/1 [00:00<00:00, 59.82batch/s]\n"
     ]
    },
    {
     "name": "stdout",
     "output_type": "stream",
     "text": [
      "Tags to match: ['main-dish', 'beef', 'meat']\n",
      "Number of filtered recipes: 28937\n"
     ]
    },
    {
     "name": "stderr",
     "output_type": "stream",
     "text": [
      "Processing Titles embeddings: 100%|██████████| 1/1 [00:00<00:00, 69.80batch/s]\n"
     ]
    },
    {
     "name": "stdout",
     "output_type": "stream",
     "text": [
      "Tags to match: ['main-dish', 'beef', 'meat']\n",
      "Number of filtered recipes: 28937\n"
     ]
    },
    {
     "name": "stderr",
     "output_type": "stream",
     "text": [
      "Processing Titles embeddings: 100%|██████████| 1/1 [00:00<00:00, 63.93batch/s]\n"
     ]
    },
    {
     "name": "stdout",
     "output_type": "stream",
     "text": [
      "Tags to match: ['breakfast', 'beef', 'pasta', 'meat', 'pasta-rice-and-grains']\n",
      "Number of filtered recipes: 32300\n"
     ]
    },
    {
     "name": "stderr",
     "output_type": "stream",
     "text": [
      "Processing Titles embeddings: 100%|██████████| 1/1 [00:00<00:00, 77.28batch/s]\n"
     ]
    },
    {
     "name": "stdout",
     "output_type": "stream",
     "text": [
      "Tags to match: ['main-dish', 'beef', 'meat']\n",
      "Number of filtered recipes: 28937\n"
     ]
    },
    {
     "name": "stderr",
     "output_type": "stream",
     "text": [
      "Processing Titles embeddings: 100%|██████████| 1/1 [00:00<00:00, 56.46batch/s]\n"
     ]
    },
    {
     "name": "stdout",
     "output_type": "stream",
     "text": [
      "Tags to match: ['main-dish', 'beef', 'meat']\n",
      "Number of filtered recipes: 28937\n"
     ]
    },
    {
     "name": "stderr",
     "output_type": "stream",
     "text": [
      "Processing Titles embeddings: 100%|██████████| 1/1 [00:00<00:00, 66.84batch/s]\n"
     ]
    },
    {
     "name": "stdout",
     "output_type": "stream",
     "text": [
      "Tags to match: ['main-dish', 'beef', 'meat']\n",
      "Number of filtered recipes: 28937\n"
     ]
    },
    {
     "name": "stderr",
     "output_type": "stream",
     "text": [
      "Processing Titles embeddings: 100%|██████████| 1/1 [00:00<00:00, 77.40batch/s]\n"
     ]
    },
    {
     "name": "stdout",
     "output_type": "stream",
     "text": [
      "Tags to match: ['main-dish', 'meat']\n",
      "Number of filtered recipes: 28937\n"
     ]
    },
    {
     "name": "stderr",
     "output_type": "stream",
     "text": [
      "Processing Titles embeddings: 100%|██████████| 1/1 [00:00<00:00, 52.69batch/s]\n"
     ]
    },
    {
     "name": "stdout",
     "output_type": "stream",
     "text": [
      "Tags to match: ['main-dish', 'beef', 'meat']\n",
      "Number of filtered recipes: 28937\n"
     ]
    },
    {
     "name": "stderr",
     "output_type": "stream",
     "text": [
      "Processing Titles embeddings: 100%|██████████| 1/1 [00:00<00:00, 64.30batch/s]\n"
     ]
    },
    {
     "name": "stdout",
     "output_type": "stream",
     "text": [
      "Tags to match: ['main-dish', 'beef', 'meat']\n",
      "Number of filtered recipes: 28937\n"
     ]
    },
    {
     "name": "stderr",
     "output_type": "stream",
     "text": [
      "Processing Titles embeddings: 100%|██████████| 1/1 [00:00<00:00, 67.22batch/s]\n"
     ]
    },
    {
     "name": "stdout",
     "output_type": "stream",
     "text": [
      "Tags to match: ['main-dish', 'beef', 'meat', 'pasta-rice-and-grains']\n",
      "Number of filtered recipes: 34344\n"
     ]
    },
    {
     "name": "stderr",
     "output_type": "stream",
     "text": [
      "Processing Titles embeddings: 100%|██████████| 1/1 [00:00<00:00, 68.11batch/s]\n"
     ]
    },
    {
     "name": "stdout",
     "output_type": "stream",
     "text": [
      "Tags to match: ['main-dish', 'beef', 'meat']\n",
      "Number of filtered recipes: 28937\n"
     ]
    },
    {
     "name": "stderr",
     "output_type": "stream",
     "text": [
      "Processing Titles embeddings: 100%|██████████| 1/1 [00:00<00:00, 62.28batch/s]\n"
     ]
    },
    {
     "name": "stdout",
     "output_type": "stream",
     "text": [
      "Tags to match: ['main-dish', 'chicken', 'meat']\n",
      "Number of filtered recipes: 28937\n"
     ]
    },
    {
     "name": "stderr",
     "output_type": "stream",
     "text": [
      "Processing Titles embeddings: 100%|██████████| 1/1 [00:00<00:00, 79.26batch/s]\n"
     ]
    },
    {
     "name": "stdout",
     "output_type": "stream",
     "text": [
      "Tags to match: ['beef', 'meat']\n",
      "Number of filtered recipes: 17375\n"
     ]
    },
    {
     "name": "stderr",
     "output_type": "stream",
     "text": [
      "Processing Titles embeddings: 100%|██████████| 1/1 [00:00<00:00, 62.61batch/s]\n"
     ]
    },
    {
     "name": "stdout",
     "output_type": "stream",
     "text": [
      "Tags to match: ['beef', 'meat']\n",
      "Number of filtered recipes: 17375\n"
     ]
    },
    {
     "name": "stderr",
     "output_type": "stream",
     "text": [
      "Processing Titles embeddings: 100%|██████████| 1/1 [00:00<00:00, 63.43batch/s]\n"
     ]
    },
    {
     "name": "stdout",
     "output_type": "stream",
     "text": [
      "Tags to match: ['main-dish', 'beef', 'meat']\n",
      "Number of filtered recipes: 28937\n"
     ]
    },
    {
     "name": "stderr",
     "output_type": "stream",
     "text": [
      "Processing Titles embeddings: 100%|██████████| 1/1 [00:00<00:00, 67.26batch/s]\n"
     ]
    },
    {
     "name": "stdout",
     "output_type": "stream",
     "text": [
      "Tags to match: ['main-dish', 'beef', 'pasta', 'meat', 'pasta-rice-and-grains']\n",
      "Number of filtered recipes: 34345\n"
     ]
    },
    {
     "name": "stderr",
     "output_type": "stream",
     "text": [
      "Processing Titles embeddings: 100%|██████████| 1/1 [00:00<00:00, 62.86batch/s]\n"
     ]
    },
    {
     "name": "stdout",
     "output_type": "stream",
     "text": [
      "Tags to match: ['main-dish', 'beef', 'meat']\n",
      "Number of filtered recipes: 28937\n"
     ]
    },
    {
     "name": "stderr",
     "output_type": "stream",
     "text": [
      "Processing Titles embeddings: 100%|██████████| 1/1 [00:00<00:00, 67.53batch/s]\n"
     ]
    },
    {
     "name": "stdout",
     "output_type": "stream",
     "text": [
      "Tags to match: ['main-dish']\n",
      "Number of filtered recipes: 24622\n"
     ]
    },
    {
     "name": "stderr",
     "output_type": "stream",
     "text": [
      "Processing Titles embeddings: 100%|██████████| 1/1 [00:00<00:00, 60.43batch/s]\n"
     ]
    },
    {
     "name": "stdout",
     "output_type": "stream",
     "text": [
      "Tags to match: ['main-dish', 'beef', 'meat']\n",
      "Number of filtered recipes: 28937\n"
     ]
    },
    {
     "name": "stderr",
     "output_type": "stream",
     "text": [
      "Processing Titles embeddings: 100%|██████████| 1/1 [00:00<00:00, 65.90batch/s]\n"
     ]
    },
    {
     "name": "stdout",
     "output_type": "stream",
     "text": [
      "Tags to match: ['beef', 'meat']\n",
      "Number of filtered recipes: 17375\n"
     ]
    },
    {
     "name": "stderr",
     "output_type": "stream",
     "text": [
      "Processing Titles embeddings: 100%|██████████| 1/1 [00:00<00:00, 79.86batch/s]\n"
     ]
    },
    {
     "name": "stdout",
     "output_type": "stream",
     "text": [
      "Tags to match: ['main-dish', 'beef', 'meat']\n",
      "Number of filtered recipes: 28937\n"
     ]
    },
    {
     "name": "stderr",
     "output_type": "stream",
     "text": [
      "Processing Titles embeddings: 100%|██████████| 1/1 [00:00<00:00, 64.44batch/s]\n"
     ]
    },
    {
     "name": "stdout",
     "output_type": "stream",
     "text": [
      "Tags to match: ['appetizers', 'beef', 'meat']\n",
      "Number of filtered recipes: 23411\n"
     ]
    },
    {
     "name": "stderr",
     "output_type": "stream",
     "text": [
      "Processing Titles embeddings: 100%|██████████| 1/1 [00:00<00:00, 67.64batch/s]\n"
     ]
    },
    {
     "name": "stdout",
     "output_type": "stream",
     "text": [
      "Tags to match: ['appetizers', 'breakfast', 'main-dish', 'beef', 'meat', 'pasta-rice-and-grains']\n",
      "Number of filtered recipes: 44796\n"
     ]
    },
    {
     "name": "stderr",
     "output_type": "stream",
     "text": [
      "Processing Titles embeddings: 100%|██████████| 1/1 [00:00<00:00, 65.27batch/s]\n"
     ]
    },
    {
     "name": "stdout",
     "output_type": "stream",
     "text": [
      "Tags to match: ['main-dish', 'pasta', 'pasta-rice-and-grains']\n",
      "Number of filtered recipes: 30436\n"
     ]
    },
    {
     "name": "stderr",
     "output_type": "stream",
     "text": [
      "Processing Titles embeddings: 100%|██████████| 1/1 [00:00<00:00, 63.88batch/s]\n"
     ]
    },
    {
     "name": "stdout",
     "output_type": "stream",
     "text": [
      "Tags to match: ['main-dish', 'beef', 'meat']\n",
      "Number of filtered recipes: 28937\n"
     ]
    },
    {
     "name": "stderr",
     "output_type": "stream",
     "text": [
      "Processing Titles embeddings: 100%|██████████| 1/1 [00:00<00:00, 67.93batch/s]\n"
     ]
    },
    {
     "name": "stdout",
     "output_type": "stream",
     "text": [
      "Tags to match: ['main-dish', 'beef', 'meat']\n",
      "Number of filtered recipes: 28937\n"
     ]
    },
    {
     "name": "stderr",
     "output_type": "stream",
     "text": [
      "Processing Titles embeddings: 100%|██████████| 1/1 [00:00<00:00, 64.99batch/s]\n"
     ]
    },
    {
     "name": "stdout",
     "output_type": "stream",
     "text": [
      "Tags to match: ['main-dish', 'beef', 'meat']\n",
      "Number of filtered recipes: 28937\n"
     ]
    },
    {
     "name": "stderr",
     "output_type": "stream",
     "text": [
      "Processing Titles embeddings: 100%|██████████| 1/1 [00:00<00:00, 69.16batch/s]\n"
     ]
    },
    {
     "name": "stdout",
     "output_type": "stream",
     "text": [
      "Tags to match: ['main-dish', 'beef', 'meat']\n",
      "Number of filtered recipes: 28937\n"
     ]
    },
    {
     "name": "stderr",
     "output_type": "stream",
     "text": [
      "Processing Titles embeddings: 100%|██████████| 1/1 [00:00<00:00, 64.87batch/s]\n"
     ]
    },
    {
     "name": "stdout",
     "output_type": "stream",
     "text": [
      "Tags to match: ['main-dish', 'beef', 'pasta', 'meat', 'pasta-rice-and-grains']\n",
      "Number of filtered recipes: 34345\n"
     ]
    },
    {
     "name": "stderr",
     "output_type": "stream",
     "text": [
      "Processing Titles embeddings: 100%|██████████| 1/1 [00:00<00:00, 62.87batch/s]\n"
     ]
    },
    {
     "name": "stdout",
     "output_type": "stream",
     "text": [
      "Tags to match: ['main-dish', 'side-dishes', 'beef', 'meat']\n",
      "Number of filtered recipes: 39622\n"
     ]
    },
    {
     "name": "stderr",
     "output_type": "stream",
     "text": [
      "Processing Titles embeddings: 100%|██████████| 1/1 [00:00<00:00, 65.38batch/s]\n"
     ]
    },
    {
     "name": "stdout",
     "output_type": "stream",
     "text": [
      "Tags to match: ['main-dish', 'beef', 'pasta', 'meat', 'pasta-rice-and-grains']\n",
      "Number of filtered recipes: 34345\n"
     ]
    },
    {
     "name": "stderr",
     "output_type": "stream",
     "text": [
      "Processing Titles embeddings: 100%|██████████| 1/1 [00:00<00:00, 67.51batch/s]\n"
     ]
    },
    {
     "name": "stdout",
     "output_type": "stream",
     "text": [
      "Tags to match: ['main-dish', 'seafood']\n",
      "Number of filtered recipes: 26549\n"
     ]
    },
    {
     "name": "stderr",
     "output_type": "stream",
     "text": [
      "Processing Titles embeddings: 100%|██████████| 1/1 [00:00<00:00, 63.63batch/s]\n"
     ]
    },
    {
     "name": "stdout",
     "output_type": "stream",
     "text": [
      "Tags to match: ['main-dish', 'beef', 'meat']\n",
      "Number of filtered recipes: 28937\n"
     ]
    },
    {
     "name": "stderr",
     "output_type": "stream",
     "text": [
      "Processing Titles embeddings: 100%|██████████| 1/1 [00:00<00:00, 67.31batch/s]\n"
     ]
    },
    {
     "name": "stdout",
     "output_type": "stream",
     "text": [
      "Tags to match: ['appetizers', 'main-dish', 'beef', 'meat']\n",
      "Number of filtered recipes: 34526\n"
     ]
    },
    {
     "name": "stderr",
     "output_type": "stream",
     "text": [
      "Processing Titles embeddings: 100%|██████████| 1/1 [00:00<00:00, 77.34batch/s]\n"
     ]
    },
    {
     "name": "stdout",
     "output_type": "stream",
     "text": [
      "Tags to match: ['main-dish', 'beef', 'pasta', 'meat', 'pasta-rice-and-grains']\n",
      "Number of filtered recipes: 34345\n"
     ]
    },
    {
     "name": "stderr",
     "output_type": "stream",
     "text": [
      "Processing Titles embeddings: 100%|██████████| 1/1 [00:00<00:00, 79.90batch/s]\n"
     ]
    },
    {
     "name": "stdout",
     "output_type": "stream",
     "text": [
      "Tags to match: ['side-dishes', 'beef', 'meat']\n",
      "Number of filtered recipes: 29377\n"
     ]
    },
    {
     "name": "stderr",
     "output_type": "stream",
     "text": [
      "Processing Titles embeddings: 100%|██████████| 1/1 [00:00<00:00, 79.88batch/s]\n"
     ]
    },
    {
     "name": "stdout",
     "output_type": "stream",
     "text": [
      "Tags to match: ['main-dish', 'beef', 'meat']\n",
      "Number of filtered recipes: 28937\n"
     ]
    },
    {
     "name": "stderr",
     "output_type": "stream",
     "text": [
      "Processing Titles embeddings: 100%|██████████| 1/1 [00:00<00:00, 52.31batch/s]\n"
     ]
    },
    {
     "name": "stdout",
     "output_type": "stream",
     "text": [
      "Tags to match: ['main-dish', 'beef', 'meat']\n",
      "Number of filtered recipes: 28937\n"
     ]
    },
    {
     "name": "stderr",
     "output_type": "stream",
     "text": [
      "Processing Titles embeddings: 100%|██████████| 1/1 [00:00<00:00, 64.27batch/s]\n"
     ]
    },
    {
     "name": "stdout",
     "output_type": "stream",
     "text": [
      "Tags to match: ['main-dish', 'beef', 'rice', 'meat', 'pasta-rice-and-grains']\n",
      "Number of filtered recipes: 34344\n"
     ]
    },
    {
     "name": "stderr",
     "output_type": "stream",
     "text": [
      "Processing Titles embeddings: 100%|██████████| 1/1 [00:00<00:00, 64.02batch/s]\n"
     ]
    },
    {
     "name": "stdout",
     "output_type": "stream",
     "text": [
      "Tags to match: ['beef', 'pasta', 'meat', 'pasta-rice-and-grains']\n",
      "Number of filtered recipes: 26858\n"
     ]
    },
    {
     "name": "stderr",
     "output_type": "stream",
     "text": [
      "Processing Titles embeddings: 100%|██████████| 1/1 [00:00<00:00, 79.65batch/s]\n"
     ]
    },
    {
     "name": "stdout",
     "output_type": "stream",
     "text": [
      "Tags to match: ['main-dish', 'beef', 'pasta', 'meat', 'pasta-rice-and-grains']\n",
      "Number of filtered recipes: 34345\n"
     ]
    },
    {
     "name": "stderr",
     "output_type": "stream",
     "text": [
      "Processing Titles embeddings: 100%|██████████| 1/1 [00:00<00:00, 63.84batch/s]\n"
     ]
    },
    {
     "name": "stdout",
     "output_type": "stream",
     "text": [
      "Tags to match: ['main-dish', 'beef', 'meat']\n",
      "Number of filtered recipes: 28937\n"
     ]
    },
    {
     "name": "stderr",
     "output_type": "stream",
     "text": [
      "Processing Titles embeddings: 100%|██████████| 1/1 [00:00<00:00, 71.89batch/s]\n"
     ]
    },
    {
     "name": "stdout",
     "output_type": "stream",
     "text": [
      "Tags to match: ['main-dish', 'beef', 'meat']\n",
      "Number of filtered recipes: 28937\n"
     ]
    },
    {
     "name": "stderr",
     "output_type": "stream",
     "text": [
      "Processing Titles embeddings: 100%|██████████| 1/1 [00:00<00:00, 66.01batch/s]\n"
     ]
    },
    {
     "name": "stdout",
     "output_type": "stream",
     "text": [
      "Tags to match: ['main-dish', 'beef', 'meat']\n",
      "Number of filtered recipes: 28937\n"
     ]
    },
    {
     "name": "stderr",
     "output_type": "stream",
     "text": [
      "Processing Titles embeddings: 100%|██████████| 1/1 [00:00<00:00, 67.27batch/s]\n"
     ]
    },
    {
     "name": "stdout",
     "output_type": "stream",
     "text": [
      "Tags to match: ['main-dish', 'beef', 'meat']\n",
      "Number of filtered recipes: 28937\n"
     ]
    },
    {
     "name": "stderr",
     "output_type": "stream",
     "text": [
      "Processing Titles embeddings: 100%|██████████| 1/1 [00:00<00:00, 63.33batch/s]\n"
     ]
    },
    {
     "name": "stdout",
     "output_type": "stream",
     "text": [
      "Tags to match: ['main-dish', 'beef', 'meat']\n",
      "Number of filtered recipes: 28937\n"
     ]
    },
    {
     "name": "stderr",
     "output_type": "stream",
     "text": [
      "Processing Titles embeddings: 100%|██████████| 1/1 [00:00<00:00, 65.05batch/s]\n"
     ]
    },
    {
     "name": "stdout",
     "output_type": "stream",
     "text": [
      "Tags to match: ['main-dish', 'beef', 'meat']\n",
      "Number of filtered recipes: 28937\n"
     ]
    },
    {
     "name": "stderr",
     "output_type": "stream",
     "text": [
      "Processing Titles embeddings: 100%|██████████| 1/1 [00:00<00:00, 66.83batch/s]\n"
     ]
    },
    {
     "name": "stdout",
     "output_type": "stream",
     "text": [
      "Tags to match: ['main-dish', 'beef', 'pasta', 'meat', 'pasta-rice-and-grains']\n",
      "Number of filtered recipes: 34345\n"
     ]
    },
    {
     "name": "stderr",
     "output_type": "stream",
     "text": [
      "Processing Titles embeddings: 100%|██████████| 1/1 [00:00<00:00, 78.41batch/s]\n"
     ]
    },
    {
     "name": "stdout",
     "output_type": "stream",
     "text": [
      "Tags to match: ['main-dish', 'beef', 'meat']\n",
      "Number of filtered recipes: 28937\n"
     ]
    },
    {
     "name": "stderr",
     "output_type": "stream",
     "text": [
      "Processing Titles embeddings: 100%|██████████| 1/1 [00:00<00:00, 71.11batch/s]\n"
     ]
    },
    {
     "name": "stdout",
     "output_type": "stream",
     "text": [
      "Tags to match: ['main-dish', 'meat']\n",
      "Number of filtered recipes: 28937\n"
     ]
    },
    {
     "name": "stderr",
     "output_type": "stream",
     "text": [
      "Processing Titles embeddings: 100%|██████████| 1/1 [00:00<00:00, 67.43batch/s]\n"
     ]
    },
    {
     "name": "stdout",
     "output_type": "stream",
     "text": [
      "Tags to match: ['main-dish', 'beef', 'meat']\n",
      "Number of filtered recipes: 28937\n"
     ]
    },
    {
     "name": "stderr",
     "output_type": "stream",
     "text": [
      "Processing Titles embeddings: 100%|██████████| 1/1 [00:00<00:00, 67.90batch/s]\n"
     ]
    },
    {
     "name": "stdout",
     "output_type": "stream",
     "text": [
      "Tags to match: ['main-dish', 'beef', 'meat']\n",
      "Number of filtered recipes: 28937\n"
     ]
    }
   ],
   "source": [
    "import json\n",
    "import pandas as pd\n",
    "\n",
    "# Assumi che 'SustainaMeal', 'acceptable_tags', 'nutrients_string', e 'recipe_titles' siano definiti\n",
    "\n",
    "# Parametri per gli esperimenti\n",
    "k_values = [1]\n",
    "match_all_tags_values = [False]\n",
    "\n",
    "# Funzione ausiliaria per convertire oggetti in formati serializzabili in JSON\n",
    "def convert_to_serializable(obj):\n",
    "    if hasattr(obj, 'to_dict'):\n",
    "        return obj.to_dict('records')\n",
    "    elif hasattr(obj, 'tolist'):\n",
    "        return obj.tolist()\n",
    "    elif isinstance(obj, (list, dict, str, int, float, bool, type(None))):\n",
    "        return obj\n",
    "    else:\n",
    "        return str(obj)\n",
    "\n",
    "results = []  # Lista per raccogliere i risultati degli esperimenti\n",
    "\n",
    "for index, row in selected_recipes.iterrows():\n",
    "    input_recipe = row['title']\n",
    "    match_results = {}  # Dizionario per memorizzare i risultati di match per ogni k\n",
    "    for k in k_values:\n",
    "        match_results[k] = {'exact_match': False, 'match_count': 0}  # Inizializza il conteggio e il match esatto per ogni k\n",
    "        for match_all_tags in match_all_tags_values:\n",
    "            try:\n",
    "                similar_recipes = sm.find_similar_recipes(input_recipe, k, acceptable_tags=acceptable_tags, match_all_tags=match_all_tags)\n",
    "                ordered_recipes = sm.order_recipe_by_sustainameal()\n",
    "                ordered_recipes_llama = sm.order_recipe_by_sustainameal()\n",
    "                result = {\n",
    "                    'recipe_name': input_recipe,\n",
    "                    'recipe_id': row['recipe_id'],\n",
    "                    'sustnability_score': row['sustainability_score'],\n",
    "                    'sustnability_label': row['sustainability_label'],\n",
    "                    'who_score': row['who_score'],\n",
    "                    'healthiness_label': row['healthiness_label'],\n",
    "                    'k': k,\n",
    "                    'nutrients': nutrients_string,\n",
    "                    'match_all_tags': match_all_tags,\n",
    "                    'similar_recipes': convert_to_serializable(similar_recipes) if similar_recipes is not None else None,\n",
    "                    'ordered_by_sustainameal': convert_to_serializable(ordered_recipes) if ordered_recipes is not None else None\n",
    "                }\n",
    "                results.append(result)\n",
    "            except Exception as e:\n",
    "                print(f\"An error occurred while finding similar recipes: {e}\")\n",
    "                best_choice_by_llama = None\n",
    "\n",
    "\n",
    "\n",
    "with open('experiment_results_with_llama_and_similarity_k_1.json', 'w') as f:\n",
    "    json.dump(results, f, ensure_ascii=False, indent=4)"
   ]
  },
  {
   "cell_type": "code",
   "execution_count": 26,
   "metadata": {},
   "outputs": [
    {
     "name": "stdout",
     "output_type": "stream",
     "text": [
      "   top_healthiness_increment_mean  top_sustainability_increment_mean  \\\n",
      "0                        2.335325                          68.132901   \n",
      "\n",
      "   top_sustainameal_score_increment_mean  llama_rerank  k  \n",
      "0                              54.280787         False  1  \n"
     ]
    }
   ],
   "source": [
    "import json\n",
    "import pandas as pd\n",
    "\n",
    "# Carica i dati dal file JSON\n",
    "with open('experiment_results_with_llama_and_similarity_k_1.json', 'r') as file:\n",
    "    experiment_data = json.load(file)\n",
    "\n",
    "# Converti i dati in un DataFrame\n",
    "experiment_df = pd.DataFrame(experiment_data)\n",
    "\n",
    "# Inizializza i contatori per gli incrementi\n",
    "top_healthiness_increments = []\n",
    "top_sustainability_increments = []\n",
    "top_sustainameal_score_increments = []\n",
    "\n",
    "# Calcola gli incrementi per le prime ricette in ordered_by_sustainameal\n",
    "for index, row in experiment_df.iterrows():\n",
    "    if row['ordered_by_sustainameal']:  # Controlla se la lista non è vuota\n",
    "        top_recipe = row['ordered_by_sustainameal'][0]  # Prende sempre la prima ricetta\n",
    "        top_healthiness_increments.append(top_recipe['healthiness_increment'])\n",
    "        top_sustainability_increments.append(top_recipe['sustainability_increment'])\n",
    "        top_sustainameal_score_increments.append(top_recipe['sustainameal_score_increment'])\n",
    "\n",
    "# Calcola le medie degli incrementi per le prime ricette\n",
    "average_top_healthiness_increment = sum(top_healthiness_increments) / len(top_healthiness_increments) if top_healthiness_increments else None\n",
    "average_top_sustainability_increment = sum(top_sustainability_increments) / len(top_sustainability_increments) if top_sustainability_increments else None\n",
    "average_top_sustainameal_score_increment = sum(top_sustainameal_score_increments) / len(top_sustainameal_score_increments) if top_sustainameal_score_increments else None\n",
    "\n",
    "# Crea un DataFrame con una riga contenente le medie\n",
    "top_results_df_1 = pd.DataFrame({\n",
    "    'top_healthiness_increment_mean': [average_top_healthiness_increment],\n",
    "    'top_sustainability_increment_mean': [average_top_sustainability_increment],\n",
    "    'top_sustainameal_score_increment_mean': [average_top_sustainameal_score_increment],\n",
    "    'llama_rerank': [False],\n",
    "    'k':1,\n",
    "})\n",
    "\n",
    "# Stampa il DataFrame dei risultati\n",
    "print(top_results_df_1)\n"
   ]
  },
  {
   "cell_type": "code",
   "execution_count": 27,
   "metadata": {},
   "outputs": [
    {
     "name": "stdout",
     "output_type": "stream",
     "text": [
      "   top_healthiness_increment_mean  top_sustainability_increment_mean  \\\n",
      "0                        4.159802                          76.082525   \n",
      "0                        6.040444                         127.944777   \n",
      "0                        2.335325                          68.132901   \n",
      "\n",
      "   top_sustainameal_score_increment_mean  llama_rerank   k  \n",
      "0                              61.033856          True  10  \n",
      "0                             102.857548         False  10  \n",
      "0                              54.280787         False   1  \n"
     ]
    }
   ],
   "source": [
    "# Concatenazione dei DataFrame\n",
    "final_results = pd.concat([llama_results_df, top_results_df_10, top_results_df_1])\n",
    "\n",
    "# Visualizzazione del DataFrame risultante\n",
    "print(final_results)"
   ]
  },
  {
   "cell_type": "code",
   "execution_count": 28,
   "metadata": {},
   "outputs": [],
   "source": [
    "# Funzione per colorare i valori in base al segno\n",
    "def color_negative_red_positive_green(value):\n",
    "    if value < 0:\n",
    "        return 'red'\n",
    "    elif value > 0:\n",
    "        return 'green'\n",
    "    else:\n",
    "        return 'black'\n",
    "\n",
    "# Funzione per colorare i valori in base al segno e arrotondare i numeri\n",
    "def apply_formatting(tbl, df):\n",
    "    num_cols = df.shape[1]  # Ottiene il numero di colonne nel DataFrame\n",
    "    for (i, j), cell in tbl.get_celld().items():\n",
    "        # Salta le prime due colonne, l'intestazione, e l'ultima colonna\n",
    "        if j == num_cols-1:\n",
    "            continue\n",
    "        val = cell.get_text().get_text()\n",
    "        try:\n",
    "            num = float(val)\n",
    "            cell.get_text().set_text(f'{num:.2f}')\n",
    "            cell.get_text().set_color('green' if num > 0 else 'red' if num < 0 else 'black')\n",
    "        except ValueError:\n",
    "            pass  # Non è un numero, non fare nulla\n",
    "\n",
    "\n",
    "\n",
    "def abbreviate_column_names(df):\n",
    "    abbreviations = {'top_healthiness_increment_mean': 'Top_H_inc_mean',\n",
    "                     'top_sustainability_increment_mean': 'Top_S_inc_mean',\n",
    "                     'top_sustainameal_score_increment_mean': 'Top_SM_inc_mean'}\n",
    "    return df.rename(columns=abbreviations)\n",
    "\n",
    "\n",
    "final_results = abbreviate_column_names(final_results)"
   ]
  },
  {
   "cell_type": "code",
   "execution_count": 29,
   "metadata": {},
   "outputs": [
    {
     "data": {
      "text/html": [
       "<div>\n",
       "<style scoped>\n",
       "    .dataframe tbody tr th:only-of-type {\n",
       "        vertical-align: middle;\n",
       "    }\n",
       "\n",
       "    .dataframe tbody tr th {\n",
       "        vertical-align: top;\n",
       "    }\n",
       "\n",
       "    .dataframe thead th {\n",
       "        text-align: right;\n",
       "    }\n",
       "</style>\n",
       "<table border=\"1\" class=\"dataframe\">\n",
       "  <thead>\n",
       "    <tr style=\"text-align: right;\">\n",
       "      <th></th>\n",
       "      <th>Top_H_inc_mean</th>\n",
       "      <th>Top_S_inc_mean</th>\n",
       "      <th>Top_SM_inc_mean</th>\n",
       "      <th>llama_rerank</th>\n",
       "      <th>k</th>\n",
       "    </tr>\n",
       "  </thead>\n",
       "  <tbody>\n",
       "    <tr>\n",
       "      <th>0</th>\n",
       "      <td>4.159802</td>\n",
       "      <td>76.082525</td>\n",
       "      <td>61.033856</td>\n",
       "      <td>True</td>\n",
       "      <td>10</td>\n",
       "    </tr>\n",
       "    <tr>\n",
       "      <th>0</th>\n",
       "      <td>6.040444</td>\n",
       "      <td>127.944777</td>\n",
       "      <td>102.857548</td>\n",
       "      <td>False</td>\n",
       "      <td>10</td>\n",
       "    </tr>\n",
       "    <tr>\n",
       "      <th>0</th>\n",
       "      <td>2.335325</td>\n",
       "      <td>68.132901</td>\n",
       "      <td>54.280787</td>\n",
       "      <td>False</td>\n",
       "      <td>1</td>\n",
       "    </tr>\n",
       "  </tbody>\n",
       "</table>\n",
       "</div>"
      ],
      "text/plain": [
       "   Top_H_inc_mean  Top_S_inc_mean  Top_SM_inc_mean  llama_rerank   k\n",
       "0        4.159802       76.082525        61.033856          True  10\n",
       "0        6.040444      127.944777       102.857548         False  10\n",
       "0        2.335325       68.132901        54.280787         False   1"
      ]
     },
     "execution_count": 29,
     "metadata": {},
     "output_type": "execute_result"
    }
   ],
   "source": [
    "final_results"
   ]
  },
  {
   "cell_type": "code",
   "execution_count": 30,
   "metadata": {},
   "outputs": [
    {
     "data": {
      "image/png": "[encoded data removed]",
      "text/plain": [
       "<Figure size 1000x300 with 1 Axes>"
      ]
     },
     "metadata": {},
     "output_type": "display_data"
    }
   ],
   "source": [
    "import pandas as pd\n",
    "import matplotlib.pyplot as plt\n",
    "\n",
    "\n",
    "fig, ax = plt.subplots(figsize=(10, 3))\n",
    "\n",
    "ax.axis('off')\n",
    "\n",
    "tbl = ax.table(\n",
    "    cellText=final_results.values,\n",
    "    colLabels=final_results.columns,\n",
    "    loc='center',\n",
    "    cellLoc='center',\n",
    ")\n",
    "\n",
    "apply_formatting(tbl, final_results)  # Applica il colore e l'arrotondamento qui\n",
    "\n",
    "tbl.auto_set_font_size(False)\n",
    "tbl.set_fontsize(10)\n",
    "tbl.scale(1.2, 1.2)\n",
    "\n",
    "plt.show()"
   ]
  }
 ],
 "metadata": {
  "kernelspec": {
   "display_name": "venv",
   "language": "python",
   "name": "python3"
  },
  "language_info": {
   "codemirror_mode": {
    "name": "ipython",
    "version": 3
   },
   "file_extension": ".py",
   "mimetype": "text/x-python",
   "name": "python",
   "nbconvert_exporter": "python",
   "pygments_lexer": "ipython3",
   "version": "3.8.10"
  }
 },
 "nbformat": 4,
 "nbformat_minor": 2
}
